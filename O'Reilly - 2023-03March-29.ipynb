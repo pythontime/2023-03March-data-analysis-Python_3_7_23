{
 "cells": [
  {
   "cell_type": "markdown",
   "id": "eebb19ca",
   "metadata": {},
   "source": [
    "# Week 4: Text and time\n",
    "\n",
    "1. Text\n",
    "    - Dealing with text data\n",
    "    - Cleaning dirty integer data\n",
    "    - Textual statistics \n",
    "    - Trimming strings\n",
    "2. Dates and times\n",
    "    - What does it mean to have dates and times in programming / data?\n",
    "    - Time deltas\n",
    "    - Time series\n",
    "    - Resampling "
   ]
  },
  {
   "cell_type": "code",
   "execution_count": 2,
   "id": "122c4447",
   "metadata": {},
   "outputs": [],
   "source": [
    "import numpy as np\n",
    "import pandas as pd\n",
    "from pandas import Series, DataFrame"
   ]
  },
  {
   "cell_type": "code",
   "execution_count": 3,
   "id": "a4769d34",
   "metadata": {},
   "outputs": [
    {
     "data": {
      "text/plain": [
       "0    10\n",
       "1    20\n",
       "2    30\n",
       "3    40\n",
       "4    50\n",
       "dtype: int64"
      ]
     },
     "execution_count": 3,
     "metadata": {},
     "output_type": "execute_result"
    }
   ],
   "source": [
    "# if I create a series of integers, the dtype will (by default) be an integer type (np.int64)\n",
    "\n",
    "s = Series([10, 20, 30, 40, 50])\n",
    "s"
   ]
  },
  {
   "cell_type": "code",
   "execution_count": 4,
   "id": "3e27a894",
   "metadata": {},
   "outputs": [
    {
     "data": {
      "text/plain": [
       "0     this\n",
       "1       is\n",
       "2        a\n",
       "3    bunch\n",
       "4       of\n",
       "5    words\n",
       "dtype: object"
      ]
     },
     "execution_count": 4,
     "metadata": {},
     "output_type": "execute_result"
    }
   ],
   "source": [
    "# what if, though, I have a series of strings?\n",
    "\n",
    "s = Series('this is a bunch of words'.split())\n",
    "s"
   ]
  },
  {
   "cell_type": "markdown",
   "id": "a52abc59",
   "metadata": {},
   "source": [
    "The `object` dtype in Pandas means: I'm not storing this in NumPy, because it's easier for me to think of it as a Python object. Really, in the back-end NumPy storage, I just have a \"pointer,\" or a \"reference,\" to the memory location of the Python object.\n",
    "\n",
    "If you see a `dtype` of `object`, the odds are pretty good that it contains strings.\n",
    "\n",
    "Pandas is moving, slowly but surely, toward having its own string types, but we don't have to worry about that right now.\n",
    "\n",
    "Let's say I want to find out how long each of these strings is. How can I do that? Python pro"
   ]
  },
  {
   "cell_type": "code",
   "execution_count": null,
   "id": "d2e97c63",
   "metadata": {},
   "outputs": [],
   "source": []
  }
 ],
 "metadata": {
  "kernelspec": {
   "display_name": "Python 3 (ipykernel)",
   "language": "python",
   "name": "python3"
  },
  "language_info": {
   "codemirror_mode": {
    "name": "ipython",
    "version": 3
   },
   "file_extension": ".py",
   "mimetype": "text/x-python",
   "name": "python",
   "nbconvert_exporter": "python",
   "pygments_lexer": "ipython3",
   "version": "3.11.2"
  }
 },
 "nbformat": 4,
 "nbformat_minor": 5
}

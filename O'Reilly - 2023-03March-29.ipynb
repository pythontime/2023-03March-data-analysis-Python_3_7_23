{
 "cells": [
  {
   "cell_type": "markdown",
   "id": "52433a6d",
   "metadata": {},
   "source": [
    "# Week 4: Text and time\n",
    "\n",
    "1. Text\n",
    "    - Dealing with text data\n",
    "    - Cleaning dirty integer data\n",
    "    - Textual statistics \n",
    "    - Trimming strings\n",
    "2. Dates and times\n",
    "    - What does it mean to have dates and times in programming / data?\n",
    "    - Time deltas\n",
    "    - Time series\n",
    "    - Resampling "
   ]
  },
  {
   "cell_type": "code",
   "execution_count": 2,
   "id": "ce2b12d1",
   "metadata": {},
   "outputs": [],
   "source": [
    "import numpy as np\n",
    "import pandas as pd\n",
    "from pandas import Series, DataFrame"
   ]
  },
  {
   "cell_type": "code",
   "execution_count": 3,
   "id": "3597f773",
   "metadata": {},
   "outputs": [
    {
     "data": {
      "text/plain": [
       "0    10\n",
       "1    20\n",
       "2    30\n",
       "3    40\n",
       "4    50\n",
       "dtype: int64"
      ]
     },
     "execution_count": 3,
     "metadata": {},
     "output_type": "execute_result"
    }
   ],
   "source": [
    "# if I create a series of integers, the dtype will (by default) be an integer type (np.int64)\n",
    "\n",
    "s = Series([10, 20, 30, 40, 50])\n",
    "s"
   ]
  },
  {
   "cell_type": "code",
   "execution_count": 4,
   "id": "8565ed9b",
   "metadata": {},
   "outputs": [
    {
     "data": {
      "text/plain": [
       "0     this\n",
       "1       is\n",
       "2        a\n",
       "3    bunch\n",
       "4       of\n",
       "5    words\n",
       "dtype: object"
      ]
     },
     "execution_count": 4,
     "metadata": {},
     "output_type": "execute_result"
    }
   ],
   "source": [
    "# what if, though, I have a series of strings?\n",
    "\n",
    "s = Series('this is a bunch of words'.split())\n",
    "s"
   ]
  },
  {
   "cell_type": "markdown",
   "id": "76bdf6f6",
   "metadata": {},
   "source": [
    "The `object` dtype in Pandas means: I'm not storing this in NumPy, because it's easier for me to think of it as a Python object. Really, in the back-end NumPy storage, I just have a \"pointer,\" or a \"reference,\" to the memory location of the Python object.\n",
    "\n",
    "If you see a `dtype` of `object`, the odds are pretty good that it contains strings.\n",
    "\n",
    "Pandas is moving, slowly but surely, toward having its own string types, but we don't have to worry about that right now.\n",
    "\n",
    "Let's say I want to find out how long each of these strings is. How can I do that? Python provides me with the `len` function, so can I run that on my series?"
   ]
  },
  {
   "cell_type": "code",
   "execution_count": 5,
   "id": "aae363e4",
   "metadata": {},
   "outputs": [
    {
     "data": {
      "text/plain": [
       "6"
      ]
     },
     "execution_count": 5,
     "metadata": {},
     "output_type": "execute_result"
    }
   ],
   "source": [
    "len(s)  # this returns the length of the series, not of the individual strings in the series"
   ]
  },
  {
   "cell_type": "code",
   "execution_count": 7,
   "id": "8637aeea",
   "metadata": {},
   "outputs": [
    {
     "name": "stdout",
     "output_type": "stream",
     "text": [
      "4\n",
      "2\n",
      "1\n",
      "5\n",
      "2\n",
      "5\n"
     ]
    }
   ],
   "source": [
    "# what about a for loop?\n",
    "\n",
    "for one_item in s:\n",
    "    print(len(one_item))    # don't do this!"
   ]
  },
  {
   "cell_type": "markdown",
   "id": "53c1a096",
   "metadata": {},
   "source": [
    "Pandas provides us with a special attribute, known as an \"accessor,\" which lets us invoke string methods on every element in our series, one at a time.  Instead of invoking a `for` loop, we can have Pandas do that on our behalf, and do it at the low level that makes things faster.\n",
    "\n",
    "The key, then, is to use this accessor, known as `.str`.\n",
    "\n"
   ]
  },
  {
   "cell_type": "code",
   "execution_count": 8,
   "id": "780f3e80",
   "metadata": {},
   "outputs": [
    {
     "data": {
      "text/plain": [
       "<pandas.core.strings.accessor.StringMethods at 0x12194fd50>"
      ]
     },
     "execution_count": 8,
     "metadata": {},
     "output_type": "execute_result"
    }
   ],
   "source": [
    "s.str    # this brings up the accessor"
   ]
  },
  {
   "cell_type": "code",
   "execution_count": 9,
   "id": "3e62453d",
   "metadata": {},
   "outputs": [
    {
     "data": {
      "text/plain": [
       "0    4\n",
       "1    2\n",
       "2    1\n",
       "3    5\n",
       "4    2\n",
       "5    5\n",
       "dtype: int64"
      ]
     },
     "execution_count": 9,
     "metadata": {},
     "output_type": "execute_result"
    }
   ],
   "source": [
    "s.str.len()    # notice -- we're invoking the method via the str accessor"
   ]
  },
  {
   "cell_type": "markdown",
   "id": "a6f1803a",
   "metadata": {},
   "source": [
    "After invoking `s.str.len()`, we get back a new series, with the same index as `s`, and with the same length as `s`, but with values representing invoking `len` on each of the elements of `s`.\n",
    "\n",
    "The `dtype` is now `int64`, because we get integers from running `len`."
   ]
  },
  {
   "cell_type": "code",
   "execution_count": 10,
   "id": "3df532db",
   "metadata": {},
   "outputs": [
    {
     "name": "stdout",
     "output_type": "stream",
     "text": [
      "73.5 µs ± 1.26 µs per loop (mean ± std. dev. of 7 runs, 10,000 loops each)\n"
     ]
    }
   ],
   "source": [
    "# let's do a little benchmarking to see which is faster\n",
    "# I'll use the Jupyter magic method %timeit to run my code\n",
    "\n",
    "%timeit s.str.len()"
   ]
  },
  {
   "cell_type": "code",
   "execution_count": 12,
   "id": "f31f20d2",
   "metadata": {},
   "outputs": [
    {
     "name": "stdout",
     "output_type": "stream",
     "text": [
      "40 µs ± 565 ns per loop (mean ± std. dev. of 7 runs, 10,000 loops each)\n"
     ]
    }
   ],
   "source": [
    "# let's compare it with a list comprehension\n",
    "\n",
    "%timeit Series([len(one_item) for one_item in s])"
   ]
  },
  {
   "cell_type": "markdown",
   "id": "66c7a630",
   "metadata": {},
   "source": [
    "What methods do we have available to us via the `str` accessor?\n",
    "\n",
    "- All of the builtin `str` methods in Python\n",
    "- A bunch of methods that implement Python's operators (e.g., `[]` and `in`)\n",
    "- Some other methods that we got from other languages, such as R"
   ]
  },
  {
   "cell_type": "code",
   "execution_count": null,
   "id": "61517568",
   "metadata": {},
   "outputs": [],
   "source": [
    "s.str."
   ]
  }
 ],
 "metadata": {
  "kernelspec": {
   "display_name": "Python 3 (ipykernel)",
   "language": "python",
   "name": "python3"
  },
  "language_info": {
   "codemirror_mode": {
    "name": "ipython",
    "version": 3
   },
   "file_extension": ".py",
   "mimetype": "text/x-python",
   "name": "python",
   "nbconvert_exporter": "python",
   "pygments_lexer": "ipython3",
   "version": "3.11.2"
  }
 },
 "nbformat": 4,
 "nbformat_minor": 5
}

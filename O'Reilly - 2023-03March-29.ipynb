{
 "cells": [
  {
   "cell_type": "markdown",
   "id": "19d39878",
   "metadata": {},
   "source": [
    "# Week 4: Text and time\n",
    "\n",
    "1. Text\n",
    "    - Dealing with text data\n",
    "    - Cleaning dirty integer data\n",
    "    - Textual statistics \n",
    "    - Trimming strings\n",
    "2. Dates and times\n",
    "    - What does it mean to have dates and times in programming / data?\n",
    "    - Time deltas\n",
    "    - Time series\n",
    "    - Resampling "
   ]
  },
  {
   "cell_type": "code",
   "execution_count": 2,
   "id": "010ace6e",
   "metadata": {},
   "outputs": [],
   "source": [
    "import numpy as np\n",
    "import pandas as pd\n",
    "from pandas import Series, DataFrame"
   ]
  },
  {
   "cell_type": "code",
   "execution_count": 3,
   "id": "e71b2da2",
   "metadata": {},
   "outputs": [
    {
     "data": {
      "text/plain": [
       "0    10\n",
       "1    20\n",
       "2    30\n",
       "3    40\n",
       "4    50\n",
       "dtype: int64"
      ]
     },
     "execution_count": 3,
     "metadata": {},
     "output_type": "execute_result"
    }
   ],
   "source": [
    "# if I create a series of integers, the dtype will (by default) be an integer type (np.int64)\n",
    "\n",
    "s = Series([10, 20, 30, 40, 50])\n",
    "s"
   ]
  },
  {
   "cell_type": "code",
   "execution_count": 4,
   "id": "1790db9d",
   "metadata": {},
   "outputs": [
    {
     "data": {
      "text/plain": [
       "0     this\n",
       "1       is\n",
       "2        a\n",
       "3    bunch\n",
       "4       of\n",
       "5    words\n",
       "dtype: object"
      ]
     },
     "execution_count": 4,
     "metadata": {},
     "output_type": "execute_result"
    }
   ],
   "source": [
    "# what if, though, I have a series of strings?\n",
    "\n",
    "s = Series('this is a bunch of words'.split())\n",
    "s"
   ]
  },
  {
   "cell_type": "markdown",
   "id": "6149de7b",
   "metadata": {},
   "source": [
    "The `object` dtype in Pandas means: I'm not storing this in NumPy, because it's easier for me to think of it as a Python object. Really, in the back-end NumPy storage, I just have a \"pointer,\" or a \"reference,\" to the memory location of the Python object.\n",
    "\n",
    "If you see a `dtype` of `object`, the odds are pretty good that it contains strings.\n",
    "\n",
    "Pandas is moving, slowly but surely, toward having its own string types, but we don't have to worry about that right now.\n",
    "\n",
    "Let's say I want to find out how long each of these strings is. How can I do that? Python provides me with the `len` function, so can I run that on my series?"
   ]
  },
  {
   "cell_type": "code",
   "execution_count": 5,
   "id": "b8aacffd",
   "metadata": {},
   "outputs": [
    {
     "data": {
      "text/plain": [
       "6"
      ]
     },
     "execution_count": 5,
     "metadata": {},
     "output_type": "execute_result"
    }
   ],
   "source": [
    "len(s)  # this returns the length of the series, not of the individual strings in the series"
   ]
  },
  {
   "cell_type": "code",
   "execution_count": 7,
   "id": "855bbd1f",
   "metadata": {},
   "outputs": [
    {
     "name": "stdout",
     "output_type": "stream",
     "text": [
      "4\n",
      "2\n",
      "1\n",
      "5\n",
      "2\n",
      "5\n"
     ]
    }
   ],
   "source": [
    "# what about a for loop?\n",
    "\n",
    "for one_item in s:\n",
    "    print(len(one_item))    # don't do this!"
   ]
  },
  {
   "cell_type": "markdown",
   "id": "6d99419a",
   "metadata": {},
   "source": [
    "Pandas provides us with a special attribute, known as an \"accessor,\" which lets us invoke string methods on every element in our series, one at a time.  Instead of invoking a `for` loop, we can have Pandas do that on our behalf, and do it at the low level that makes things faster.\n",
    "\n",
    "The key, then, is to use this accessor, known as `.str`.\n",
    "\n"
   ]
  },
  {
   "cell_type": "code",
   "execution_count": 8,
   "id": "be6fa31f",
   "metadata": {},
   "outputs": [
    {
     "data": {
      "text/plain": [
       "<pandas.core.strings.accessor.StringMethods at 0x12194fd50>"
      ]
     },
     "execution_count": 8,
     "metadata": {},
     "output_type": "execute_result"
    }
   ],
   "source": [
    "s.str    # this brings up the accessor"
   ]
  },
  {
   "cell_type": "code",
   "execution_count": 9,
   "id": "bc4c2309",
   "metadata": {},
   "outputs": [
    {
     "data": {
      "text/plain": [
       "0    4\n",
       "1    2\n",
       "2    1\n",
       "3    5\n",
       "4    2\n",
       "5    5\n",
       "dtype: int64"
      ]
     },
     "execution_count": 9,
     "metadata": {},
     "output_type": "execute_result"
    }
   ],
   "source": [
    "s.str.len()    # notice -- we're invoking the method via the str accessor"
   ]
  },
  {
   "cell_type": "markdown",
   "id": "b3862557",
   "metadata": {},
   "source": [
    "After invoking `s.str.len()`, we get back a new series, with the same index as `s`, and with the same length as `s`, but with values representing invoking `len` on each of the elements of `s`.\n",
    "\n",
    "The `dtype` is now `int64`, because we get integers from running `len`."
   ]
  },
  {
   "cell_type": "code",
   "execution_count": 10,
   "id": "5fa83700",
   "metadata": {},
   "outputs": [
    {
     "name": "stdout",
     "output_type": "stream",
     "text": [
      "73.5 µs ± 1.26 µs per loop (mean ± std. dev. of 7 runs, 10,000 loops each)\n"
     ]
    }
   ],
   "source": [
    "# let's do a little benchmarking to see which is faster\n",
    "# I'll use the Jupyter magic method %timeit to run my code\n",
    "\n",
    "%timeit s.str.len()"
   ]
  },
  {
   "cell_type": "code",
   "execution_count": 12,
   "id": "2c5fd468",
   "metadata": {},
   "outputs": [
    {
     "name": "stdout",
     "output_type": "stream",
     "text": [
      "40 µs ± 565 ns per loop (mean ± std. dev. of 7 runs, 10,000 loops each)\n"
     ]
    }
   ],
   "source": [
    "# let's compare it with a list comprehension\n",
    "\n",
    "%timeit Series([len(one_item) for one_item in s])"
   ]
  },
  {
   "cell_type": "markdown",
   "id": "68414d71",
   "metadata": {},
   "source": [
    "What methods do we have available to us via the `str` accessor?\n",
    "\n",
    "- All of the builtin `str` methods in Python\n",
    "- A bunch of methods that implement Python's operators (e.g., `[]` and `in`)\n",
    "- Some other methods that we got from other languages, such as R"
   ]
  },
  {
   "cell_type": "code",
   "execution_count": 13,
   "id": "c8b27f36",
   "metadata": {},
   "outputs": [
    {
     "data": {
      "text/plain": [
       "0       tHiS\n",
       "1         iS\n",
       "2          a\n",
       "3       vErY\n",
       "4      wEiRd\n",
       "5    lOoKiNg\n",
       "6        sEt\n",
       "7         oF\n",
       "8      wOrDs\n",
       "dtype: object"
      ]
     },
     "execution_count": 13,
     "metadata": {},
     "output_type": "execute_result"
    }
   ],
   "source": [
    "s = Series('tHiS iS a vErY wEiRd lOoKiNg sEt oF wOrDs'.split())\n",
    "s"
   ]
  },
  {
   "cell_type": "code",
   "execution_count": 14,
   "id": "015b0057",
   "metadata": {},
   "outputs": [
    {
     "data": {
      "text/plain": [
       "0       this\n",
       "1         is\n",
       "2          a\n",
       "3       very\n",
       "4      weird\n",
       "5    looking\n",
       "6        set\n",
       "7         of\n",
       "8      words\n",
       "dtype: object"
      ]
     },
     "execution_count": 14,
     "metadata": {},
     "output_type": "execute_result"
    }
   ],
   "source": [
    "s.str.lower()   # this returns a new series in which all of the letters have been forced to lowercase"
   ]
  },
  {
   "cell_type": "code",
   "execution_count": 15,
   "id": "88f0c5f7",
   "metadata": {},
   "outputs": [
    {
     "data": {
      "text/plain": [
       "0       This\n",
       "1         Is\n",
       "2          A\n",
       "3       Very\n",
       "4      Weird\n",
       "5    Looking\n",
       "6        Set\n",
       "7         Of\n",
       "8      Words\n",
       "dtype: object"
      ]
     },
     "execution_count": 15,
     "metadata": {},
     "output_type": "execute_result"
    }
   ],
   "source": [
    "s.str.capitalize()"
   ]
  },
  {
   "cell_type": "code",
   "execution_count": 16,
   "id": "576d9af8",
   "metadata": {},
   "outputs": [
    {
     "data": {
      "text/plain": [
       "0       ThIs\n",
       "1         Is\n",
       "2          A\n",
       "3       VeRy\n",
       "4      WeIrD\n",
       "5    LoOkInG\n",
       "6        SeT\n",
       "7         Of\n",
       "8      WoRdS\n",
       "dtype: object"
      ]
     },
     "execution_count": 16,
     "metadata": {},
     "output_type": "execute_result"
    }
   ],
   "source": [
    "s.str.swapcase()   # the most useless method in Python's standard library"
   ]
  },
  {
   "cell_type": "code",
   "execution_count": 17,
   "id": "c1a918ca",
   "metadata": {},
   "outputs": [
    {
     "data": {
      "text/plain": [
       "0       tHiS\n",
       "1         iS\n",
       "2          a\n",
       "3       vErY\n",
       "4      wEiRd\n",
       "5    lOoKiNg\n",
       "6        sEt\n",
       "7         oF\n",
       "8      wOrDs\n",
       "dtype: object"
      ]
     },
     "execution_count": 17,
     "metadata": {},
     "output_type": "execute_result"
    }
   ],
   "source": [
    "# this won't have any obvious effect now, but it might in some cases\n",
    "\n",
    "s.str.strip()   # this removes leading/trailing whitespace from our strings"
   ]
  },
  {
   "cell_type": "markdown",
   "id": "311a6473",
   "metadata": {},
   "source": [
    "# Exercise: Longer-than average words\n",
    "\n",
    "1. Create a series of at last 10 strings of different lengths.\n",
    "2. Find all of those words in the series that are longer than average (in your series). "
   ]
  },
  {
   "cell_type": "code",
   "execution_count": 18,
   "id": "6fb82d01",
   "metadata": {},
   "outputs": [
    {
     "data": {
      "text/plain": [
       "0            this\n",
       "1              is\n",
       "2               a\n",
       "3       fantastic\n",
       "4             and\n",
       "5       wonderful\n",
       "6             and\n",
       "7       extremely\n",
       "8     interesting\n",
       "9          series\n",
       "10             of\n",
       "11          words\n",
       "dtype: object"
      ]
     },
     "execution_count": 18,
     "metadata": {},
     "output_type": "execute_result"
    }
   ],
   "source": [
    "s = Series('this is a fantastic and wonderful and extremely interesting series of words'.split())\n",
    "s"
   ]
  },
  {
   "cell_type": "code",
   "execution_count": 19,
   "id": "b0c9c2e8",
   "metadata": {},
   "outputs": [
    {
     "data": {
      "text/plain": [
       "0      4\n",
       "1      2\n",
       "2      1\n",
       "3      9\n",
       "4      3\n",
       "5      9\n",
       "6      3\n",
       "7      9\n",
       "8     11\n",
       "9      6\n",
       "10     2\n",
       "11     5\n",
       "dtype: int64"
      ]
     },
     "execution_count": 19,
     "metadata": {},
     "output_type": "execute_result"
    }
   ],
   "source": [
    "# how can I get the lengths of the words? with .str.len()\n",
    "\n",
    "s.str.len()"
   ]
  },
  {
   "cell_type": "code",
   "execution_count": 20,
   "id": "c8aa8fc0",
   "metadata": {},
   "outputs": [
    {
     "data": {
      "text/plain": [
       "5.333333333333333"
      ]
     },
     "execution_count": 20,
     "metadata": {},
     "output_type": "execute_result"
    }
   ],
   "source": [
    "s.str.len().mean()  # calculate the mean word length"
   ]
  },
  {
   "cell_type": "code",
   "execution_count": 23,
   "id": "cf486b0e",
   "metadata": {},
   "outputs": [
    {
     "data": {
      "text/plain": [
       "3      fantastic\n",
       "5      wonderful\n",
       "7      extremely\n",
       "8    interesting\n",
       "9         series\n",
       "dtype: object"
      ]
     },
     "execution_count": 23,
     "metadata": {},
     "output_type": "execute_result"
    }
   ],
   "source": [
    "# which of the words in s are longer than the mean length?\n",
    "\n",
    "# (1) calculate the mean with s.str.len().mean()\n",
    "# (2) compare with the length of each word, s.str.len()\n",
    "# (3) apply that boolean series to s.loc\n",
    "# (4) we get back a series of words -- those longer than the mean\n",
    "\n",
    "s.loc[s.str.len() > s.str.len().mean()]"
   ]
  },
  {
   "cell_type": "code",
   "execution_count": 24,
   "id": "52842f8b",
   "metadata": {},
   "outputs": [],
   "source": [
    "# a series in which some words are capitalized\n",
    "\n",
    "s = Series('this is a Fantastic and Wonderful and extremely Interesting series of Words'.split())\n"
   ]
  },
  {
   "cell_type": "code",
   "execution_count": 27,
   "id": "d6039fac",
   "metadata": {},
   "outputs": [
    {
     "data": {
      "text/plain": [
       "0          this\n",
       "1            is\n",
       "2             a\n",
       "4           and\n",
       "6           and\n",
       "7     extremely\n",
       "9        series\n",
       "10           of\n",
       "dtype: object"
      ]
     },
     "execution_count": 27,
     "metadata": {},
     "output_type": "execute_result"
    }
   ],
   "source": [
    "# which of these words are *not* capitalized?\n",
    "\n",
    "s.loc[s == s.str.lower()]"
   ]
  },
  {
   "cell_type": "code",
   "execution_count": 29,
   "id": "c4d0225b",
   "metadata": {},
   "outputs": [
    {
     "data": {
      "text/plain": [
       "5      Wonderful\n",
       "7      extremely\n",
       "8    Interesting\n",
       "9         series\n",
       "dtype: object"
      ]
     },
     "execution_count": 29,
     "metadata": {},
     "output_type": "execute_result"
    }
   ],
   "source": [
    "# what if I want to find all of those words that contain the letter 'e'?\n",
    "\n",
    "s.loc[s.str.contains('e')]"
   ]
  },
  {
   "cell_type": "code",
   "execution_count": 30,
   "id": "c559a009",
   "metadata": {},
   "outputs": [
    {
     "data": {
      "text/plain": [
       "0           this\n",
       "1             is\n",
       "3      Fantastic\n",
       "8    Interesting\n",
       "9         series\n",
       "dtype: object"
      ]
     },
     "execution_count": 30,
     "metadata": {},
     "output_type": "execute_result"
    }
   ],
   "source": [
    "# what if I want to find all of those words that contain the letter 'i'?\n",
    "\n",
    "s.loc[s.str.contains('i')]"
   ]
  },
  {
   "cell_type": "code",
   "execution_count": 31,
   "id": "7a3da381",
   "metadata": {},
   "outputs": [
    {
     "data": {
      "text/plain": [
       "0           this\n",
       "1             is\n",
       "3      Fantastic\n",
       "5      Wonderful\n",
       "7      extremely\n",
       "8    Interesting\n",
       "9         series\n",
       "dtype: object"
      ]
     },
     "execution_count": 31,
     "metadata": {},
     "output_type": "execute_result"
    }
   ],
   "source": [
    "# what if I want to find all of those words that contain *either* e or i?\n",
    "\n",
    "# I could use | as an \"or\" to combine conditions\n",
    "s.loc[(s.str.contains('e')) | (s.str.contains('i'))]"
   ]
  },
  {
   "cell_type": "code",
   "execution_count": 33,
   "id": "4f077fcc",
   "metadata": {},
   "outputs": [
    {
     "data": {
      "text/plain": [
       "0           this\n",
       "1             is\n",
       "3      Fantastic\n",
       "5      Wonderful\n",
       "7      extremely\n",
       "8    Interesting\n",
       "9         series\n",
       "dtype: object"
      ]
     },
     "execution_count": 33,
     "metadata": {},
     "output_type": "execute_result"
    }
   ],
   "source": [
    "# another way -- take advantage of the fact that \"str.contains\" support regular expressions!\n",
    "# https://RegexpCrashCourse.com\n",
    "\n",
    "# I can use regexps in the contains method\n",
    "# either e or i looks like this: [ei]\n",
    "\n",
    "s.loc[s.str.contains('[ei]')]"
   ]
  },
  {
   "cell_type": "code",
   "execution_count": 34,
   "id": "4a397fbe",
   "metadata": {},
   "outputs": [
    {
     "data": {
      "text/plain": [
       "0            this\n",
       "1              is\n",
       "2               a\n",
       "3       Fantastic\n",
       "4             and\n",
       "5       Wonderful\n",
       "6             and\n",
       "7       extremely\n",
       "8     Interesting\n",
       "9          series\n",
       "10             of\n",
       "11          Words\n",
       "dtype: object"
      ]
     },
     "execution_count": 34,
     "metadata": {},
     "output_type": "execute_result"
    }
   ],
   "source": [
    "s"
   ]
  },
  {
   "cell_type": "code",
   "execution_count": 35,
   "id": "4d511699",
   "metadata": {},
   "outputs": [
    {
     "data": {
      "text/plain": [
       "count      12\n",
       "unique     11\n",
       "top       and\n",
       "freq        2\n",
       "dtype: object"
      ]
     },
     "execution_count": 35,
     "metadata": {},
     "output_type": "execute_result"
    }
   ],
   "source": [
    "# I asked you to find words > the mean length\n",
    "# could I use describe to find that?\n",
    "\n",
    "# using describe on a text series gives us a weird response\n",
    "\n",
    "s.describe()"
   ]
  },
  {
   "cell_type": "code",
   "execution_count": 41,
   "id": "60775c6c",
   "metadata": {},
   "outputs": [
    {
     "data": {
      "text/plain": [
       "3      Fantastic\n",
       "5      Wonderful\n",
       "7      extremely\n",
       "8    Interesting\n",
       "9         series\n",
       "dtype: object"
      ]
     },
     "execution_count": 41,
     "metadata": {},
     "output_type": "execute_result"
    }
   ],
   "source": [
    "# you can do this, but why?\n",
    "\n",
    "s.loc[[len(one_word) > s.str.len().describe()['mean'] \n",
    "      for one_word in s]]"
   ]
  },
  {
   "cell_type": "markdown",
   "id": "cc6428d5",
   "metadata": {},
   "source": [
    "# What if I have a text series and want to make it numeric?"
   ]
  },
  {
   "cell_type": "code",
   "execution_count": 42,
   "id": "5c2def61",
   "metadata": {},
   "outputs": [
    {
     "data": {
      "text/plain": [
       "0    10\n",
       "1    20\n",
       "2    30\n",
       "3    40\n",
       "4    50\n",
       "dtype: object"
      ]
     },
     "execution_count": 42,
     "metadata": {},
     "output_type": "execute_result"
    }
   ],
   "source": [
    "s = Series('10 20 30 40 50'.split())\n",
    "s"
   ]
  },
  {
   "cell_type": "code",
   "execution_count": 43,
   "id": "606dc54e",
   "metadata": {},
   "outputs": [
    {
     "data": {
      "text/plain": [
       "0    1010\n",
       "1    2020\n",
       "2    3030\n",
       "3    4040\n",
       "4    5050\n",
       "dtype: object"
      ]
     },
     "execution_count": 43,
     "metadata": {},
     "output_type": "execute_result"
    }
   ],
   "source": [
    "s + s   # will this work?"
   ]
  },
  {
   "cell_type": "code",
   "execution_count": 45,
   "id": "debf3c02",
   "metadata": {},
   "outputs": [
    {
     "data": {
      "text/plain": [
       "0    10\n",
       "1    20\n",
       "2    30\n",
       "3    40\n",
       "4    50\n",
       "dtype: int8"
      ]
     },
     "execution_count": 45,
     "metadata": {},
     "output_type": "execute_result"
    }
   ],
   "source": [
    "# we started with a string series, and got a string series back\n",
    "\n",
    "# what if we want to actually treat our values as integers?\n",
    "# what if we got them as strings, and want to change them to be integers?\n",
    "\n",
    "# I can use .astype to get a new series back!\n",
    "\n",
    "s = s.astype('int8')\n",
    "s"
   ]
  },
  {
   "cell_type": "code",
   "execution_count": 46,
   "id": "41be611e",
   "metadata": {},
   "outputs": [
    {
     "data": {
      "text/plain": [
       "0     20\n",
       "1     40\n",
       "2     60\n",
       "3     80\n",
       "4    100\n",
       "dtype: int8"
      ]
     },
     "execution_count": 46,
     "metadata": {},
     "output_type": "execute_result"
    }
   ],
   "source": [
    "s+s"
   ]
  },
  {
   "cell_type": "code",
   "execution_count": 47,
   "id": "8b6876f8",
   "metadata": {},
   "outputs": [
    {
     "data": {
      "text/plain": [
       "0      10\n",
       "1      20\n",
       "2      30\n",
       "3    abcd\n",
       "4      40\n",
       "5      50\n",
       "6    efgh\n",
       "dtype: object"
      ]
     },
     "execution_count": 47,
     "metadata": {},
     "output_type": "execute_result"
    }
   ],
   "source": [
    "# a harder example\n",
    "\n",
    "s = Series('10 20 30 abcd 40 50 efgh'.split())\n",
    "s"
   ]
  },
  {
   "cell_type": "code",
   "execution_count": 48,
   "id": "15e2b13b",
   "metadata": {},
   "outputs": [
    {
     "ename": "ValueError",
     "evalue": "invalid literal for int() with base 10: 'abcd'",
     "output_type": "error",
     "traceback": [
      "\u001b[0;31m---------------------------------------------------------------------------\u001b[0m",
      "\u001b[0;31mValueError\u001b[0m                                Traceback (most recent call last)",
      "Cell \u001b[0;32mIn [48], line 3\u001b[0m\n\u001b[1;32m      1\u001b[0m \u001b[38;5;66;03m# what happens if I try to use astype to get back a new series of ints?\u001b[39;00m\n\u001b[0;32m----> 3\u001b[0m \u001b[43ms\u001b[49m\u001b[38;5;241;43m.\u001b[39;49m\u001b[43mastype\u001b[49m\u001b[43m(\u001b[49m\u001b[38;5;124;43m'\u001b[39;49m\u001b[38;5;124;43mint8\u001b[39;49m\u001b[38;5;124;43m'\u001b[39;49m\u001b[43m)\u001b[49m\n",
      "File \u001b[0;32m/usr/local/lib/python3.11/site-packages/pandas/core/generic.py:6240\u001b[0m, in \u001b[0;36mNDFrame.astype\u001b[0;34m(self, dtype, copy, errors)\u001b[0m\n\u001b[1;32m   6233\u001b[0m     results \u001b[38;5;241m=\u001b[39m [\n\u001b[1;32m   6234\u001b[0m         \u001b[38;5;28mself\u001b[39m\u001b[38;5;241m.\u001b[39miloc[:, i]\u001b[38;5;241m.\u001b[39mastype(dtype, copy\u001b[38;5;241m=\u001b[39mcopy)\n\u001b[1;32m   6235\u001b[0m         \u001b[38;5;28;01mfor\u001b[39;00m i \u001b[38;5;129;01min\u001b[39;00m \u001b[38;5;28mrange\u001b[39m(\u001b[38;5;28mlen\u001b[39m(\u001b[38;5;28mself\u001b[39m\u001b[38;5;241m.\u001b[39mcolumns))\n\u001b[1;32m   6236\u001b[0m     ]\n\u001b[1;32m   6238\u001b[0m \u001b[38;5;28;01melse\u001b[39;00m:\n\u001b[1;32m   6239\u001b[0m     \u001b[38;5;66;03m# else, only a single dtype is given\u001b[39;00m\n\u001b[0;32m-> 6240\u001b[0m     new_data \u001b[38;5;241m=\u001b[39m \u001b[38;5;28;43mself\u001b[39;49m\u001b[38;5;241;43m.\u001b[39;49m\u001b[43m_mgr\u001b[49m\u001b[38;5;241;43m.\u001b[39;49m\u001b[43mastype\u001b[49m\u001b[43m(\u001b[49m\u001b[43mdtype\u001b[49m\u001b[38;5;241;43m=\u001b[39;49m\u001b[43mdtype\u001b[49m\u001b[43m,\u001b[49m\u001b[43m \u001b[49m\u001b[43mcopy\u001b[49m\u001b[38;5;241;43m=\u001b[39;49m\u001b[43mcopy\u001b[49m\u001b[43m,\u001b[49m\u001b[43m \u001b[49m\u001b[43merrors\u001b[49m\u001b[38;5;241;43m=\u001b[39;49m\u001b[43merrors\u001b[49m\u001b[43m)\u001b[49m\n\u001b[1;32m   6241\u001b[0m     \u001b[38;5;28;01mreturn\u001b[39;00m \u001b[38;5;28mself\u001b[39m\u001b[38;5;241m.\u001b[39m_constructor(new_data)\u001b[38;5;241m.\u001b[39m__finalize__(\u001b[38;5;28mself\u001b[39m, method\u001b[38;5;241m=\u001b[39m\u001b[38;5;124m\"\u001b[39m\u001b[38;5;124mastype\u001b[39m\u001b[38;5;124m\"\u001b[39m)\n\u001b[1;32m   6243\u001b[0m \u001b[38;5;66;03m# GH 33113: handle empty frame or series\u001b[39;00m\n",
      "File \u001b[0;32m/usr/local/lib/python3.11/site-packages/pandas/core/internals/managers.py:448\u001b[0m, in \u001b[0;36mBaseBlockManager.astype\u001b[0;34m(self, dtype, copy, errors)\u001b[0m\n\u001b[1;32m    447\u001b[0m \u001b[38;5;28;01mdef\u001b[39;00m \u001b[38;5;21mastype\u001b[39m(\u001b[38;5;28mself\u001b[39m: T, dtype, copy: \u001b[38;5;28mbool\u001b[39m \u001b[38;5;241m=\u001b[39m \u001b[38;5;28;01mFalse\u001b[39;00m, errors: \u001b[38;5;28mstr\u001b[39m \u001b[38;5;241m=\u001b[39m \u001b[38;5;124m\"\u001b[39m\u001b[38;5;124mraise\u001b[39m\u001b[38;5;124m\"\u001b[39m) \u001b[38;5;241m-\u001b[39m\u001b[38;5;241m>\u001b[39m T:\n\u001b[0;32m--> 448\u001b[0m     \u001b[38;5;28;01mreturn\u001b[39;00m \u001b[38;5;28;43mself\u001b[39;49m\u001b[38;5;241;43m.\u001b[39;49m\u001b[43mapply\u001b[49m\u001b[43m(\u001b[49m\u001b[38;5;124;43m\"\u001b[39;49m\u001b[38;5;124;43mastype\u001b[39;49m\u001b[38;5;124;43m\"\u001b[39;49m\u001b[43m,\u001b[49m\u001b[43m \u001b[49m\u001b[43mdtype\u001b[49m\u001b[38;5;241;43m=\u001b[39;49m\u001b[43mdtype\u001b[49m\u001b[43m,\u001b[49m\u001b[43m \u001b[49m\u001b[43mcopy\u001b[49m\u001b[38;5;241;43m=\u001b[39;49m\u001b[43mcopy\u001b[49m\u001b[43m,\u001b[49m\u001b[43m \u001b[49m\u001b[43merrors\u001b[49m\u001b[38;5;241;43m=\u001b[39;49m\u001b[43merrors\u001b[49m\u001b[43m)\u001b[49m\n",
      "File \u001b[0;32m/usr/local/lib/python3.11/site-packages/pandas/core/internals/managers.py:352\u001b[0m, in \u001b[0;36mBaseBlockManager.apply\u001b[0;34m(self, f, align_keys, ignore_failures, **kwargs)\u001b[0m\n\u001b[1;32m    350\u001b[0m         applied \u001b[38;5;241m=\u001b[39m b\u001b[38;5;241m.\u001b[39mapply(f, \u001b[38;5;241m*\u001b[39m\u001b[38;5;241m*\u001b[39mkwargs)\n\u001b[1;32m    351\u001b[0m     \u001b[38;5;28;01melse\u001b[39;00m:\n\u001b[0;32m--> 352\u001b[0m         applied \u001b[38;5;241m=\u001b[39m \u001b[38;5;28;43mgetattr\u001b[39;49m\u001b[43m(\u001b[49m\u001b[43mb\u001b[49m\u001b[43m,\u001b[49m\u001b[43m \u001b[49m\u001b[43mf\u001b[49m\u001b[43m)\u001b[49m\u001b[43m(\u001b[49m\u001b[38;5;241;43m*\u001b[39;49m\u001b[38;5;241;43m*\u001b[39;49m\u001b[43mkwargs\u001b[49m\u001b[43m)\u001b[49m\n\u001b[1;32m    353\u001b[0m \u001b[38;5;28;01mexcept\u001b[39;00m (\u001b[38;5;167;01mTypeError\u001b[39;00m, \u001b[38;5;167;01mNotImplementedError\u001b[39;00m):\n\u001b[1;32m    354\u001b[0m     \u001b[38;5;28;01mif\u001b[39;00m \u001b[38;5;129;01mnot\u001b[39;00m ignore_failures:\n",
      "File \u001b[0;32m/usr/local/lib/python3.11/site-packages/pandas/core/internals/blocks.py:526\u001b[0m, in \u001b[0;36mBlock.astype\u001b[0;34m(self, dtype, copy, errors)\u001b[0m\n\u001b[1;32m    508\u001b[0m \u001b[38;5;124;03m\"\"\"\u001b[39;00m\n\u001b[1;32m    509\u001b[0m \u001b[38;5;124;03mCoerce to the new dtype.\u001b[39;00m\n\u001b[1;32m    510\u001b[0m \n\u001b[0;32m   (...)\u001b[0m\n\u001b[1;32m    522\u001b[0m \u001b[38;5;124;03mBlock\u001b[39;00m\n\u001b[1;32m    523\u001b[0m \u001b[38;5;124;03m\"\"\"\u001b[39;00m\n\u001b[1;32m    524\u001b[0m values \u001b[38;5;241m=\u001b[39m \u001b[38;5;28mself\u001b[39m\u001b[38;5;241m.\u001b[39mvalues\n\u001b[0;32m--> 526\u001b[0m new_values \u001b[38;5;241m=\u001b[39m \u001b[43mastype_array_safe\u001b[49m\u001b[43m(\u001b[49m\u001b[43mvalues\u001b[49m\u001b[43m,\u001b[49m\u001b[43m \u001b[49m\u001b[43mdtype\u001b[49m\u001b[43m,\u001b[49m\u001b[43m \u001b[49m\u001b[43mcopy\u001b[49m\u001b[38;5;241;43m=\u001b[39;49m\u001b[43mcopy\u001b[49m\u001b[43m,\u001b[49m\u001b[43m \u001b[49m\u001b[43merrors\u001b[49m\u001b[38;5;241;43m=\u001b[39;49m\u001b[43merrors\u001b[49m\u001b[43m)\u001b[49m\n\u001b[1;32m    528\u001b[0m new_values \u001b[38;5;241m=\u001b[39m maybe_coerce_values(new_values)\n\u001b[1;32m    529\u001b[0m newb \u001b[38;5;241m=\u001b[39m \u001b[38;5;28mself\u001b[39m\u001b[38;5;241m.\u001b[39mmake_block(new_values)\n",
      "File \u001b[0;32m/usr/local/lib/python3.11/site-packages/pandas/core/dtypes/astype.py:299\u001b[0m, in \u001b[0;36mastype_array_safe\u001b[0;34m(values, dtype, copy, errors)\u001b[0m\n\u001b[1;32m    296\u001b[0m     \u001b[38;5;28;01mreturn\u001b[39;00m values\u001b[38;5;241m.\u001b[39mcopy()\n\u001b[1;32m    298\u001b[0m \u001b[38;5;28;01mtry\u001b[39;00m:\n\u001b[0;32m--> 299\u001b[0m     new_values \u001b[38;5;241m=\u001b[39m \u001b[43mastype_array\u001b[49m\u001b[43m(\u001b[49m\u001b[43mvalues\u001b[49m\u001b[43m,\u001b[49m\u001b[43m \u001b[49m\u001b[43mdtype\u001b[49m\u001b[43m,\u001b[49m\u001b[43m \u001b[49m\u001b[43mcopy\u001b[49m\u001b[38;5;241;43m=\u001b[39;49m\u001b[43mcopy\u001b[49m\u001b[43m)\u001b[49m\n\u001b[1;32m    300\u001b[0m \u001b[38;5;28;01mexcept\u001b[39;00m (\u001b[38;5;167;01mValueError\u001b[39;00m, \u001b[38;5;167;01mTypeError\u001b[39;00m):\n\u001b[1;32m    301\u001b[0m     \u001b[38;5;66;03m# e.g. astype_nansafe can fail on object-dtype of strings\u001b[39;00m\n\u001b[1;32m    302\u001b[0m     \u001b[38;5;66;03m#  trying to convert to float\u001b[39;00m\n\u001b[1;32m    303\u001b[0m     \u001b[38;5;28;01mif\u001b[39;00m errors \u001b[38;5;241m==\u001b[39m \u001b[38;5;124m\"\u001b[39m\u001b[38;5;124mignore\u001b[39m\u001b[38;5;124m\"\u001b[39m:\n",
      "File \u001b[0;32m/usr/local/lib/python3.11/site-packages/pandas/core/dtypes/astype.py:230\u001b[0m, in \u001b[0;36mastype_array\u001b[0;34m(values, dtype, copy)\u001b[0m\n\u001b[1;32m    227\u001b[0m     values \u001b[38;5;241m=\u001b[39m values\u001b[38;5;241m.\u001b[39mastype(dtype, copy\u001b[38;5;241m=\u001b[39mcopy)\n\u001b[1;32m    229\u001b[0m \u001b[38;5;28;01melse\u001b[39;00m:\n\u001b[0;32m--> 230\u001b[0m     values \u001b[38;5;241m=\u001b[39m \u001b[43mastype_nansafe\u001b[49m\u001b[43m(\u001b[49m\u001b[43mvalues\u001b[49m\u001b[43m,\u001b[49m\u001b[43m \u001b[49m\u001b[43mdtype\u001b[49m\u001b[43m,\u001b[49m\u001b[43m \u001b[49m\u001b[43mcopy\u001b[49m\u001b[38;5;241;43m=\u001b[39;49m\u001b[43mcopy\u001b[49m\u001b[43m)\u001b[49m\n\u001b[1;32m    232\u001b[0m \u001b[38;5;66;03m# in pandas we don't store numpy str dtypes, so convert to object\u001b[39;00m\n\u001b[1;32m    233\u001b[0m \u001b[38;5;28;01mif\u001b[39;00m \u001b[38;5;28misinstance\u001b[39m(dtype, np\u001b[38;5;241m.\u001b[39mdtype) \u001b[38;5;129;01mand\u001b[39;00m \u001b[38;5;28missubclass\u001b[39m(values\u001b[38;5;241m.\u001b[39mdtype\u001b[38;5;241m.\u001b[39mtype, \u001b[38;5;28mstr\u001b[39m):\n",
      "File \u001b[0;32m/usr/local/lib/python3.11/site-packages/pandas/core/dtypes/astype.py:170\u001b[0m, in \u001b[0;36mastype_nansafe\u001b[0;34m(arr, dtype, copy, skipna)\u001b[0m\n\u001b[1;32m    166\u001b[0m     \u001b[38;5;28;01mraise\u001b[39;00m \u001b[38;5;167;01mValueError\u001b[39;00m(msg)\n\u001b[1;32m    168\u001b[0m \u001b[38;5;28;01mif\u001b[39;00m copy \u001b[38;5;129;01mor\u001b[39;00m is_object_dtype(arr\u001b[38;5;241m.\u001b[39mdtype) \u001b[38;5;129;01mor\u001b[39;00m is_object_dtype(dtype):\n\u001b[1;32m    169\u001b[0m     \u001b[38;5;66;03m# Explicit copy, or required since NumPy can't view from / to object.\u001b[39;00m\n\u001b[0;32m--> 170\u001b[0m     \u001b[38;5;28;01mreturn\u001b[39;00m \u001b[43marr\u001b[49m\u001b[38;5;241;43m.\u001b[39;49m\u001b[43mastype\u001b[49m\u001b[43m(\u001b[49m\u001b[43mdtype\u001b[49m\u001b[43m,\u001b[49m\u001b[43m \u001b[49m\u001b[43mcopy\u001b[49m\u001b[38;5;241;43m=\u001b[39;49m\u001b[38;5;28;43;01mTrue\u001b[39;49;00m\u001b[43m)\u001b[49m\n\u001b[1;32m    172\u001b[0m \u001b[38;5;28;01mreturn\u001b[39;00m arr\u001b[38;5;241m.\u001b[39mastype(dtype, copy\u001b[38;5;241m=\u001b[39mcopy)\n",
      "\u001b[0;31mValueError\u001b[0m: invalid literal for int() with base 10: 'abcd'"
     ]
    }
   ],
   "source": [
    "# what happens if I try to use astype to get back a new series of ints?\n",
    "\n",
    "s.astype('int8')"
   ]
  },
  {
   "cell_type": "code",
   "execution_count": 55,
   "id": "4bdc55a2",
   "metadata": {},
   "outputs": [
    {
     "data": {
      "text/plain": [
       "0    10\n",
       "1    20\n",
       "2    30\n",
       "4    40\n",
       "5    50\n",
       "dtype: int16"
      ]
     },
     "execution_count": 55,
     "metadata": {},
     "output_type": "execute_result"
    }
   ],
   "source": [
    "# if I want to get a new series based on s, containing ints, I need to\n",
    "# remove the elements that don't contain digits\n",
    "\n",
    "# fortunately, s.str supports the \"isdigit\" method, which returns True/False\n",
    "# based on whether the string only contains 0-9.\n",
    "\n",
    "# note: this means that you cannot have - or . in your number\n",
    "\n",
    "s.loc[s.str.isdigit()].astype('int16') "
   ]
  },
  {
   "cell_type": "markdown",
   "id": "e0a39a7a",
   "metadata": {},
   "source": [
    "# Exercise: Even (dirty) ints\n",
    "\n",
    "1. Create a series containing a bunch of integers, as well as a bunch of other non-numeric values.\n",
    "2. Try to turn it into a series of ints... and it'll fail.\n",
    "3. Use `isdigit` to filter out the non-numeric values.\n",
    "4. Once you've done that, grab only the even numbers\n",
    "5. Calculate the mean of those even numbers."
   ]
  },
  {
   "cell_type": "code",
   "execution_count": 56,
   "id": "809f21cc",
   "metadata": {},
   "outputs": [
    {
     "data": {
      "text/plain": [
       "0     684\n",
       "1     559\n",
       "2     629\n",
       "3     192\n",
       "4     835\n",
       "5     763\n",
       "6     707\n",
       "7     359\n",
       "8       9\n",
       "9     723\n",
       "10    277\n",
       "11    754\n",
       "12    804\n",
       "13    599\n",
       "14     70\n",
       "15    472\n",
       "16    600\n",
       "17    396\n",
       "18    314\n",
       "19    705\n",
       "dtype: int64"
      ]
     },
     "execution_count": 56,
     "metadata": {},
     "output_type": "execute_result"
    }
   ],
   "source": [
    "np.random.seed(0)   # reset the random-number generator to a known state\n",
    "s = Series(np.random.randint(0, 1000, 20))\n",
    "s"
   ]
  },
  {
   "cell_type": "code",
   "execution_count": 57,
   "id": "8392975c",
   "metadata": {},
   "outputs": [],
   "source": [
    "s.loc[3] = 'hello'\n",
    "s.loc[10] = 'goodbye'\n",
    "s.loc[16] = 'whatever'"
   ]
  },
  {
   "cell_type": "code",
   "execution_count": 58,
   "id": "1ed64b98",
   "metadata": {},
   "outputs": [
    {
     "data": {
      "text/plain": [
       "0          684\n",
       "1          559\n",
       "2          629\n",
       "3        hello\n",
       "4          835\n",
       "5          763\n",
       "6          707\n",
       "7          359\n",
       "8            9\n",
       "9          723\n",
       "10     goodbye\n",
       "11         754\n",
       "12         804\n",
       "13         599\n",
       "14          70\n",
       "15         472\n",
       "16    whatever\n",
       "17         396\n",
       "18         314\n",
       "19         705\n",
       "dtype: object"
      ]
     },
     "execution_count": 58,
     "metadata": {},
     "output_type": "execute_result"
    }
   ],
   "source": [
    "s"
   ]
  },
  {
   "cell_type": "code",
   "execution_count": 61,
   "id": "bf771e30",
   "metadata": {},
   "outputs": [
    {
     "data": {
      "text/plain": [
       "0          684\n",
       "1          559\n",
       "2          629\n",
       "3        hello\n",
       "4          835\n",
       "5          763\n",
       "6          707\n",
       "7          359\n",
       "8            9\n",
       "9          723\n",
       "10     goodbye\n",
       "11         754\n",
       "12         804\n",
       "13         599\n",
       "14          70\n",
       "15         472\n",
       "16    whatever\n",
       "17         396\n",
       "18         314\n",
       "19         705\n",
       "dtype: object"
      ]
     },
     "execution_count": 61,
     "metadata": {},
     "output_type": "execute_result"
    }
   ],
   "source": [
    "s = s.astype(str)\n",
    "s"
   ]
  },
  {
   "cell_type": "code",
   "execution_count": 65,
   "id": "0f0f935c",
   "metadata": {},
   "outputs": [
    {
     "data": {
      "text/plain": [
       "0     684\n",
       "1     559\n",
       "2     629\n",
       "4     835\n",
       "5     763\n",
       "6     707\n",
       "7     359\n",
       "8       9\n",
       "9     723\n",
       "11    754\n",
       "12    804\n",
       "13    599\n",
       "14     70\n",
       "15    472\n",
       "17    396\n",
       "18    314\n",
       "19    705\n",
       "dtype: int64"
      ]
     },
     "execution_count": 65,
     "metadata": {},
     "output_type": "execute_result"
    }
   ],
   "source": [
    "s = s.loc[s.str.isdigit()].astype('int64')\n",
    "s"
   ]
  },
  {
   "cell_type": "code",
   "execution_count": 67,
   "id": "d8bef9ce",
   "metadata": {},
   "outputs": [
    {
     "data": {
      "text/plain": [
       "0     684\n",
       "11    754\n",
       "12    804\n",
       "14     70\n",
       "15    472\n",
       "17    396\n",
       "18    314\n",
       "dtype: int64"
      ]
     },
     "execution_count": 67,
     "metadata": {},
     "output_type": "execute_result"
    }
   ],
   "source": [
    "# find the even elements of s\n",
    "\n",
    "s.loc[s % 2 == 0]"
   ]
  },
  {
   "cell_type": "code",
   "execution_count": 68,
   "id": "d42ded7b",
   "metadata": {},
   "outputs": [
    {
     "data": {
      "text/plain": [
       "499.14285714285717"
      ]
     },
     "execution_count": 68,
     "metadata": {},
     "output_type": "execute_result"
    }
   ],
   "source": [
    "s.loc[s % 2 == 0].mean()"
   ]
  },
  {
   "cell_type": "code",
   "execution_count": 69,
   "id": "31ca07e1",
   "metadata": {},
   "outputs": [
    {
     "data": {
      "text/plain": [
       "0     this\n",
       "1       is\n",
       "2        a\n",
       "3    bunch\n",
       "4       of\n",
       "5    words\n",
       "dtype: object"
      ]
     },
     "execution_count": 69,
     "metadata": {},
     "output_type": "execute_result"
    }
   ],
   "source": [
    "s = Series('this is a bunch of words'.split())\n",
    "s"
   ]
  },
  {
   "cell_type": "code",
   "execution_count": 71,
   "id": "a6ed96ed",
   "metadata": {
    "scrolled": true
   },
   "outputs": [
    {
     "ename": "AttributeError",
     "evalue": "module 'pandas' has no attribute 'String'",
     "output_type": "error",
     "traceback": [
      "\u001b[0;31m---------------------------------------------------------------------------\u001b[0m",
      "\u001b[0;31mAttributeError\u001b[0m                            Traceback (most recent call last)",
      "Cell \u001b[0;32mIn [71], line 3\u001b[0m\n\u001b[1;32m      1\u001b[0m \u001b[38;5;66;03m# use the new builtin Pandas string object\u001b[39;00m\n\u001b[0;32m----> 3\u001b[0m s \u001b[38;5;241m=\u001b[39m Series(\u001b[38;5;124m'\u001b[39m\u001b[38;5;124mthis is a bunch of words\u001b[39m\u001b[38;5;124m'\u001b[39m\u001b[38;5;241m.\u001b[39msplit(), dtype\u001b[38;5;241m=\u001b[39m\u001b[43mpd\u001b[49m\u001b[38;5;241;43m.\u001b[39;49m\u001b[43mString\u001b[49m)\n\u001b[1;32m      4\u001b[0m s\n",
      "File \u001b[0;32m/usr/local/lib/python3.11/site-packages/pandas/__init__.py:264\u001b[0m, in \u001b[0;36m__getattr__\u001b[0;34m(name)\u001b[0m\n\u001b[1;32m    260\u001b[0m     \u001b[38;5;28;01mfrom\u001b[39;00m \u001b[38;5;21;01mpandas\u001b[39;00m\u001b[38;5;21;01m.\u001b[39;00m\u001b[38;5;21;01mcore\u001b[39;00m\u001b[38;5;21;01m.\u001b[39;00m\u001b[38;5;21;01marrays\u001b[39;00m\u001b[38;5;21;01m.\u001b[39;00m\u001b[38;5;21;01msparse\u001b[39;00m \u001b[38;5;28;01mimport\u001b[39;00m SparseArray \u001b[38;5;28;01mas\u001b[39;00m _SparseArray\n\u001b[1;32m    262\u001b[0m     \u001b[38;5;28;01mreturn\u001b[39;00m _SparseArray\n\u001b[0;32m--> 264\u001b[0m \u001b[38;5;28;01mraise\u001b[39;00m \u001b[38;5;167;01mAttributeError\u001b[39;00m(\u001b[38;5;124mf\u001b[39m\u001b[38;5;124m\"\u001b[39m\u001b[38;5;124mmodule \u001b[39m\u001b[38;5;124m'\u001b[39m\u001b[38;5;124mpandas\u001b[39m\u001b[38;5;124m'\u001b[39m\u001b[38;5;124m has no attribute \u001b[39m\u001b[38;5;124m'\u001b[39m\u001b[38;5;132;01m{\u001b[39;00mname\u001b[38;5;132;01m}\u001b[39;00m\u001b[38;5;124m'\u001b[39m\u001b[38;5;124m\"\u001b[39m)\n",
      "\u001b[0;31mAttributeError\u001b[0m: module 'pandas' has no attribute 'String'"
     ]
    }
   ],
   "source": [
    "# use the new builtin Pandas string object\n",
    "\n",
    "s = Series('this is a bunch of words'.split(), dtype=pd.StringDtype)\n",
    "s"
   ]
  },
  {
   "cell_type": "code",
   "execution_count": 72,
   "id": "1f91ac00",
   "metadata": {},
   "outputs": [
    {
     "data": {
      "text/plain": [
       "0    10\n",
       "1    15\n",
       "2    20\n",
       "3    30\n",
       "dtype: int64"
      ]
     },
     "execution_count": 72,
     "metadata": {},
     "output_type": "execute_result"
    }
   ],
   "source": [
    "s = Series([10, 15, 20, 30])\n",
    "\n",
    "s"
   ]
  },
  {
   "cell_type": "code",
   "execution_count": 73,
   "id": "bad940e5",
   "metadata": {},
   "outputs": [
    {
     "data": {
      "text/plain": [
       "2    20\n",
       "3    30\n",
       "dtype: int64"
      ]
     },
     "execution_count": 73,
     "metadata": {},
     "output_type": "execute_result"
    }
   ],
   "source": [
    "s.loc[s > 16]"
   ]
  },
  {
   "cell_type": "code",
   "execution_count": 78,
   "id": "decc6ae8",
   "metadata": {},
   "outputs": [
    {
     "data": {
      "text/html": [
       "<div>\n",
       "<style scoped>\n",
       "    .dataframe tbody tr th:only-of-type {\n",
       "        vertical-align: middle;\n",
       "    }\n",
       "\n",
       "    .dataframe tbody tr th {\n",
       "        vertical-align: top;\n",
       "    }\n",
       "\n",
       "    .dataframe thead th {\n",
       "        text-align: right;\n",
       "    }\n",
       "</style>\n",
       "<table border=\"1\" class=\"dataframe\">\n",
       "  <thead>\n",
       "    <tr style=\"text-align: right;\">\n",
       "      <th></th>\n",
       "      <th>0</th>\n",
       "      <th>1</th>\n",
       "    </tr>\n",
       "  </thead>\n",
       "  <tbody>\n",
       "    <tr>\n",
       "      <th>0</th>\n",
       "      <td>x</td>\n",
       "      <td>a</td>\n",
       "    </tr>\n",
       "    <tr>\n",
       "      <th>1</th>\n",
       "      <td>x</td>\n",
       "      <td>b</td>\n",
       "    </tr>\n",
       "    <tr>\n",
       "      <th>2</th>\n",
       "      <td>x</td>\n",
       "      <td>c</td>\n",
       "    </tr>\n",
       "    <tr>\n",
       "      <th>3</th>\n",
       "      <td>y</td>\n",
       "      <td>a</td>\n",
       "    </tr>\n",
       "    <tr>\n",
       "      <th>4</th>\n",
       "      <td>y</td>\n",
       "      <td>b</td>\n",
       "    </tr>\n",
       "    <tr>\n",
       "      <th>5</th>\n",
       "      <td>y</td>\n",
       "      <td>c</td>\n",
       "    </tr>\n",
       "  </tbody>\n",
       "</table>\n",
       "</div>"
      ],
      "text/plain": [
       "   0  1\n",
       "0  x  a\n",
       "1  x  b\n",
       "2  x  c\n",
       "3  y  a\n",
       "4  y  b\n",
       "5  y  c"
      ]
     },
     "execution_count": 78,
     "metadata": {},
     "output_type": "execute_result"
    }
   ],
   "source": [
    "df = DataFrame([['x', 'a'],\n",
    "                ['x', 'b'],\n",
    "                ['x', 'c'],\n",
    "               ['y', 'a'],\n",
    "               ['y', 'b'],\n",
    "               ['y', 'c']])\n",
    "df"
   ]
  },
  {
   "cell_type": "code",
   "execution_count": 79,
   "id": "7a54ed58",
   "metadata": {},
   "outputs": [
    {
     "data": {
      "text/plain": [
       "0\n",
       "x    abc\n",
       "y    abc\n",
       "Name: 1, dtype: object"
      ]
     },
     "execution_count": 79,
     "metadata": {},
     "output_type": "execute_result"
    }
   ],
   "source": [
    "df.groupby(0)[1].sum()"
   ]
  },
  {
   "cell_type": "markdown",
   "id": "b6c9d992",
   "metadata": {},
   "source": [
    "# Next up\n",
    "\n",
    "1. Textual statistics\n",
    "2. Splitting and retrieving\n",
    "3. `value_counts` and text data\n",
    "4. Trimming and getting and slicing"
   ]
  },
  {
   "cell_type": "code",
   "execution_count": 80,
   "id": "eb99be96",
   "metadata": {},
   "outputs": [
    {
     "data": {
      "text/plain": [
       "0    10\n",
       "1    20\n",
       "2    30\n",
       "3    40\n",
       "4    50\n",
       "dtype: object"
      ]
     },
     "execution_count": 80,
     "metadata": {},
     "output_type": "execute_result"
    }
   ],
   "source": [
    "s = Series('10 20 30 40 50'.split())\n",
    "\n",
    "s"
   ]
  },
  {
   "cell_type": "code",
   "execution_count": 81,
   "id": "320d0c24",
   "metadata": {},
   "outputs": [
    {
     "data": {
      "text/plain": [
       "204060810.0"
      ]
     },
     "execution_count": 81,
     "metadata": {},
     "output_type": "execute_result"
    }
   ],
   "source": [
    "# what happens when I calculate the mean?\n",
    "\n",
    "s.mean()"
   ]
  },
  {
   "cell_type": "code",
   "execution_count": 82,
   "id": "0a5d00c9",
   "metadata": {},
   "outputs": [
    {
     "data": {
      "text/plain": [
       "'1020304050'"
      ]
     },
     "execution_count": 82,
     "metadata": {},
     "output_type": "execute_result"
    }
   ],
   "source": [
    "s.sum()"
   ]
  },
  {
   "cell_type": "code",
   "execution_count": 83,
   "id": "f00a2048",
   "metadata": {},
   "outputs": [
    {
     "ename": "TypeError",
     "evalue": "ufunc 'divide' not supported for the input types, and the inputs could not be safely coerced to any supported types according to the casting rule ''safe''",
     "output_type": "error",
     "traceback": [
      "\u001b[0;31m---------------------------------------------------------------------------\u001b[0m",
      "\u001b[0;31mTypeError\u001b[0m                                 Traceback (most recent call last)",
      "Cell \u001b[0;32mIn [83], line 1\u001b[0m\n\u001b[0;32m----> 1\u001b[0m \u001b[43ms\u001b[49m\u001b[38;5;241;43m.\u001b[39;49m\u001b[43msum\u001b[49m\u001b[43m(\u001b[49m\u001b[43m)\u001b[49m\u001b[43m \u001b[49m\u001b[38;5;241;43m/\u001b[39;49m\u001b[43m \u001b[49m\u001b[43ms\u001b[49m\u001b[38;5;241;43m.\u001b[39;49m\u001b[43mcount\u001b[49m\u001b[43m(\u001b[49m\u001b[43m)\u001b[49m\n",
      "\u001b[0;31mTypeError\u001b[0m: ufunc 'divide' not supported for the input types, and the inputs could not be safely coerced to any supported types according to the casting rule ''safe''"
     ]
    }
   ],
   "source": [
    "s.sum() / s.count()"
   ]
  },
  {
   "cell_type": "code",
   "execution_count": 84,
   "id": "71a4c951",
   "metadata": {},
   "outputs": [
    {
     "data": {
      "text/plain": [
       "204060810.0"
      ]
     },
     "execution_count": 84,
     "metadata": {},
     "output_type": "execute_result"
    }
   ],
   "source": [
    "s.mean()"
   ]
  },
  {
   "cell_type": "code",
   "execution_count": 85,
   "id": "7a222cf3",
   "metadata": {},
   "outputs": [
    {
     "data": {
      "text/plain": [
       "204060810.0"
      ]
     },
     "execution_count": 85,
     "metadata": {},
     "output_type": "execute_result"
    }
   ],
   "source": [
    "1020304050 / 5"
   ]
  },
  {
   "cell_type": "code",
   "execution_count": 86,
   "id": "1402dda6",
   "metadata": {},
   "outputs": [],
   "source": [
    "s = Series('This is the most interesting thing that I have written today but that is not hard because it is very early in the morning where I live'.split())"
   ]
  },
  {
   "cell_type": "code",
   "execution_count": 87,
   "id": "1c6533a3",
   "metadata": {},
   "outputs": [
    {
     "data": {
      "text/plain": [
       "0            This\n",
       "1              is\n",
       "2             the\n",
       "3            most\n",
       "4     interesting\n",
       "5           thing\n",
       "6            that\n",
       "7               I\n",
       "8            have\n",
       "9         written\n",
       "10          today\n",
       "11            but\n",
       "12           that\n",
       "13             is\n",
       "14            not\n",
       "15           hard\n",
       "16        because\n",
       "17             it\n",
       "18             is\n",
       "19           very\n",
       "20          early\n",
       "21             in\n",
       "22            the\n",
       "23        morning\n",
       "24          where\n",
       "25              I\n",
       "26           live\n",
       "dtype: object"
      ]
     },
     "execution_count": 87,
     "metadata": {},
     "output_type": "execute_result"
    }
   ],
   "source": [
    "s"
   ]
  },
  {
   "cell_type": "code",
   "execution_count": 88,
   "id": "8ea93298",
   "metadata": {},
   "outputs": [
    {
     "data": {
      "text/plain": [
       "count     27\n",
       "unique    22\n",
       "top       is\n",
       "freq       3\n",
       "dtype: object"
      ]
     },
     "execution_count": 88,
     "metadata": {},
     "output_type": "execute_result"
    }
   ],
   "source": [
    "s.describe()"
   ]
  },
  {
   "cell_type": "code",
   "execution_count": 89,
   "id": "c888e629",
   "metadata": {},
   "outputs": [
    {
     "data": {
      "text/html": [
       "<div>\n",
       "<style scoped>\n",
       "    .dataframe tbody tr th:only-of-type {\n",
       "        vertical-align: middle;\n",
       "    }\n",
       "\n",
       "    .dataframe tbody tr th {\n",
       "        vertical-align: top;\n",
       "    }\n",
       "\n",
       "    .dataframe thead th {\n",
       "        text-align: right;\n",
       "    }\n",
       "</style>\n",
       "<table border=\"1\" class=\"dataframe\">\n",
       "  <thead>\n",
       "    <tr style=\"text-align: right;\">\n",
       "      <th></th>\n",
       "      <th>v</th>\n",
       "      <th>w</th>\n",
       "      <th>x</th>\n",
       "      <th>y</th>\n",
       "      <th>z</th>\n",
       "    </tr>\n",
       "  </thead>\n",
       "  <tbody>\n",
       "    <tr>\n",
       "      <th>a</th>\n",
       "      <td>39</td>\n",
       "      <td>87</td>\n",
       "      <td>46</td>\n",
       "      <td>88</td>\n",
       "      <td>81</td>\n",
       "    </tr>\n",
       "    <tr>\n",
       "      <th>b</th>\n",
       "      <td>37</td>\n",
       "      <td>25</td>\n",
       "      <td>77</td>\n",
       "      <td>72</td>\n",
       "      <td>9</td>\n",
       "    </tr>\n",
       "    <tr>\n",
       "      <th>c</th>\n",
       "      <td>20</td>\n",
       "      <td>80</td>\n",
       "      <td>69</td>\n",
       "      <td>79</td>\n",
       "      <td>47</td>\n",
       "    </tr>\n",
       "    <tr>\n",
       "      <th>d</th>\n",
       "      <td>64</td>\n",
       "      <td>82</td>\n",
       "      <td>99</td>\n",
       "      <td>88</td>\n",
       "      <td>49</td>\n",
       "    </tr>\n",
       "  </tbody>\n",
       "</table>\n",
       "</div>"
      ],
      "text/plain": [
       "    v   w   x   y   z\n",
       "a  39  87  46  88  81\n",
       "b  37  25  77  72   9\n",
       "c  20  80  69  79  47\n",
       "d  64  82  99  88  49"
      ]
     },
     "execution_count": 89,
     "metadata": {},
     "output_type": "execute_result"
    }
   ],
   "source": [
    "df = DataFrame(np.random.randint(0, 100, [4,5]),\n",
    "              index=list('abcd'),\n",
    "              columns=list('vwxyz'))\n",
    "df"
   ]
  },
  {
   "cell_type": "code",
   "execution_count": 90,
   "id": "e4a1e8c6",
   "metadata": {},
   "outputs": [
    {
     "data": {
      "text/html": [
       "<div>\n",
       "<style scoped>\n",
       "    .dataframe tbody tr th:only-of-type {\n",
       "        vertical-align: middle;\n",
       "    }\n",
       "\n",
       "    .dataframe tbody tr th {\n",
       "        vertical-align: top;\n",
       "    }\n",
       "\n",
       "    .dataframe thead th {\n",
       "        text-align: right;\n",
       "    }\n",
       "</style>\n",
       "<table border=\"1\" class=\"dataframe\">\n",
       "  <thead>\n",
       "    <tr style=\"text-align: right;\">\n",
       "      <th></th>\n",
       "      <th>v</th>\n",
       "      <th>w</th>\n",
       "      <th>x</th>\n",
       "      <th>y</th>\n",
       "      <th>z</th>\n",
       "      <th>u</th>\n",
       "    </tr>\n",
       "  </thead>\n",
       "  <tbody>\n",
       "    <tr>\n",
       "      <th>a</th>\n",
       "      <td>39</td>\n",
       "      <td>87</td>\n",
       "      <td>46</td>\n",
       "      <td>88</td>\n",
       "      <td>81</td>\n",
       "      <td>this</td>\n",
       "    </tr>\n",
       "    <tr>\n",
       "      <th>b</th>\n",
       "      <td>37</td>\n",
       "      <td>25</td>\n",
       "      <td>77</td>\n",
       "      <td>72</td>\n",
       "      <td>9</td>\n",
       "      <td>is</td>\n",
       "    </tr>\n",
       "    <tr>\n",
       "      <th>c</th>\n",
       "      <td>20</td>\n",
       "      <td>80</td>\n",
       "      <td>69</td>\n",
       "      <td>79</td>\n",
       "      <td>47</td>\n",
       "      <td>another</td>\n",
       "    </tr>\n",
       "    <tr>\n",
       "      <th>d</th>\n",
       "      <td>64</td>\n",
       "      <td>82</td>\n",
       "      <td>99</td>\n",
       "      <td>88</td>\n",
       "      <td>49</td>\n",
       "      <td>test</td>\n",
       "    </tr>\n",
       "  </tbody>\n",
       "</table>\n",
       "</div>"
      ],
      "text/plain": [
       "    v   w   x   y   z        u\n",
       "a  39  87  46  88  81     this\n",
       "b  37  25  77  72   9       is\n",
       "c  20  80  69  79  47  another\n",
       "d  64  82  99  88  49     test"
      ]
     },
     "execution_count": 90,
     "metadata": {},
     "output_type": "execute_result"
    }
   ],
   "source": [
    "df['u'] = 'this is another test'.split()\n",
    "df"
   ]
  },
  {
   "cell_type": "code",
   "execution_count": 91,
   "id": "92550484",
   "metadata": {},
   "outputs": [
    {
     "data": {
      "text/plain": [
       "v     int64\n",
       "w     int64\n",
       "x     int64\n",
       "y     int64\n",
       "z     int64\n",
       "u    object\n",
       "dtype: object"
      ]
     },
     "execution_count": 91,
     "metadata": {},
     "output_type": "execute_result"
    }
   ],
   "source": [
    "df.dtypes"
   ]
  },
  {
   "cell_type": "code",
   "execution_count": 92,
   "id": "b42a1a00",
   "metadata": {},
   "outputs": [
    {
     "data": {
      "text/html": [
       "<div>\n",
       "<style scoped>\n",
       "    .dataframe tbody tr th:only-of-type {\n",
       "        vertical-align: middle;\n",
       "    }\n",
       "\n",
       "    .dataframe tbody tr th {\n",
       "        vertical-align: top;\n",
       "    }\n",
       "\n",
       "    .dataframe thead th {\n",
       "        text-align: right;\n",
       "    }\n",
       "</style>\n",
       "<table border=\"1\" class=\"dataframe\">\n",
       "  <thead>\n",
       "    <tr style=\"text-align: right;\">\n",
       "      <th></th>\n",
       "      <th>v</th>\n",
       "      <th>w</th>\n",
       "      <th>x</th>\n",
       "      <th>y</th>\n",
       "      <th>z</th>\n",
       "    </tr>\n",
       "  </thead>\n",
       "  <tbody>\n",
       "    <tr>\n",
       "      <th>count</th>\n",
       "      <td>4.000000</td>\n",
       "      <td>4.000000</td>\n",
       "      <td>4.000000</td>\n",
       "      <td>4.000000</td>\n",
       "      <td>4.000000</td>\n",
       "    </tr>\n",
       "    <tr>\n",
       "      <th>mean</th>\n",
       "      <td>40.000000</td>\n",
       "      <td>68.500000</td>\n",
       "      <td>72.750000</td>\n",
       "      <td>81.750000</td>\n",
       "      <td>46.500000</td>\n",
       "    </tr>\n",
       "    <tr>\n",
       "      <th>std</th>\n",
       "      <td>18.129166</td>\n",
       "      <td>29.149042</td>\n",
       "      <td>21.884165</td>\n",
       "      <td>7.762087</td>\n",
       "      <td>29.456182</td>\n",
       "    </tr>\n",
       "    <tr>\n",
       "      <th>min</th>\n",
       "      <td>20.000000</td>\n",
       "      <td>25.000000</td>\n",
       "      <td>46.000000</td>\n",
       "      <td>72.000000</td>\n",
       "      <td>9.000000</td>\n",
       "    </tr>\n",
       "    <tr>\n",
       "      <th>25%</th>\n",
       "      <td>32.750000</td>\n",
       "      <td>66.250000</td>\n",
       "      <td>63.250000</td>\n",
       "      <td>77.250000</td>\n",
       "      <td>37.500000</td>\n",
       "    </tr>\n",
       "    <tr>\n",
       "      <th>50%</th>\n",
       "      <td>38.000000</td>\n",
       "      <td>81.000000</td>\n",
       "      <td>73.000000</td>\n",
       "      <td>83.500000</td>\n",
       "      <td>48.000000</td>\n",
       "    </tr>\n",
       "    <tr>\n",
       "      <th>75%</th>\n",
       "      <td>45.250000</td>\n",
       "      <td>83.250000</td>\n",
       "      <td>82.500000</td>\n",
       "      <td>88.000000</td>\n",
       "      <td>57.000000</td>\n",
       "    </tr>\n",
       "    <tr>\n",
       "      <th>max</th>\n",
       "      <td>64.000000</td>\n",
       "      <td>87.000000</td>\n",
       "      <td>99.000000</td>\n",
       "      <td>88.000000</td>\n",
       "      <td>81.000000</td>\n",
       "    </tr>\n",
       "  </tbody>\n",
       "</table>\n",
       "</div>"
      ],
      "text/plain": [
       "               v          w          x          y          z\n",
       "count   4.000000   4.000000   4.000000   4.000000   4.000000\n",
       "mean   40.000000  68.500000  72.750000  81.750000  46.500000\n",
       "std    18.129166  29.149042  21.884165   7.762087  29.456182\n",
       "min    20.000000  25.000000  46.000000  72.000000   9.000000\n",
       "25%    32.750000  66.250000  63.250000  77.250000  37.500000\n",
       "50%    38.000000  81.000000  73.000000  83.500000  48.000000\n",
       "75%    45.250000  83.250000  82.500000  88.000000  57.000000\n",
       "max    64.000000  87.000000  99.000000  88.000000  81.000000"
      ]
     },
     "execution_count": 92,
     "metadata": {},
     "output_type": "execute_result"
    }
   ],
   "source": [
    "df.describe()"
   ]
  },
  {
   "cell_type": "code",
   "execution_count": 93,
   "id": "74035ce8",
   "metadata": {},
   "outputs": [
    {
     "name": "stdout",
     "output_type": "stream",
     "text": [
      "Help on method describe in module pandas.core.generic:\n",
      "\n",
      "describe(percentiles=None, include=None, exclude=None, datetime_is_numeric: 'bool_t' = False) -> 'NDFrameT' method of pandas.core.frame.DataFrame instance\n",
      "    Generate descriptive statistics.\n",
      "    \n",
      "    Descriptive statistics include those that summarize the central\n",
      "    tendency, dispersion and shape of a\n",
      "    dataset's distribution, excluding ``NaN`` values.\n",
      "    \n",
      "    Analyzes both numeric and object series, as well\n",
      "    as ``DataFrame`` column sets of mixed data types. The output\n",
      "    will vary depending on what is provided. Refer to the notes\n",
      "    below for more detail.\n",
      "    \n",
      "    Parameters\n",
      "    ----------\n",
      "    percentiles : list-like of numbers, optional\n",
      "        The percentiles to include in the output. All should\n",
      "        fall between 0 and 1. The default is\n",
      "        ``[.25, .5, .75]``, which returns the 25th, 50th, and\n",
      "        75th percentiles.\n",
      "    include : 'all', list-like of dtypes or None (default), optional\n",
      "        A white list of data types to include in the result. Ignored\n",
      "        for ``Series``. Here are the options:\n",
      "    \n",
      "        - 'all' : All columns of the input will be included in the output.\n",
      "        - A list-like of dtypes : Limits the results to the\n",
      "          provided data types.\n",
      "          To limit the result to numeric types submit\n",
      "          ``numpy.number``. To limit it instead to object columns submit\n",
      "          the ``numpy.object`` data type. Strings\n",
      "          can also be used in the style of\n",
      "          ``select_dtypes`` (e.g. ``df.describe(include=['O'])``). To\n",
      "          select pandas categorical columns, use ``'category'``\n",
      "        - None (default) : The result will include all numeric columns.\n",
      "    exclude : list-like of dtypes or None (default), optional,\n",
      "        A black list of data types to omit from the result. Ignored\n",
      "        for ``Series``. Here are the options:\n",
      "    \n",
      "        - A list-like of dtypes : Excludes the provided data types\n",
      "          from the result. To exclude numeric types submit\n",
      "          ``numpy.number``. To exclude object columns submit the data\n",
      "          type ``numpy.object``. Strings can also be used in the style of\n",
      "          ``select_dtypes`` (e.g. ``df.describe(exclude=['O'])``). To\n",
      "          exclude pandas categorical columns, use ``'category'``\n",
      "        - None (default) : The result will exclude nothing.\n",
      "    datetime_is_numeric : bool, default False\n",
      "        Whether to treat datetime dtypes as numeric. This affects statistics\n",
      "        calculated for the column. For DataFrame input, this also\n",
      "        controls whether datetime columns are included by default.\n",
      "    \n",
      "        .. versionadded:: 1.1.0\n",
      "    \n",
      "    Returns\n",
      "    -------\n",
      "    Series or DataFrame\n",
      "        Summary statistics of the Series or Dataframe provided.\n",
      "    \n",
      "    See Also\n",
      "    --------\n",
      "    DataFrame.count: Count number of non-NA/null observations.\n",
      "    DataFrame.max: Maximum of the values in the object.\n",
      "    DataFrame.min: Minimum of the values in the object.\n",
      "    DataFrame.mean: Mean of the values.\n",
      "    DataFrame.std: Standard deviation of the observations.\n",
      "    DataFrame.select_dtypes: Subset of a DataFrame including/excluding\n",
      "        columns based on their dtype.\n",
      "    \n",
      "    Notes\n",
      "    -----\n",
      "    For numeric data, the result's index will include ``count``,\n",
      "    ``mean``, ``std``, ``min``, ``max`` as well as lower, ``50`` and\n",
      "    upper percentiles. By default the lower percentile is ``25`` and the\n",
      "    upper percentile is ``75``. The ``50`` percentile is the\n",
      "    same as the median.\n",
      "    \n",
      "    For object data (e.g. strings or timestamps), the result's index\n",
      "    will include ``count``, ``unique``, ``top``, and ``freq``. The ``top``\n",
      "    is the most common value. The ``freq`` is the most common value's\n",
      "    frequency. Timestamps also include the ``first`` and ``last`` items.\n",
      "    \n",
      "    If multiple object values have the highest count, then the\n",
      "    ``count`` and ``top`` results will be arbitrarily chosen from\n",
      "    among those with the highest count.\n",
      "    \n",
      "    For mixed data types provided via a ``DataFrame``, the default is to\n",
      "    return only an analysis of numeric columns. If the dataframe consists\n",
      "    only of object and categorical data without any numeric columns, the\n",
      "    default is to return an analysis of both the object and categorical\n",
      "    columns. If ``include='all'`` is provided as an option, the result\n",
      "    will include a union of attributes of each type.\n",
      "    \n",
      "    The `include` and `exclude` parameters can be used to limit\n",
      "    which columns in a ``DataFrame`` are analyzed for the output.\n",
      "    The parameters are ignored when analyzing a ``Series``.\n",
      "    \n",
      "    Examples\n",
      "    --------\n",
      "    Describing a numeric ``Series``.\n",
      "    \n",
      "    >>> s = pd.Series([1, 2, 3])\n",
      "    >>> s.describe()\n",
      "    count    3.0\n",
      "    mean     2.0\n",
      "    std      1.0\n",
      "    min      1.0\n",
      "    25%      1.5\n",
      "    50%      2.0\n",
      "    75%      2.5\n",
      "    max      3.0\n",
      "    dtype: float64\n",
      "    \n",
      "    Describing a categorical ``Series``.\n",
      "    \n",
      "    >>> s = pd.Series(['a', 'a', 'b', 'c'])\n",
      "    >>> s.describe()\n",
      "    count     4\n",
      "    unique    3\n",
      "    top       a\n",
      "    freq      2\n",
      "    dtype: object\n",
      "    \n",
      "    Describing a timestamp ``Series``.\n",
      "    \n",
      "    >>> s = pd.Series([\n",
      "    ...   np.datetime64(\"2000-01-01\"),\n",
      "    ...   np.datetime64(\"2010-01-01\"),\n",
      "    ...   np.datetime64(\"2010-01-01\")\n",
      "    ... ])\n",
      "    >>> s.describe(datetime_is_numeric=True)\n",
      "    count                      3\n",
      "    mean     2006-09-01 08:00:00\n",
      "    min      2000-01-01 00:00:00\n",
      "    25%      2004-12-31 12:00:00\n",
      "    50%      2010-01-01 00:00:00\n",
      "    75%      2010-01-01 00:00:00\n",
      "    max      2010-01-01 00:00:00\n",
      "    dtype: object\n",
      "    \n",
      "    Describing a ``DataFrame``. By default only numeric fields\n",
      "    are returned.\n",
      "    \n",
      "    >>> df = pd.DataFrame({'categorical': pd.Categorical(['d','e','f']),\n",
      "    ...                    'numeric': [1, 2, 3],\n",
      "    ...                    'object': ['a', 'b', 'c']\n",
      "    ...                   })\n",
      "    >>> df.describe()\n",
      "           numeric\n",
      "    count      3.0\n",
      "    mean       2.0\n",
      "    std        1.0\n",
      "    min        1.0\n",
      "    25%        1.5\n",
      "    50%        2.0\n",
      "    75%        2.5\n",
      "    max        3.0\n",
      "    \n",
      "    Describing all columns of a ``DataFrame`` regardless of data type.\n",
      "    \n",
      "    >>> df.describe(include='all')  # doctest: +SKIP\n",
      "           categorical  numeric object\n",
      "    count            3      3.0      3\n",
      "    unique           3      NaN      3\n",
      "    top              f      NaN      a\n",
      "    freq             1      NaN      1\n",
      "    mean           NaN      2.0    NaN\n",
      "    std            NaN      1.0    NaN\n",
      "    min            NaN      1.0    NaN\n",
      "    25%            NaN      1.5    NaN\n",
      "    50%            NaN      2.0    NaN\n",
      "    75%            NaN      2.5    NaN\n",
      "    max            NaN      3.0    NaN\n",
      "    \n",
      "    Describing a column from a ``DataFrame`` by accessing it as\n",
      "    an attribute.\n",
      "    \n",
      "    >>> df.numeric.describe()\n",
      "    count    3.0\n",
      "    mean     2.0\n",
      "    std      1.0\n",
      "    min      1.0\n",
      "    25%      1.5\n",
      "    50%      2.0\n",
      "    75%      2.5\n",
      "    max      3.0\n",
      "    Name: numeric, dtype: float64\n",
      "    \n",
      "    Including only numeric columns in a ``DataFrame`` description.\n",
      "    \n",
      "    >>> df.describe(include=[np.number])\n",
      "           numeric\n",
      "    count      3.0\n",
      "    mean       2.0\n",
      "    std        1.0\n",
      "    min        1.0\n",
      "    25%        1.5\n",
      "    50%        2.0\n",
      "    75%        2.5\n",
      "    max        3.0\n",
      "    \n",
      "    Including only string columns in a ``DataFrame`` description.\n",
      "    \n",
      "    >>> df.describe(include=[object])  # doctest: +SKIP\n",
      "           object\n",
      "    count       3\n",
      "    unique      3\n",
      "    top         a\n",
      "    freq        1\n",
      "    \n",
      "    Including only categorical columns from a ``DataFrame`` description.\n",
      "    \n",
      "    >>> df.describe(include=['category'])\n",
      "           categorical\n",
      "    count            3\n",
      "    unique           3\n",
      "    top              d\n",
      "    freq             1\n",
      "    \n",
      "    Excluding numeric columns from a ``DataFrame`` description.\n",
      "    \n",
      "    >>> df.describe(exclude=[np.number])  # doctest: +SKIP\n",
      "           categorical object\n",
      "    count            3      3\n",
      "    unique           3      3\n",
      "    top              f      a\n",
      "    freq             1      1\n",
      "    \n",
      "    Excluding object columns from a ``DataFrame`` description.\n",
      "    \n",
      "    >>> df.describe(exclude=[object])  # doctest: +SKIP\n",
      "           categorical  numeric\n",
      "    count            3      3.0\n",
      "    unique           3      NaN\n",
      "    top              f      NaN\n",
      "    freq             1      NaN\n",
      "    mean           NaN      2.0\n",
      "    std            NaN      1.0\n",
      "    min            NaN      1.0\n",
      "    25%            NaN      1.5\n",
      "    50%            NaN      2.0\n",
      "    75%            NaN      2.5\n",
      "    max            NaN      3.0\n",
      "\n"
     ]
    }
   ],
   "source": [
    "help(df.describe)"
   ]
  },
  {
   "cell_type": "code",
   "execution_count": 94,
   "id": "63b2ce04",
   "metadata": {},
   "outputs": [
    {
     "data": {
      "text/html": [
       "<div>\n",
       "<style scoped>\n",
       "    .dataframe tbody tr th:only-of-type {\n",
       "        vertical-align: middle;\n",
       "    }\n",
       "\n",
       "    .dataframe tbody tr th {\n",
       "        vertical-align: top;\n",
       "    }\n",
       "\n",
       "    .dataframe thead th {\n",
       "        text-align: right;\n",
       "    }\n",
       "</style>\n",
       "<table border=\"1\" class=\"dataframe\">\n",
       "  <thead>\n",
       "    <tr style=\"text-align: right;\">\n",
       "      <th></th>\n",
       "      <th>v</th>\n",
       "      <th>w</th>\n",
       "      <th>x</th>\n",
       "      <th>y</th>\n",
       "      <th>z</th>\n",
       "      <th>u</th>\n",
       "    </tr>\n",
       "  </thead>\n",
       "  <tbody>\n",
       "    <tr>\n",
       "      <th>count</th>\n",
       "      <td>4.000000</td>\n",
       "      <td>4.000000</td>\n",
       "      <td>4.000000</td>\n",
       "      <td>4.000000</td>\n",
       "      <td>4.000000</td>\n",
       "      <td>4</td>\n",
       "    </tr>\n",
       "    <tr>\n",
       "      <th>unique</th>\n",
       "      <td>NaN</td>\n",
       "      <td>NaN</td>\n",
       "      <td>NaN</td>\n",
       "      <td>NaN</td>\n",
       "      <td>NaN</td>\n",
       "      <td>4</td>\n",
       "    </tr>\n",
       "    <tr>\n",
       "      <th>top</th>\n",
       "      <td>NaN</td>\n",
       "      <td>NaN</td>\n",
       "      <td>NaN</td>\n",
       "      <td>NaN</td>\n",
       "      <td>NaN</td>\n",
       "      <td>this</td>\n",
       "    </tr>\n",
       "    <tr>\n",
       "      <th>freq</th>\n",
       "      <td>NaN</td>\n",
       "      <td>NaN</td>\n",
       "      <td>NaN</td>\n",
       "      <td>NaN</td>\n",
       "      <td>NaN</td>\n",
       "      <td>1</td>\n",
       "    </tr>\n",
       "    <tr>\n",
       "      <th>mean</th>\n",
       "      <td>40.000000</td>\n",
       "      <td>68.500000</td>\n",
       "      <td>72.750000</td>\n",
       "      <td>81.750000</td>\n",
       "      <td>46.500000</td>\n",
       "      <td>NaN</td>\n",
       "    </tr>\n",
       "    <tr>\n",
       "      <th>std</th>\n",
       "      <td>18.129166</td>\n",
       "      <td>29.149042</td>\n",
       "      <td>21.884165</td>\n",
       "      <td>7.762087</td>\n",
       "      <td>29.456182</td>\n",
       "      <td>NaN</td>\n",
       "    </tr>\n",
       "    <tr>\n",
       "      <th>min</th>\n",
       "      <td>20.000000</td>\n",
       "      <td>25.000000</td>\n",
       "      <td>46.000000</td>\n",
       "      <td>72.000000</td>\n",
       "      <td>9.000000</td>\n",
       "      <td>NaN</td>\n",
       "    </tr>\n",
       "    <tr>\n",
       "      <th>25%</th>\n",
       "      <td>32.750000</td>\n",
       "      <td>66.250000</td>\n",
       "      <td>63.250000</td>\n",
       "      <td>77.250000</td>\n",
       "      <td>37.500000</td>\n",
       "      <td>NaN</td>\n",
       "    </tr>\n",
       "    <tr>\n",
       "      <th>50%</th>\n",
       "      <td>38.000000</td>\n",
       "      <td>81.000000</td>\n",
       "      <td>73.000000</td>\n",
       "      <td>83.500000</td>\n",
       "      <td>48.000000</td>\n",
       "      <td>NaN</td>\n",
       "    </tr>\n",
       "    <tr>\n",
       "      <th>75%</th>\n",
       "      <td>45.250000</td>\n",
       "      <td>83.250000</td>\n",
       "      <td>82.500000</td>\n",
       "      <td>88.000000</td>\n",
       "      <td>57.000000</td>\n",
       "      <td>NaN</td>\n",
       "    </tr>\n",
       "    <tr>\n",
       "      <th>max</th>\n",
       "      <td>64.000000</td>\n",
       "      <td>87.000000</td>\n",
       "      <td>99.000000</td>\n",
       "      <td>88.000000</td>\n",
       "      <td>81.000000</td>\n",
       "      <td>NaN</td>\n",
       "    </tr>\n",
       "  </tbody>\n",
       "</table>\n",
       "</div>"
      ],
      "text/plain": [
       "                v          w          x          y          z     u\n",
       "count    4.000000   4.000000   4.000000   4.000000   4.000000     4\n",
       "unique        NaN        NaN        NaN        NaN        NaN     4\n",
       "top           NaN        NaN        NaN        NaN        NaN  this\n",
       "freq          NaN        NaN        NaN        NaN        NaN     1\n",
       "mean    40.000000  68.500000  72.750000  81.750000  46.500000   NaN\n",
       "std     18.129166  29.149042  21.884165   7.762087  29.456182   NaN\n",
       "min     20.000000  25.000000  46.000000  72.000000   9.000000   NaN\n",
       "25%     32.750000  66.250000  63.250000  77.250000  37.500000   NaN\n",
       "50%     38.000000  81.000000  73.000000  83.500000  48.000000   NaN\n",
       "75%     45.250000  83.250000  82.500000  88.000000  57.000000   NaN\n",
       "max     64.000000  87.000000  99.000000  88.000000  81.000000   NaN"
      ]
     },
     "execution_count": 94,
     "metadata": {},
     "output_type": "execute_result"
    }
   ],
   "source": [
    "df.describe(include='all')"
   ]
  },
  {
   "cell_type": "code",
   "execution_count": 95,
   "id": "0860b6da",
   "metadata": {},
   "outputs": [
    {
     "data": {
      "text/plain": [
       "0            This\n",
       "1              is\n",
       "2             the\n",
       "3            most\n",
       "4     interesting\n",
       "5           thing\n",
       "6            that\n",
       "7               I\n",
       "8            have\n",
       "9         written\n",
       "10          today\n",
       "11            but\n",
       "12           that\n",
       "13             is\n",
       "14            not\n",
       "15           hard\n",
       "16        because\n",
       "17             it\n",
       "18             is\n",
       "19           very\n",
       "20          early\n",
       "21             in\n",
       "22            the\n",
       "23        morning\n",
       "24          where\n",
       "25              I\n",
       "26           live\n",
       "dtype: object"
      ]
     },
     "execution_count": 95,
     "metadata": {},
     "output_type": "execute_result"
    }
   ],
   "source": [
    "s"
   ]
  },
  {
   "cell_type": "code",
   "execution_count": 96,
   "id": "df3cf7ca",
   "metadata": {},
   "outputs": [
    {
     "data": {
      "text/plain": [
       "is             3\n",
       "the            2\n",
       "that           2\n",
       "I              2\n",
       "This           1\n",
       "hard           1\n",
       "where          1\n",
       "morning        1\n",
       "in             1\n",
       "early          1\n",
       "very           1\n",
       "it             1\n",
       "because        1\n",
       "but            1\n",
       "not            1\n",
       "today          1\n",
       "written        1\n",
       "have           1\n",
       "thing          1\n",
       "interesting    1\n",
       "most           1\n",
       "live           1\n",
       "dtype: int64"
      ]
     },
     "execution_count": 96,
     "metadata": {},
     "output_type": "execute_result"
    }
   ],
   "source": [
    "s.value_counts()"
   ]
  },
  {
   "cell_type": "code",
   "execution_count": 97,
   "id": "3e882c73",
   "metadata": {},
   "outputs": [
    {
     "data": {
      "text/plain": [
       "['this', 'is', 'a', 'test']"
      ]
     },
     "execution_count": 97,
     "metadata": {},
     "output_type": "execute_result"
    }
   ],
   "source": [
    "'this is a test'.split()"
   ]
  },
  {
   "cell_type": "code",
   "execution_count": 98,
   "id": "ab737488",
   "metadata": {},
   "outputs": [
    {
     "data": {
      "text/plain": [
       "0                       this is a test\n",
       "1                 this is another test\n",
       "2    yet another one for us to look at\n",
       "dtype: object"
      ]
     },
     "execution_count": 98,
     "metadata": {},
     "output_type": "execute_result"
    }
   ],
   "source": [
    "s = Series(['this is a test', 'this is another test', 'yet another one for us to look at'])\n",
    "s"
   ]
  },
  {
   "cell_type": "code",
   "execution_count": 99,
   "id": "67040601",
   "metadata": {},
   "outputs": [
    {
     "data": {
      "text/plain": [
       "0                           [this, is, a, test]\n",
       "1                     [this, is, another, test]\n",
       "2    [yet, another, one, for, us, to, look, at]\n",
       "dtype: object"
      ]
     },
     "execution_count": 99,
     "metadata": {},
     "output_type": "execute_result"
    }
   ],
   "source": [
    "# one of the methods that we can invoke on .str is split\n",
    "\n",
    "s.str.split()"
   ]
  },
  {
   "cell_type": "code",
   "execution_count": 100,
   "id": "c6d3d634",
   "metadata": {},
   "outputs": [
    {
     "data": {
      "text/plain": [
       "['this', 'is', 'a', 'test']"
      ]
     },
     "execution_count": 100,
     "metadata": {},
     "output_type": "execute_result"
    }
   ],
   "source": [
    "s.str.split()[0]"
   ]
  },
  {
   "cell_type": "code",
   "execution_count": 101,
   "id": "4b276dec",
   "metadata": {},
   "outputs": [
    {
     "data": {
      "text/plain": [
       "0    t\n",
       "1    t\n",
       "2    y\n",
       "dtype: object"
      ]
     },
     "execution_count": 101,
     "metadata": {},
     "output_type": "execute_result"
    }
   ],
   "source": [
    "# there is another .str method, called \"get\"\n",
    "# get works just like [] do in regular Python\n",
    "\n",
    "s.str.get(0)  # this returns the first letter of each string"
   ]
  },
  {
   "cell_type": "code",
   "execution_count": 103,
   "id": "62b0ae94",
   "metadata": {},
   "outputs": [
    {
     "data": {
      "text/plain": [
       "0    this\n",
       "1    this\n",
       "2     yet\n",
       "dtype: object"
      ]
     },
     "execution_count": 103,
     "metadata": {},
     "output_type": "execute_result"
    }
   ],
   "source": [
    "# what if I have a list? Can I retrieve from there, too?\n",
    "# answer: yes!  But it'll be a bit weird\n",
    "\n",
    "s.str.split().str.get(0)"
   ]
  },
  {
   "cell_type": "markdown",
   "id": "1bf7a20d",
   "metadata": {},
   "source": [
    "# Exercise: Letter frequencies\n",
    "\n",
    "Using Pandas, find the 5 most common characters that appear in a string."
   ]
  },
  {
   "cell_type": "code",
   "execution_count": 106,
   "id": "e1b99a7f",
   "metadata": {},
   "outputs": [],
   "source": [
    "text = 'this is a bunch of characters that will be analyzed'\n",
    "\n",
    "s = Series(list(text))"
   ]
  },
  {
   "cell_type": "code",
   "execution_count": 107,
   "id": "3ee306e0",
   "metadata": {},
   "outputs": [
    {
     "data": {
      "text/plain": [
       "0     t\n",
       "1     h\n",
       "2     i\n",
       "3     s\n",
       "4      \n",
       "5     i\n",
       "6     s\n",
       "7      \n",
       "8     a\n",
       "9      \n",
       "10    b\n",
       "11    u\n",
       "12    n\n",
       "13    c\n",
       "14    h\n",
       "15     \n",
       "16    o\n",
       "17    f\n",
       "18     \n",
       "19    c\n",
       "20    h\n",
       "21    a\n",
       "22    r\n",
       "23    a\n",
       "24    c\n",
       "25    t\n",
       "26    e\n",
       "27    r\n",
       "28    s\n",
       "29     \n",
       "30    t\n",
       "31    h\n",
       "32    a\n",
       "33    t\n",
       "34     \n",
       "35    w\n",
       "36    i\n",
       "37    l\n",
       "38    l\n",
       "39     \n",
       "40    b\n",
       "41    e\n",
       "42     \n",
       "43    a\n",
       "44    n\n",
       "45    a\n",
       "46    l\n",
       "47    y\n",
       "48    z\n",
       "49    e\n",
       "50    d\n",
       "dtype: object"
      ]
     },
     "execution_count": 107,
     "metadata": {},
     "output_type": "execute_result"
    }
   ],
   "source": [
    "s"
   ]
  },
  {
   "cell_type": "code",
   "execution_count": 108,
   "id": "8b9860f4",
   "metadata": {},
   "outputs": [
    {
     "data": {
      "text/plain": [
       "     9\n",
       "a    6\n",
       "t    4\n",
       "h    4\n",
       "l    3\n",
       "e    3\n",
       "c    3\n",
       "s    3\n",
       "i    3\n",
       "n    2\n",
       "b    2\n",
       "r    2\n",
       "u    1\n",
       "o    1\n",
       "f    1\n",
       "w    1\n",
       "y    1\n",
       "z    1\n",
       "d    1\n",
       "dtype: int64"
      ]
     },
     "execution_count": 108,
     "metadata": {},
     "output_type": "execute_result"
    }
   ],
   "source": [
    "s.value_counts()"
   ]
  },
  {
   "cell_type": "code",
   "execution_count": 109,
   "id": "2a04e0fb",
   "metadata": {
    "collapsed": true
   },
   "outputs": [
    {
     "name": "stdout",
     "output_type": "stream",
     "text": [
      "Help on method cat in module pandas.core.strings.accessor:\n",
      "\n",
      "cat(others=None, sep=None, na_rep=None, join='left') -> 'str | Series | Index' method of pandas.core.strings.accessor.StringMethods instance\n",
      "    Concatenate strings in the Series/Index with given separator.\n",
      "    \n",
      "    If `others` is specified, this function concatenates the Series/Index\n",
      "    and elements of `others` element-wise.\n",
      "    If `others` is not passed, then all values in the Series/Index are\n",
      "    concatenated into a single string with a given `sep`.\n",
      "    \n",
      "    Parameters\n",
      "    ----------\n",
      "    others : Series, Index, DataFrame, np.ndarray or list-like\n",
      "        Series, Index, DataFrame, np.ndarray (one- or two-dimensional) and\n",
      "        other list-likes of strings must have the same length as the\n",
      "        calling Series/Index, with the exception of indexed objects (i.e.\n",
      "        Series/Index/DataFrame) if `join` is not None.\n",
      "    \n",
      "        If others is a list-like that contains a combination of Series,\n",
      "        Index or np.ndarray (1-dim), then all elements will be unpacked and\n",
      "        must satisfy the above criteria individually.\n",
      "    \n",
      "        If others is None, the method returns the concatenation of all\n",
      "        strings in the calling Series/Index.\n",
      "    sep : str, default ''\n",
      "        The separator between the different elements/columns. By default\n",
      "        the empty string `''` is used.\n",
      "    na_rep : str or None, default None\n",
      "        Representation that is inserted for all missing values:\n",
      "    \n",
      "        - If `na_rep` is None, and `others` is None, missing values in the\n",
      "          Series/Index are omitted from the result.\n",
      "        - If `na_rep` is None, and `others` is not None, a row containing a\n",
      "          missing value in any of the columns (before concatenation) will\n",
      "          have a missing value in the result.\n",
      "    join : {'left', 'right', 'outer', 'inner'}, default 'left'\n",
      "        Determines the join-style between the calling Series/Index and any\n",
      "        Series/Index/DataFrame in `others` (objects without an index need\n",
      "        to match the length of the calling Series/Index). To disable\n",
      "        alignment, use `.values` on any Series/Index/DataFrame in `others`.\n",
      "    \n",
      "        .. versionadded:: 0.23.0\n",
      "        .. versionchanged:: 1.0.0\n",
      "            Changed default of `join` from None to `'left'`.\n",
      "    \n",
      "    Returns\n",
      "    -------\n",
      "    str, Series or Index\n",
      "        If `others` is None, `str` is returned, otherwise a `Series/Index`\n",
      "        (same type as caller) of objects is returned.\n",
      "    \n",
      "    See Also\n",
      "    --------\n",
      "    split : Split each string in the Series/Index.\n",
      "    join : Join lists contained as elements in the Series/Index.\n",
      "    \n",
      "    Examples\n",
      "    --------\n",
      "    When not passing `others`, all values are concatenated into a single\n",
      "    string:\n",
      "    \n",
      "    >>> s = pd.Series(['a', 'b', np.nan, 'd'])\n",
      "    >>> s.str.cat(sep=' ')\n",
      "    'a b d'\n",
      "    \n",
      "    By default, NA values in the Series are ignored. Using `na_rep`, they\n",
      "    can be given a representation:\n",
      "    \n",
      "    >>> s.str.cat(sep=' ', na_rep='?')\n",
      "    'a b ? d'\n",
      "    \n",
      "    If `others` is specified, corresponding values are concatenated with\n",
      "    the separator. Result will be a Series of strings.\n",
      "    \n",
      "    >>> s.str.cat(['A', 'B', 'C', 'D'], sep=',')\n",
      "    0    a,A\n",
      "    1    b,B\n",
      "    2    NaN\n",
      "    3    d,D\n",
      "    dtype: object\n",
      "    \n",
      "    Missing values will remain missing in the result, but can again be\n",
      "    represented using `na_rep`\n",
      "    \n",
      "    >>> s.str.cat(['A', 'B', 'C', 'D'], sep=',', na_rep='-')\n",
      "    0    a,A\n",
      "    1    b,B\n",
      "    2    -,C\n",
      "    3    d,D\n",
      "    dtype: object\n",
      "    \n",
      "    If `sep` is not specified, the values are concatenated without\n",
      "    separation.\n",
      "    \n",
      "    >>> s.str.cat(['A', 'B', 'C', 'D'], na_rep='-')\n",
      "    0    aA\n",
      "    1    bB\n",
      "    2    -C\n",
      "    3    dD\n",
      "    dtype: object\n",
      "    \n",
      "    Series with different indexes can be aligned before concatenation. The\n",
      "    `join`-keyword works as in other methods.\n",
      "    \n",
      "    >>> t = pd.Series(['d', 'a', 'e', 'c'], index=[3, 0, 4, 2])\n",
      "    >>> s.str.cat(t, join='left', na_rep='-')\n",
      "    0    aa\n",
      "    1    b-\n",
      "    2    -c\n",
      "    3    dd\n",
      "    dtype: object\n",
      "    >>>\n",
      "    >>> s.str.cat(t, join='outer', na_rep='-')\n",
      "    0    aa\n",
      "    1    b-\n",
      "    2    -c\n",
      "    3    dd\n",
      "    4    -e\n",
      "    dtype: object\n",
      "    >>>\n",
      "    >>> s.str.cat(t, join='inner', na_rep='-')\n",
      "    0    aa\n",
      "    2    -c\n",
      "    3    dd\n",
      "    dtype: object\n",
      "    >>>\n",
      "    >>> s.str.cat(t, join='right', na_rep='-')\n",
      "    3    dd\n",
      "    0    aa\n",
      "    4    -e\n",
      "    2    -c\n",
      "    dtype: object\n",
      "    \n",
      "    For more examples, see :ref:`here <text.concatenate>`.\n",
      "\n"
     ]
    }
   ],
   "source": [
    "help(s.str.cat)"
   ]
  },
  {
   "cell_type": "code",
   "execution_count": 111,
   "id": "68b40c7f",
   "metadata": {},
   "outputs": [
    {
     "data": {
      "text/plain": [
       "0     this\n",
       "1       is\n",
       "2        a\n",
       "3    bunch\n",
       "4       of\n",
       "5    words\n",
       "dtype: object"
      ]
     },
     "execution_count": 111,
     "metadata": {},
     "output_type": "execute_result"
    }
   ],
   "source": [
    "s = Series('this is a bunch of words'.split())\n",
    "s"
   ]
  },
  {
   "cell_type": "code",
   "execution_count": 112,
   "id": "e1e314f1",
   "metadata": {},
   "outputs": [
    {
     "data": {
      "text/plain": [
       "0    t\n",
       "1    i\n",
       "2    a\n",
       "3    b\n",
       "4    o\n",
       "5    w\n",
       "dtype: object"
      ]
     },
     "execution_count": 112,
     "metadata": {},
     "output_type": "execute_result"
    }
   ],
   "source": [
    "# I can use get to retrieve one character\n",
    "\n",
    "s.str.get(0)"
   ]
  },
  {
   "cell_type": "code",
   "execution_count": 113,
   "id": "3c786bcd",
   "metadata": {},
   "outputs": [
    {
     "data": {
      "text/plain": [
       "'ll'"
      ]
     },
     "execution_count": 113,
     "metadata": {},
     "output_type": "execute_result"
    }
   ],
   "source": [
    "word = 'hello'\n",
    "\n",
    "word[2:4]  # starting at index 2, until (not including) index 4"
   ]
  },
  {
   "cell_type": "code",
   "execution_count": 114,
   "id": "26f1e368",
   "metadata": {},
   "outputs": [
    {
     "data": {
      "text/plain": [
       "0    is\n",
       "1      \n",
       "2      \n",
       "3    nc\n",
       "4      \n",
       "5    rd\n",
       "dtype: object"
      ]
     },
     "execution_count": 114,
     "metadata": {},
     "output_type": "execute_result"
    }
   ],
   "source": [
    "# I can do the same thing with .str.slice, specifying the start and stop or start, stop, step\n",
    "s.str.slice(2, 4)   # get, from each word in s, from index 2 until (not including) index 4"
   ]
  },
  {
   "cell_type": "code",
   "execution_count": 116,
   "id": "7888ab76",
   "metadata": {},
   "outputs": [
    {
     "data": {
      "text/plain": [
       "0    th\n",
       "1    is\n",
       "2     a\n",
       "3    bu\n",
       "4    of\n",
       "5    wo\n",
       "dtype: object"
      ]
     },
     "execution_count": 116,
     "metadata": {},
     "output_type": "execute_result"
    }
   ],
   "source": [
    "s.str.slice(0, 2)"
   ]
  },
  {
   "cell_type": "code",
   "execution_count": 117,
   "id": "4d43a2b8",
   "metadata": {},
   "outputs": [
    {
     "data": {
      "text/plain": [
       "0     is\n",
       "1       \n",
       "2       \n",
       "3    nch\n",
       "4       \n",
       "5    rds\n",
       "dtype: object"
      ]
     },
     "execution_count": 117,
     "metadata": {},
     "output_type": "execute_result"
    }
   ],
   "source": [
    "# from index 2 through the end...\n",
    "\n",
    "s.str.slice(2, None)"
   ]
  },
  {
   "cell_type": "markdown",
   "id": "7d8559e9",
   "metadata": {},
   "source": [
    "# Exercise: Summing prices\n",
    "\n",
    "1. Create a series of strings, in which each string consists of a \\\\$ followed by one or more integers (for prices).\n",
    "2. Sum the prices. This will invokve removing the \\\\$ and also turning the values into integers."
   ]
  },
  {
   "cell_type": "code",
   "execution_count": 118,
   "id": "679ffbf5",
   "metadata": {},
   "outputs": [],
   "source": [
    "s = Series('$100 $234 $102 $2 $1234'.split())"
   ]
  },
  {
   "cell_type": "code",
   "execution_count": 119,
   "id": "698f5d54",
   "metadata": {},
   "outputs": [
    {
     "data": {
      "text/plain": [
       "0     $100\n",
       "1     $234\n",
       "2     $102\n",
       "3       $2\n",
       "4    $1234\n",
       "dtype: object"
      ]
     },
     "execution_count": 119,
     "metadata": {},
     "output_type": "execute_result"
    }
   ],
   "source": [
    "s"
   ]
  },
  {
   "cell_type": "code",
   "execution_count": 123,
   "id": "a1f29ec5",
   "metadata": {},
   "outputs": [
    {
     "data": {
      "text/plain": [
       "1672"
      ]
     },
     "execution_count": 123,
     "metadata": {},
     "output_type": "execute_result"
    }
   ],
   "source": [
    "# option 1: use a slice to remove the first character\n",
    "\n",
    "s.str.slice(1, None).astype('int64').sum()"
   ]
  },
  {
   "cell_type": "code",
   "execution_count": 126,
   "id": "59c59414",
   "metadata": {},
   "outputs": [
    {
     "data": {
      "text/plain": [
       "1672"
      ]
     },
     "execution_count": 126,
     "metadata": {},
     "output_type": "execute_result"
    }
   ],
   "source": [
    "# option 2: use \"str.replace\" to remove the $\n",
    "\n",
    "s.str.replace('$', '', regex=False).astype('int64').sum()  # treat our first string as literal"
   ]
  },
  {
   "cell_type": "code",
   "execution_count": 139,
   "id": "171acabc",
   "metadata": {
    "scrolled": true
   },
   "outputs": [
    {
     "data": {
      "text/plain": [
       "0     100\n",
       "1    2345\n",
       "2     102\n",
       "3       2\n",
       "4    1234\n",
       "dtype: object"
      ]
     },
     "execution_count": 139,
     "metadata": {},
     "output_type": "execute_result"
    }
   ],
   "source": [
    "# option 3: use regular expressions to keep only the numbers\n",
    "\n",
    "s.str.replace('[^\\d]', r'', regex=True)"
   ]
  },
  {
   "cell_type": "code",
   "execution_count": 136,
   "id": "f40231f6",
   "metadata": {},
   "outputs": [],
   "source": [
    "s = Series('$100 $2,345 $102 $2 $1,234'.split())"
   ]
  },
  {
   "cell_type": "code",
   "execution_count": 137,
   "id": "08fd7f7f",
   "metadata": {},
   "outputs": [
    {
     "data": {
      "text/plain": [
       "0      $100\n",
       "1    $2,345\n",
       "2      $102\n",
       "3        $2\n",
       "4    $1,234\n",
       "dtype: object"
      ]
     },
     "execution_count": 137,
     "metadata": {},
     "output_type": "execute_result"
    }
   ],
   "source": [
    "s"
   ]
  },
  {
   "cell_type": "code",
   "execution_count": 138,
   "id": "cd8bff5a",
   "metadata": {},
   "outputs": [
    {
     "data": {
      "text/plain": [
       "0     100\n",
       "1    2345\n",
       "2     102\n",
       "3       2\n",
       "4    1234\n",
       "dtype: object"
      ]
     },
     "execution_count": 138,
     "metadata": {},
     "output_type": "execute_result"
    }
   ],
   "source": [
    "# let's remove both $ and ,\n",
    "\n",
    "s.str.replace('[$,]', '', regex=True)"
   ]
  },
  {
   "cell_type": "code",
   "execution_count": 140,
   "id": "e5f1a7ce",
   "metadata": {},
   "outputs": [
    {
     "data": {
      "text/plain": [
       "0      $100\n",
       "1    $2,345\n",
       "2      $102\n",
       "3        $2\n",
       "4    $1,234\n",
       "dtype: object"
      ]
     },
     "execution_count": 140,
     "metadata": {},
     "output_type": "execute_result"
    }
   ],
   "source": [
    "s"
   ]
  },
  {
   "cell_type": "code",
   "execution_count": 141,
   "id": "682789e0",
   "metadata": {},
   "outputs": [
    {
     "data": {
      "text/plain": [
       "0      100\n",
       "1    2,345\n",
       "2      102\n",
       "3        2\n",
       "4    1,234\n",
       "dtype: object"
      ]
     },
     "execution_count": 141,
     "metadata": {},
     "output_type": "execute_result"
    }
   ],
   "source": [
    "s.str.removeprefix('$')"
   ]
  },
  {
   "cell_type": "code",
   "execution_count": 142,
   "id": "3cf48c5b",
   "metadata": {},
   "outputs": [
    {
     "data": {
      "text/plain": [
       "'alarie'"
      ]
     },
     "execution_count": 142,
     "metadata": {},
     "output_type": "execute_result"
    }
   ],
   "source": [
    "s = 'salaries.xlsx'\n",
    "\n",
    "# assuming that string, how can I get rid of the .xlsx suffix?\n",
    "# many many many people assume you can use \"strip\"\n",
    "\n",
    "s.strip('.xlsx')   # this removes the characters . x l s  from the start and end of the string"
   ]
  },
  {
   "cell_type": "code",
   "execution_count": 143,
   "id": "a7c5242e",
   "metadata": {},
   "outputs": [
    {
     "data": {
      "text/plain": [
       "'salaries'"
      ]
     },
     "execution_count": 143,
     "metadata": {},
     "output_type": "execute_result"
    }
   ],
   "source": [
    "s.removesuffix('.xlsx')"
   ]
  },
  {
   "cell_type": "markdown",
   "id": "0cf5a85d",
   "metadata": {},
   "source": [
    "# Next up\n",
    "\n",
    "1. Dates and times!\n",
    "2. Timestamp + timedelta objects\n",
    "3. Converting dates, especially when reading in data\n",
    "4. The `.dt` accessor\n",
    "5. Time series\n",
    "6. Resampling"
   ]
  },
  {
   "cell_type": "markdown",
   "id": "3c25491a",
   "metadata": {},
   "source": [
    "# Dates and times\n",
    "\n",
    "When we talk about dates and times, we're actually talking about two different types of data:\n",
    "\n",
    "- A specific point in time. That has a unique combination of year-month-day and hour-minute-second. This is known, in the programming world, as a \"datetime\" object, or sometimes a \"timestamp\" object.  Examples are: When our class starts. When our class ends. Birth dates. Death dates. Meeting start times.\n",
    "- The difference between two points in time is also \"time,\" in some way. It doesn't have a year-month-day, but it has a volume of time. These are known in programming as \"time deltas,\" or \"intervals.\"  Examples are: How long someone lived. How long a meeting is scheduled for. How long a semester is.\n",
    "\n",
    "We can even do some basic arithmetic with these two data structures:\n",
    "\n",
    "- `timestamp + timedelta = timestamp`\n",
    "- `timestamp - timestamp = timedelta`"
   ]
  },
  {
   "cell_type": "markdown",
   "id": "aeac004a",
   "metadata": {},
   "source": [
    "# Let's read some datetime data!"
   ]
  },
  {
   "cell_type": "code",
   "execution_count": 144,
   "id": "146e7726",
   "metadata": {},
   "outputs": [],
   "source": [
    "df = pd.read_csv('taxi.csv')"
   ]
  },
  {
   "cell_type": "code",
   "execution_count": 145,
   "id": "f1d6003b",
   "metadata": {},
   "outputs": [
    {
     "data": {
      "text/html": [
       "<div>\n",
       "<style scoped>\n",
       "    .dataframe tbody tr th:only-of-type {\n",
       "        vertical-align: middle;\n",
       "    }\n",
       "\n",
       "    .dataframe tbody tr th {\n",
       "        vertical-align: top;\n",
       "    }\n",
       "\n",
       "    .dataframe thead th {\n",
       "        text-align: right;\n",
       "    }\n",
       "</style>\n",
       "<table border=\"1\" class=\"dataframe\">\n",
       "  <thead>\n",
       "    <tr style=\"text-align: right;\">\n",
       "      <th></th>\n",
       "      <th>VendorID</th>\n",
       "      <th>tpep_pickup_datetime</th>\n",
       "      <th>tpep_dropoff_datetime</th>\n",
       "      <th>passenger_count</th>\n",
       "      <th>trip_distance</th>\n",
       "      <th>pickup_longitude</th>\n",
       "      <th>pickup_latitude</th>\n",
       "      <th>RateCodeID</th>\n",
       "      <th>store_and_fwd_flag</th>\n",
       "      <th>dropoff_longitude</th>\n",
       "      <th>dropoff_latitude</th>\n",
       "      <th>payment_type</th>\n",
       "      <th>fare_amount</th>\n",
       "      <th>extra</th>\n",
       "      <th>mta_tax</th>\n",
       "      <th>tip_amount</th>\n",
       "      <th>tolls_amount</th>\n",
       "      <th>improvement_surcharge</th>\n",
       "      <th>total_amount</th>\n",
       "    </tr>\n",
       "  </thead>\n",
       "  <tbody>\n",
       "    <tr>\n",
       "      <th>0</th>\n",
       "      <td>2</td>\n",
       "      <td>2015-06-02 11:19:29</td>\n",
       "      <td>2015-06-02 11:47:52</td>\n",
       "      <td>1</td>\n",
       "      <td>1.63</td>\n",
       "      <td>-73.954430</td>\n",
       "      <td>40.764141</td>\n",
       "      <td>1</td>\n",
       "      <td>N</td>\n",
       "      <td>-73.974754</td>\n",
       "      <td>40.754093</td>\n",
       "      <td>2</td>\n",
       "      <td>17.0</td>\n",
       "      <td>0.0</td>\n",
       "      <td>0.5</td>\n",
       "      <td>0.00</td>\n",
       "      <td>0.0</td>\n",
       "      <td>0.3</td>\n",
       "      <td>17.80</td>\n",
       "    </tr>\n",
       "    <tr>\n",
       "      <th>1</th>\n",
       "      <td>2</td>\n",
       "      <td>2015-06-02 11:19:30</td>\n",
       "      <td>2015-06-02 11:27:56</td>\n",
       "      <td>1</td>\n",
       "      <td>0.46</td>\n",
       "      <td>-73.971443</td>\n",
       "      <td>40.758942</td>\n",
       "      <td>1</td>\n",
       "      <td>N</td>\n",
       "      <td>-73.978539</td>\n",
       "      <td>40.761909</td>\n",
       "      <td>1</td>\n",
       "      <td>6.5</td>\n",
       "      <td>0.0</td>\n",
       "      <td>0.5</td>\n",
       "      <td>1.00</td>\n",
       "      <td>0.0</td>\n",
       "      <td>0.3</td>\n",
       "      <td>8.30</td>\n",
       "    </tr>\n",
       "    <tr>\n",
       "      <th>2</th>\n",
       "      <td>2</td>\n",
       "      <td>2015-06-02 11:19:31</td>\n",
       "      <td>2015-06-02 11:30:30</td>\n",
       "      <td>1</td>\n",
       "      <td>0.87</td>\n",
       "      <td>-73.978111</td>\n",
       "      <td>40.738434</td>\n",
       "      <td>1</td>\n",
       "      <td>N</td>\n",
       "      <td>-73.990273</td>\n",
       "      <td>40.745438</td>\n",
       "      <td>1</td>\n",
       "      <td>8.0</td>\n",
       "      <td>0.0</td>\n",
       "      <td>0.5</td>\n",
       "      <td>2.20</td>\n",
       "      <td>0.0</td>\n",
       "      <td>0.3</td>\n",
       "      <td>11.00</td>\n",
       "    </tr>\n",
       "    <tr>\n",
       "      <th>3</th>\n",
       "      <td>2</td>\n",
       "      <td>2015-06-02 11:19:31</td>\n",
       "      <td>2015-06-02 11:39:02</td>\n",
       "      <td>1</td>\n",
       "      <td>2.13</td>\n",
       "      <td>-73.945892</td>\n",
       "      <td>40.773529</td>\n",
       "      <td>1</td>\n",
       "      <td>N</td>\n",
       "      <td>-73.971527</td>\n",
       "      <td>40.760330</td>\n",
       "      <td>1</td>\n",
       "      <td>13.5</td>\n",
       "      <td>0.0</td>\n",
       "      <td>0.5</td>\n",
       "      <td>2.86</td>\n",
       "      <td>0.0</td>\n",
       "      <td>0.3</td>\n",
       "      <td>17.16</td>\n",
       "    </tr>\n",
       "    <tr>\n",
       "      <th>4</th>\n",
       "      <td>1</td>\n",
       "      <td>2015-06-02 11:19:32</td>\n",
       "      <td>2015-06-02 11:32:49</td>\n",
       "      <td>1</td>\n",
       "      <td>1.40</td>\n",
       "      <td>-73.979088</td>\n",
       "      <td>40.776772</td>\n",
       "      <td>1</td>\n",
       "      <td>N</td>\n",
       "      <td>-73.982162</td>\n",
       "      <td>40.758999</td>\n",
       "      <td>2</td>\n",
       "      <td>9.5</td>\n",
       "      <td>0.0</td>\n",
       "      <td>0.5</td>\n",
       "      <td>0.00</td>\n",
       "      <td>0.0</td>\n",
       "      <td>0.3</td>\n",
       "      <td>10.30</td>\n",
       "    </tr>\n",
       "  </tbody>\n",
       "</table>\n",
       "</div>"
      ],
      "text/plain": [
       "   VendorID tpep_pickup_datetime tpep_dropoff_datetime  passenger_count  \\\n",
       "0         2  2015-06-02 11:19:29   2015-06-02 11:47:52                1   \n",
       "1         2  2015-06-02 11:19:30   2015-06-02 11:27:56                1   \n",
       "2         2  2015-06-02 11:19:31   2015-06-02 11:30:30                1   \n",
       "3         2  2015-06-02 11:19:31   2015-06-02 11:39:02                1   \n",
       "4         1  2015-06-02 11:19:32   2015-06-02 11:32:49                1   \n",
       "\n",
       "   trip_distance  pickup_longitude  pickup_latitude  RateCodeID  \\\n",
       "0           1.63        -73.954430        40.764141           1   \n",
       "1           0.46        -73.971443        40.758942           1   \n",
       "2           0.87        -73.978111        40.738434           1   \n",
       "3           2.13        -73.945892        40.773529           1   \n",
       "4           1.40        -73.979088        40.776772           1   \n",
       "\n",
       "  store_and_fwd_flag  dropoff_longitude  dropoff_latitude  payment_type  \\\n",
       "0                  N         -73.974754         40.754093             2   \n",
       "1                  N         -73.978539         40.761909             1   \n",
       "2                  N         -73.990273         40.745438             1   \n",
       "3                  N         -73.971527         40.760330             1   \n",
       "4                  N         -73.982162         40.758999             2   \n",
       "\n",
       "   fare_amount  extra  mta_tax  tip_amount  tolls_amount  \\\n",
       "0         17.0    0.0      0.5        0.00           0.0   \n",
       "1          6.5    0.0      0.5        1.00           0.0   \n",
       "2          8.0    0.0      0.5        2.20           0.0   \n",
       "3         13.5    0.0      0.5        2.86           0.0   \n",
       "4          9.5    0.0      0.5        0.00           0.0   \n",
       "\n",
       "   improvement_surcharge  total_amount  \n",
       "0                    0.3         17.80  \n",
       "1                    0.3          8.30  \n",
       "2                    0.3         11.00  \n",
       "3                    0.3         17.16  \n",
       "4                    0.3         10.30  "
      ]
     },
     "execution_count": 145,
     "metadata": {},
     "output_type": "execute_result"
    }
   ],
   "source": [
    "df.head()"
   ]
  },
  {
   "cell_type": "code",
   "execution_count": 146,
   "id": "4c371b62",
   "metadata": {},
   "outputs": [
    {
     "data": {
      "text/plain": [
       "VendorID                   int64\n",
       "tpep_pickup_datetime      object\n",
       "tpep_dropoff_datetime     object\n",
       "passenger_count            int64\n",
       "trip_distance            float64\n",
       "pickup_longitude         float64\n",
       "pickup_latitude          float64\n",
       "RateCodeID                 int64\n",
       "store_and_fwd_flag        object\n",
       "dropoff_longitude        float64\n",
       "dropoff_latitude         float64\n",
       "payment_type               int64\n",
       "fare_amount              float64\n",
       "extra                    float64\n",
       "mta_tax                  float64\n",
       "tip_amount               float64\n",
       "tolls_amount             float64\n",
       "improvement_surcharge    float64\n",
       "total_amount             float64\n",
       "dtype: object"
      ]
     },
     "execution_count": 146,
     "metadata": {},
     "output_type": "execute_result"
    }
   ],
   "source": [
    "# what are the dtypes of our columns?\n",
    "\n",
    "df.dtypes"
   ]
  },
  {
   "cell_type": "code",
   "execution_count": 149,
   "id": "786a64ca",
   "metadata": {},
   "outputs": [
    {
     "data": {
      "text/plain": [
       "0       2015\n",
       "1       2015\n",
       "2       2015\n",
       "3       2015\n",
       "4       2015\n",
       "        ... \n",
       "9994    2015\n",
       "9995    2015\n",
       "9996    2015\n",
       "9997    2015\n",
       "9998    2015\n",
       "Name: tpep_pickup_datetime, Length: 9999, dtype: object"
      ]
     },
     "execution_count": 149,
     "metadata": {},
     "output_type": "execute_result"
    }
   ],
   "source": [
    "# example: I want to get the year from each of our pickup timestamps\n",
    "# how can I do that?\n",
    "\n",
    "df['tpep_pickup_datetime'].str.slice(0, 4)"
   ]
  },
  {
   "cell_type": "code",
   "execution_count": 151,
   "id": "d2e64ee8",
   "metadata": {},
   "outputs": [
    {
     "data": {
      "text/plain": [
       "VendorID                          int64\n",
       "tpep_pickup_datetime     datetime64[ns]\n",
       "tpep_dropoff_datetime    datetime64[ns]\n",
       "passenger_count                   int64\n",
       "trip_distance                   float64\n",
       "pickup_longitude                float64\n",
       "pickup_latitude                 float64\n",
       "RateCodeID                        int64\n",
       "store_and_fwd_flag               object\n",
       "dropoff_longitude               float64\n",
       "dropoff_latitude                float64\n",
       "payment_type                      int64\n",
       "fare_amount                     float64\n",
       "extra                           float64\n",
       "mta_tax                         float64\n",
       "tip_amount                      float64\n",
       "tolls_amount                    float64\n",
       "improvement_surcharge           float64\n",
       "total_amount                    float64\n",
       "dtype: object"
      ]
     },
     "execution_count": 151,
     "metadata": {},
     "output_type": "execute_result"
    }
   ],
   "source": [
    "# fortunately, Pandas has a very smart builtin date parser\n",
    "# all we need to do, if our dates are in a normal format, is ask\n",
    "# Pandas to turn the date strings into dates\n",
    "\n",
    "# option 1: call it explicitly, ourselves\n",
    "df['tpep_pickup_datetime'] = pd.to_datetime(df['tpep_pickup_datetime'])\n",
    "df['tpep_dropoff_datetime'] = pd.to_datetime(df['tpep_dropoff_datetime'])\n",
    "\n",
    "df.dtypes"
   ]
  },
  {
   "cell_type": "code",
   "execution_count": 152,
   "id": "2e90b736",
   "metadata": {},
   "outputs": [
    {
     "data": {
      "text/plain": [
       "VendorID                          int64\n",
       "tpep_pickup_datetime     datetime64[ns]\n",
       "tpep_dropoff_datetime    datetime64[ns]\n",
       "passenger_count                   int64\n",
       "trip_distance                   float64\n",
       "pickup_longitude                float64\n",
       "pickup_latitude                 float64\n",
       "RateCodeID                        int64\n",
       "store_and_fwd_flag               object\n",
       "dropoff_longitude               float64\n",
       "dropoff_latitude                float64\n",
       "payment_type                      int64\n",
       "fare_amount                     float64\n",
       "extra                           float64\n",
       "mta_tax                         float64\n",
       "tip_amount                      float64\n",
       "tolls_amount                    float64\n",
       "improvement_surcharge           float64\n",
       "total_amount                    float64\n",
       "dtype: object"
      ]
     },
     "execution_count": 152,
     "metadata": {},
     "output_type": "execute_result"
    }
   ],
   "source": [
    "# option 2: when we read data in via CSV, ask Pandas to parse one or more columns\n",
    "\n",
    "df = pd.read_csv('taxi.csv',\n",
    "                parse_dates=['tpep_pickup_datetime', 'tpep_dropoff_datetime'])\n",
    "df.dtypes"
   ]
  },
  {
   "cell_type": "code",
   "execution_count": 153,
   "id": "e9779bfc",
   "metadata": {},
   "outputs": [
    {
     "data": {
      "text/html": [
       "<div>\n",
       "<style scoped>\n",
       "    .dataframe tbody tr th:only-of-type {\n",
       "        vertical-align: middle;\n",
       "    }\n",
       "\n",
       "    .dataframe tbody tr th {\n",
       "        vertical-align: top;\n",
       "    }\n",
       "\n",
       "    .dataframe thead th {\n",
       "        text-align: right;\n",
       "    }\n",
       "</style>\n",
       "<table border=\"1\" class=\"dataframe\">\n",
       "  <thead>\n",
       "    <tr style=\"text-align: right;\">\n",
       "      <th></th>\n",
       "      <th>VendorID</th>\n",
       "      <th>tpep_pickup_datetime</th>\n",
       "      <th>tpep_dropoff_datetime</th>\n",
       "      <th>passenger_count</th>\n",
       "      <th>trip_distance</th>\n",
       "      <th>pickup_longitude</th>\n",
       "      <th>pickup_latitude</th>\n",
       "      <th>RateCodeID</th>\n",
       "      <th>store_and_fwd_flag</th>\n",
       "      <th>dropoff_longitude</th>\n",
       "      <th>dropoff_latitude</th>\n",
       "      <th>payment_type</th>\n",
       "      <th>fare_amount</th>\n",
       "      <th>extra</th>\n",
       "      <th>mta_tax</th>\n",
       "      <th>tip_amount</th>\n",
       "      <th>tolls_amount</th>\n",
       "      <th>improvement_surcharge</th>\n",
       "      <th>total_amount</th>\n",
       "    </tr>\n",
       "  </thead>\n",
       "  <tbody>\n",
       "    <tr>\n",
       "      <th>0</th>\n",
       "      <td>2</td>\n",
       "      <td>2015-06-02 11:19:29</td>\n",
       "      <td>2015-06-02 11:47:52</td>\n",
       "      <td>1</td>\n",
       "      <td>1.63</td>\n",
       "      <td>-73.954430</td>\n",
       "      <td>40.764141</td>\n",
       "      <td>1</td>\n",
       "      <td>N</td>\n",
       "      <td>-73.974754</td>\n",
       "      <td>40.754093</td>\n",
       "      <td>2</td>\n",
       "      <td>17.0</td>\n",
       "      <td>0.0</td>\n",
       "      <td>0.5</td>\n",
       "      <td>0.00</td>\n",
       "      <td>0.0</td>\n",
       "      <td>0.3</td>\n",
       "      <td>17.80</td>\n",
       "    </tr>\n",
       "    <tr>\n",
       "      <th>1</th>\n",
       "      <td>2</td>\n",
       "      <td>2015-06-02 11:19:30</td>\n",
       "      <td>2015-06-02 11:27:56</td>\n",
       "      <td>1</td>\n",
       "      <td>0.46</td>\n",
       "      <td>-73.971443</td>\n",
       "      <td>40.758942</td>\n",
       "      <td>1</td>\n",
       "      <td>N</td>\n",
       "      <td>-73.978539</td>\n",
       "      <td>40.761909</td>\n",
       "      <td>1</td>\n",
       "      <td>6.5</td>\n",
       "      <td>0.0</td>\n",
       "      <td>0.5</td>\n",
       "      <td>1.00</td>\n",
       "      <td>0.0</td>\n",
       "      <td>0.3</td>\n",
       "      <td>8.30</td>\n",
       "    </tr>\n",
       "    <tr>\n",
       "      <th>2</th>\n",
       "      <td>2</td>\n",
       "      <td>2015-06-02 11:19:31</td>\n",
       "      <td>2015-06-02 11:30:30</td>\n",
       "      <td>1</td>\n",
       "      <td>0.87</td>\n",
       "      <td>-73.978111</td>\n",
       "      <td>40.738434</td>\n",
       "      <td>1</td>\n",
       "      <td>N</td>\n",
       "      <td>-73.990273</td>\n",
       "      <td>40.745438</td>\n",
       "      <td>1</td>\n",
       "      <td>8.0</td>\n",
       "      <td>0.0</td>\n",
       "      <td>0.5</td>\n",
       "      <td>2.20</td>\n",
       "      <td>0.0</td>\n",
       "      <td>0.3</td>\n",
       "      <td>11.00</td>\n",
       "    </tr>\n",
       "    <tr>\n",
       "      <th>3</th>\n",
       "      <td>2</td>\n",
       "      <td>2015-06-02 11:19:31</td>\n",
       "      <td>2015-06-02 11:39:02</td>\n",
       "      <td>1</td>\n",
       "      <td>2.13</td>\n",
       "      <td>-73.945892</td>\n",
       "      <td>40.773529</td>\n",
       "      <td>1</td>\n",
       "      <td>N</td>\n",
       "      <td>-73.971527</td>\n",
       "      <td>40.760330</td>\n",
       "      <td>1</td>\n",
       "      <td>13.5</td>\n",
       "      <td>0.0</td>\n",
       "      <td>0.5</td>\n",
       "      <td>2.86</td>\n",
       "      <td>0.0</td>\n",
       "      <td>0.3</td>\n",
       "      <td>17.16</td>\n",
       "    </tr>\n",
       "    <tr>\n",
       "      <th>4</th>\n",
       "      <td>1</td>\n",
       "      <td>2015-06-02 11:19:32</td>\n",
       "      <td>2015-06-02 11:32:49</td>\n",
       "      <td>1</td>\n",
       "      <td>1.40</td>\n",
       "      <td>-73.979088</td>\n",
       "      <td>40.776772</td>\n",
       "      <td>1</td>\n",
       "      <td>N</td>\n",
       "      <td>-73.982162</td>\n",
       "      <td>40.758999</td>\n",
       "      <td>2</td>\n",
       "      <td>9.5</td>\n",
       "      <td>0.0</td>\n",
       "      <td>0.5</td>\n",
       "      <td>0.00</td>\n",
       "      <td>0.0</td>\n",
       "      <td>0.3</td>\n",
       "      <td>10.30</td>\n",
       "    </tr>\n",
       "  </tbody>\n",
       "</table>\n",
       "</div>"
      ],
      "text/plain": [
       "   VendorID tpep_pickup_datetime tpep_dropoff_datetime  passenger_count  \\\n",
       "0         2  2015-06-02 11:19:29   2015-06-02 11:47:52                1   \n",
       "1         2  2015-06-02 11:19:30   2015-06-02 11:27:56                1   \n",
       "2         2  2015-06-02 11:19:31   2015-06-02 11:30:30                1   \n",
       "3         2  2015-06-02 11:19:31   2015-06-02 11:39:02                1   \n",
       "4         1  2015-06-02 11:19:32   2015-06-02 11:32:49                1   \n",
       "\n",
       "   trip_distance  pickup_longitude  pickup_latitude  RateCodeID  \\\n",
       "0           1.63        -73.954430        40.764141           1   \n",
       "1           0.46        -73.971443        40.758942           1   \n",
       "2           0.87        -73.978111        40.738434           1   \n",
       "3           2.13        -73.945892        40.773529           1   \n",
       "4           1.40        -73.979088        40.776772           1   \n",
       "\n",
       "  store_and_fwd_flag  dropoff_longitude  dropoff_latitude  payment_type  \\\n",
       "0                  N         -73.974754         40.754093             2   \n",
       "1                  N         -73.978539         40.761909             1   \n",
       "2                  N         -73.990273         40.745438             1   \n",
       "3                  N         -73.971527         40.760330             1   \n",
       "4                  N         -73.982162         40.758999             2   \n",
       "\n",
       "   fare_amount  extra  mta_tax  tip_amount  tolls_amount  \\\n",
       "0         17.0    0.0      0.5        0.00           0.0   \n",
       "1          6.5    0.0      0.5        1.00           0.0   \n",
       "2          8.0    0.0      0.5        2.20           0.0   \n",
       "3         13.5    0.0      0.5        2.86           0.0   \n",
       "4          9.5    0.0      0.5        0.00           0.0   \n",
       "\n",
       "   improvement_surcharge  total_amount  \n",
       "0                    0.3         17.80  \n",
       "1                    0.3          8.30  \n",
       "2                    0.3         11.00  \n",
       "3                    0.3         17.16  \n",
       "4                    0.3         10.30  "
      ]
     },
     "execution_count": 153,
     "metadata": {},
     "output_type": "execute_result"
    }
   ],
   "source": [
    "df.head()"
   ]
  },
  {
   "cell_type": "markdown",
   "id": "05844747",
   "metadata": {},
   "source": [
    "# Date and time formats\n",
    "\n",
    "When Pandas reads in datetime data, it can automatically understand a lot of standard formats. Among the least ambiguous formats is:\n",
    "\n",
    "    YYYY-MM-DD HH:MM::SS\n",
    "    \n",
    "This assumes a 24-hour clock. It also doesn't include time-zone information.    \n",
    "\n",
    "What happens if the data is in another format?\n",
    "\n",
    "- Many formats, if they're unambiguous, are read just fine by Pandas.\n",
    "- Things get bad if you have certain dates that can be interpreted in more than one way."
   ]
  },
  {
   "cell_type": "code",
   "execution_count": 155,
   "id": "e872d3cb",
   "metadata": {},
   "outputs": [
    {
     "data": {
      "text/plain": [
       "Timestamp('2023-01-02 00:00:00')"
      ]
     },
     "execution_count": 155,
     "metadata": {},
     "output_type": "execute_result"
    }
   ],
   "source": [
    "s = '1/2/2023'   # is this January 2nd? Or February 1st?  It depends where you live!\n",
    "\n",
    "pd.to_datetime(s)"
   ]
  },
  {
   "cell_type": "code",
   "execution_count": 156,
   "id": "04f71eac",
   "metadata": {},
   "outputs": [
    {
     "data": {
      "text/plain": [
       "Timestamp('2023-02-01 00:00:00')"
      ]
     },
     "execution_count": 156,
     "metadata": {},
     "output_type": "execute_result"
    }
   ],
   "source": [
    "# by default, Pandas assumes that the month comes first, as in US dates\n",
    "# we can change this by passing dayfirst=True\n",
    "\n",
    "pd.to_datetime(s, dayfirst=True)"
   ]
  },
  {
   "cell_type": "markdown",
   "id": "fb8985b6",
   "metadata": {},
   "source": [
    "# Extracting data from our datetime info\n",
    "\n",
    "Just as we used the `.str` accessor to invoke methods on our strings, and retrieve parts of them, there is a `.dt` accessor that does the same thing for datetime objects.\n",
    "\n",
    "I can retrieve the year with `s.dt.year`. Any of the date parts you would expect to find are there, and many that you might *not* expect to find, such as `is_quarter_start` and `is_leap_year`."
   ]
  },
  {
   "cell_type": "code",
   "execution_count": 158,
   "id": "ead1a876",
   "metadata": {},
   "outputs": [
    {
     "data": {
      "text/plain": [
       "0       2015\n",
       "1       2015\n",
       "2       2015\n",
       "3       2015\n",
       "4       2015\n",
       "        ... \n",
       "9994    2015\n",
       "9995    2015\n",
       "9996    2015\n",
       "9997    2015\n",
       "9998    2015\n",
       "Name: tpep_pickup_datetime, Length: 9999, dtype: int64"
      ]
     },
     "execution_count": 158,
     "metadata": {},
     "output_type": "execute_result"
    }
   ],
   "source": [
    "df['tpep_pickup_datetime'].dt.year"
   ]
  },
  {
   "cell_type": "markdown",
   "id": "1ea6873e",
   "metadata": {},
   "source": [
    "# Exercise: Taxi rides \n",
    "\n",
    "1. Load the taxi data (`taxi.csv`) into a data frame. We only need the pickup and dropoff datetimes, plus `passenger_count`, `trip_distance`, and `total_amount`.\n",
    "2. How many taxi rides were there at each hour of the 24-hour day?  Note: This data is *very* non-representative, and a very skewed sample.  Don't expect lots of hours to be there.\n"
   ]
  },
  {
   "cell_type": "code",
   "execution_count": 159,
   "id": "3de4fc62",
   "metadata": {},
   "outputs": [
    {
     "data": {
      "text/html": [
       "<div>\n",
       "<style scoped>\n",
       "    .dataframe tbody tr th:only-of-type {\n",
       "        vertical-align: middle;\n",
       "    }\n",
       "\n",
       "    .dataframe tbody tr th {\n",
       "        vertical-align: top;\n",
       "    }\n",
       "\n",
       "    .dataframe thead th {\n",
       "        text-align: right;\n",
       "    }\n",
       "</style>\n",
       "<table border=\"1\" class=\"dataframe\">\n",
       "  <thead>\n",
       "    <tr style=\"text-align: right;\">\n",
       "      <th></th>\n",
       "      <th>tpep_pickup_datetime</th>\n",
       "      <th>tpep_dropoff_datetime</th>\n",
       "      <th>passenger_count</th>\n",
       "      <th>trip_distance</th>\n",
       "      <th>total_amount</th>\n",
       "    </tr>\n",
       "  </thead>\n",
       "  <tbody>\n",
       "    <tr>\n",
       "      <th>0</th>\n",
       "      <td>2015-06-02 11:19:29</td>\n",
       "      <td>2015-06-02 11:47:52</td>\n",
       "      <td>1</td>\n",
       "      <td>1.63</td>\n",
       "      <td>17.80</td>\n",
       "    </tr>\n",
       "    <tr>\n",
       "      <th>1</th>\n",
       "      <td>2015-06-02 11:19:30</td>\n",
       "      <td>2015-06-02 11:27:56</td>\n",
       "      <td>1</td>\n",
       "      <td>0.46</td>\n",
       "      <td>8.30</td>\n",
       "    </tr>\n",
       "    <tr>\n",
       "      <th>2</th>\n",
       "      <td>2015-06-02 11:19:31</td>\n",
       "      <td>2015-06-02 11:30:30</td>\n",
       "      <td>1</td>\n",
       "      <td>0.87</td>\n",
       "      <td>11.00</td>\n",
       "    </tr>\n",
       "    <tr>\n",
       "      <th>3</th>\n",
       "      <td>2015-06-02 11:19:31</td>\n",
       "      <td>2015-06-02 11:39:02</td>\n",
       "      <td>1</td>\n",
       "      <td>2.13</td>\n",
       "      <td>17.16</td>\n",
       "    </tr>\n",
       "    <tr>\n",
       "      <th>4</th>\n",
       "      <td>2015-06-02 11:19:32</td>\n",
       "      <td>2015-06-02 11:32:49</td>\n",
       "      <td>1</td>\n",
       "      <td>1.40</td>\n",
       "      <td>10.30</td>\n",
       "    </tr>\n",
       "    <tr>\n",
       "      <th>...</th>\n",
       "      <td>...</td>\n",
       "      <td>...</td>\n",
       "      <td>...</td>\n",
       "      <td>...</td>\n",
       "      <td>...</td>\n",
       "    </tr>\n",
       "    <tr>\n",
       "      <th>9994</th>\n",
       "      <td>2015-06-01 00:12:59</td>\n",
       "      <td>2015-06-01 00:24:18</td>\n",
       "      <td>1</td>\n",
       "      <td>2.70</td>\n",
       "      <td>12.30</td>\n",
       "    </tr>\n",
       "    <tr>\n",
       "      <th>9995</th>\n",
       "      <td>2015-06-01 00:12:59</td>\n",
       "      <td>2015-06-01 00:28:16</td>\n",
       "      <td>1</td>\n",
       "      <td>4.50</td>\n",
       "      <td>20.30</td>\n",
       "    </tr>\n",
       "    <tr>\n",
       "      <th>9996</th>\n",
       "      <td>2015-06-01 00:13:00</td>\n",
       "      <td>2015-06-01 00:37:25</td>\n",
       "      <td>1</td>\n",
       "      <td>5.59</td>\n",
       "      <td>22.30</td>\n",
       "    </tr>\n",
       "    <tr>\n",
       "      <th>9997</th>\n",
       "      <td>2015-06-01 00:13:02</td>\n",
       "      <td>2015-06-01 00:19:10</td>\n",
       "      <td>6</td>\n",
       "      <td>1.54</td>\n",
       "      <td>7.80</td>\n",
       "    </tr>\n",
       "    <tr>\n",
       "      <th>9998</th>\n",
       "      <td>2015-06-01 00:13:04</td>\n",
       "      <td>2015-06-01 00:36:33</td>\n",
       "      <td>1</td>\n",
       "      <td>5.80</td>\n",
       "      <td>26.75</td>\n",
       "    </tr>\n",
       "  </tbody>\n",
       "</table>\n",
       "<p>9999 rows × 5 columns</p>\n",
       "</div>"
      ],
      "text/plain": [
       "     tpep_pickup_datetime tpep_dropoff_datetime  passenger_count  \\\n",
       "0     2015-06-02 11:19:29   2015-06-02 11:47:52                1   \n",
       "1     2015-06-02 11:19:30   2015-06-02 11:27:56                1   \n",
       "2     2015-06-02 11:19:31   2015-06-02 11:30:30                1   \n",
       "3     2015-06-02 11:19:31   2015-06-02 11:39:02                1   \n",
       "4     2015-06-02 11:19:32   2015-06-02 11:32:49                1   \n",
       "...                   ...                   ...              ...   \n",
       "9994  2015-06-01 00:12:59   2015-06-01 00:24:18                1   \n",
       "9995  2015-06-01 00:12:59   2015-06-01 00:28:16                1   \n",
       "9996  2015-06-01 00:13:00   2015-06-01 00:37:25                1   \n",
       "9997  2015-06-01 00:13:02   2015-06-01 00:19:10                6   \n",
       "9998  2015-06-01 00:13:04   2015-06-01 00:36:33                1   \n",
       "\n",
       "      trip_distance  total_amount  \n",
       "0              1.63         17.80  \n",
       "1              0.46          8.30  \n",
       "2              0.87         11.00  \n",
       "3              2.13         17.16  \n",
       "4              1.40         10.30  \n",
       "...             ...           ...  \n",
       "9994           2.70         12.30  \n",
       "9995           4.50         20.30  \n",
       "9996           5.59         22.30  \n",
       "9997           1.54          7.80  \n",
       "9998           5.80         26.75  \n",
       "\n",
       "[9999 rows x 5 columns]"
      ]
     },
     "execution_count": 159,
     "metadata": {},
     "output_type": "execute_result"
    }
   ],
   "source": [
    "df = pd.read_csv('taxi.csv',\n",
    "                usecols=['tpep_pickup_datetime', 'tpep_dropoff_datetime',\n",
    "                        'passenger_count', 'trip_distance', 'total_amount'],\n",
    "                parse_dates=['tpep_pickup_datetime', 'tpep_dropoff_datetime'])\n",
    "df"
   ]
  },
  {
   "cell_type": "code",
   "execution_count": 160,
   "id": "22c611c8",
   "metadata": {},
   "outputs": [
    {
     "data": {
      "text/plain": [
       "tpep_pickup_datetime     datetime64[ns]\n",
       "tpep_dropoff_datetime    datetime64[ns]\n",
       "passenger_count                   int64\n",
       "trip_distance                   float64\n",
       "total_amount                    float64\n",
       "dtype: object"
      ]
     },
     "execution_count": 160,
     "metadata": {},
     "output_type": "execute_result"
    }
   ],
   "source": [
    "df.dtypes"
   ]
  },
  {
   "cell_type": "code",
   "execution_count": 162,
   "id": "15686906",
   "metadata": {},
   "outputs": [
    {
     "data": {
      "text/plain": [
       "11    4396\n",
       "15    2536\n",
       "0     2439\n",
       "16     628\n",
       "Name: tpep_pickup_datetime, dtype: int64"
      ]
     },
     "execution_count": 162,
     "metadata": {},
     "output_type": "execute_result"
    }
   ],
   "source": [
    "df['tpep_pickup_datetime'].dt.hour.value_counts()"
   ]
  },
  {
   "cell_type": "code",
   "execution_count": 164,
   "id": "d85cb158",
   "metadata": {},
   "outputs": [
    {
     "data": {
      "text/html": [
       "<div>\n",
       "<style scoped>\n",
       "    .dataframe tbody tr th:only-of-type {\n",
       "        vertical-align: middle;\n",
       "    }\n",
       "\n",
       "    .dataframe tbody tr th {\n",
       "        vertical-align: top;\n",
       "    }\n",
       "\n",
       "    .dataframe thead th {\n",
       "        text-align: right;\n",
       "    }\n",
       "</style>\n",
       "<table border=\"1\" class=\"dataframe\">\n",
       "  <thead>\n",
       "    <tr style=\"text-align: right;\">\n",
       "      <th></th>\n",
       "      <th>tpep_pickup_datetime</th>\n",
       "      <th>tpep_dropoff_datetime</th>\n",
       "      <th>passenger_count</th>\n",
       "      <th>trip_distance</th>\n",
       "      <th>total_amount</th>\n",
       "    </tr>\n",
       "  </thead>\n",
       "  <tbody>\n",
       "    <tr>\n",
       "      <th>7</th>\n",
       "      <td>2015-06-02 11:19:35</td>\n",
       "      <td>2015-06-02 12:36:46</td>\n",
       "      <td>4</td>\n",
       "      <td>11.90</td>\n",
       "      <td>73.84</td>\n",
       "    </tr>\n",
       "    <tr>\n",
       "      <th>43</th>\n",
       "      <td>2015-06-02 11:20:05</td>\n",
       "      <td>2015-06-02 12:02:22</td>\n",
       "      <td>2</td>\n",
       "      <td>5.30</td>\n",
       "      <td>33.35</td>\n",
       "    </tr>\n",
       "    <tr>\n",
       "      <th>63</th>\n",
       "      <td>2015-06-02 11:20:18</td>\n",
       "      <td>2015-06-02 12:03:48</td>\n",
       "      <td>1</td>\n",
       "      <td>5.80</td>\n",
       "      <td>30.80</td>\n",
       "    </tr>\n",
       "    <tr>\n",
       "      <th>65</th>\n",
       "      <td>2015-06-02 11:20:20</td>\n",
       "      <td>2015-06-02 12:07:49</td>\n",
       "      <td>2</td>\n",
       "      <td>3.80</td>\n",
       "      <td>34.56</td>\n",
       "    </tr>\n",
       "    <tr>\n",
       "      <th>73</th>\n",
       "      <td>2015-06-02 11:20:26</td>\n",
       "      <td>2015-06-02 12:08:44</td>\n",
       "      <td>1</td>\n",
       "      <td>12.65</td>\n",
       "      <td>63.55</td>\n",
       "    </tr>\n",
       "    <tr>\n",
       "      <th>...</th>\n",
       "      <td>...</td>\n",
       "      <td>...</td>\n",
       "      <td>...</td>\n",
       "      <td>...</td>\n",
       "      <td>...</td>\n",
       "    </tr>\n",
       "    <tr>\n",
       "      <th>8513</th>\n",
       "      <td>2015-06-01 00:04:50</td>\n",
       "      <td>2015-06-01 01:31:44</td>\n",
       "      <td>1</td>\n",
       "      <td>60.30</td>\n",
       "      <td>160.05</td>\n",
       "    </tr>\n",
       "    <tr>\n",
       "      <th>9231</th>\n",
       "      <td>2015-06-01 00:09:14</td>\n",
       "      <td>2015-06-01 01:03:11</td>\n",
       "      <td>1</td>\n",
       "      <td>31.50</td>\n",
       "      <td>150.05</td>\n",
       "    </tr>\n",
       "    <tr>\n",
       "      <th>9394</th>\n",
       "      <td>2015-06-01 00:09:29</td>\n",
       "      <td>2015-06-01 01:08:05</td>\n",
       "      <td>1</td>\n",
       "      <td>20.05</td>\n",
       "      <td>110.46</td>\n",
       "    </tr>\n",
       "    <tr>\n",
       "      <th>9799</th>\n",
       "      <td>2015-06-01 00:12:48</td>\n",
       "      <td>2015-06-01 01:07:04</td>\n",
       "      <td>1</td>\n",
       "      <td>13.20</td>\n",
       "      <td>47.30</td>\n",
       "    </tr>\n",
       "    <tr>\n",
       "      <th>9884</th>\n",
       "      <td>2015-06-01 00:13:03</td>\n",
       "      <td>2015-06-01 01:00:50</td>\n",
       "      <td>1</td>\n",
       "      <td>19.14</td>\n",
       "      <td>70.01</td>\n",
       "    </tr>\n",
       "  </tbody>\n",
       "</table>\n",
       "<p>1221 rows × 5 columns</p>\n",
       "</div>"
      ],
      "text/plain": [
       "     tpep_pickup_datetime tpep_dropoff_datetime  passenger_count  \\\n",
       "7     2015-06-02 11:19:35   2015-06-02 12:36:46                4   \n",
       "43    2015-06-02 11:20:05   2015-06-02 12:02:22                2   \n",
       "63    2015-06-02 11:20:18   2015-06-02 12:03:48                1   \n",
       "65    2015-06-02 11:20:20   2015-06-02 12:07:49                2   \n",
       "73    2015-06-02 11:20:26   2015-06-02 12:08:44                1   \n",
       "...                   ...                   ...              ...   \n",
       "8513  2015-06-01 00:04:50   2015-06-01 01:31:44                1   \n",
       "9231  2015-06-01 00:09:14   2015-06-01 01:03:11                1   \n",
       "9394  2015-06-01 00:09:29   2015-06-01 01:08:05                1   \n",
       "9799  2015-06-01 00:12:48   2015-06-01 01:07:04                1   \n",
       "9884  2015-06-01 00:13:03   2015-06-01 01:00:50                1   \n",
       "\n",
       "      trip_distance  total_amount  \n",
       "7             11.90         73.84  \n",
       "43             5.30         33.35  \n",
       "63             5.80         30.80  \n",
       "65             3.80         34.56  \n",
       "73            12.65         63.55  \n",
       "...             ...           ...  \n",
       "8513          60.30        160.05  \n",
       "9231          31.50        150.05  \n",
       "9394          20.05        110.46  \n",
       "9799          13.20         47.30  \n",
       "9884          19.14         70.01  \n",
       "\n",
       "[1221 rows x 5 columns]"
      ]
     },
     "execution_count": 164,
     "metadata": {},
     "output_type": "execute_result"
    }
   ],
   "source": [
    "# in how many rides was the starting hour different from the ending hour?\n",
    "\n",
    "df.loc[df['tpep_pickup_datetime'].dt.hour != df['tpep_dropoff_datetime'].dt.hour]"
   ]
  },
  {
   "cell_type": "markdown",
   "id": "f28dee34",
   "metadata": {},
   "source": [
    "# file sizes for NYC taxi rides on my computer\n",
    "\n",
    "```\n",
    "-rw-r--r-- 1 reuven staff 656M Jun  4  2021 nyc_taxi_2019-01.csv\n",
    "-rw-r--r-- 1 reuven staff 558M Jun  4  2021 nyc_taxi_2019-07.csv\n",
    "-rw-r--r-- 1 reuven staff 567M Jun  4  2021 nyc_taxi_2020-01.csv\n",
    "-rw-r--r-- 1 reuven staff  70M Jun  4  2021 nyc_taxi_2020-07.csv\n",
    "```"
   ]
  },
  {
   "cell_type": "markdown",
   "id": "bec177a4",
   "metadata": {},
   "source": [
    "Let's ask the question: Did people spend, on average, the same amount on taxi rides at every hour of the day?"
   ]
  },
  {
   "cell_type": "code",
   "execution_count": 166,
   "id": "ed67373e",
   "metadata": {},
   "outputs": [
    {
     "data": {
      "text/plain": [
       "tpep_pickup_datetime\n",
       "0     18.932686\n",
       "11    16.582095\n",
       "15    18.556569\n",
       "16    14.929936\n",
       "Name: total_amount, dtype: float64"
      ]
     },
     "execution_count": 166,
     "metadata": {},
     "output_type": "execute_result"
    }
   ],
   "source": [
    "# for every hour of the day \n",
    "# what was the mean total_amount?\n",
    "\n",
    "# we can group by any column, but also by the .dt components\n",
    "\n",
    "df.groupby(df['tpep_pickup_datetime'].dt.hour)['total_amount'].mean()"
   ]
  },
  {
   "cell_type": "code",
   "execution_count": 168,
   "id": "7acee729",
   "metadata": {},
   "outputs": [
    {
     "data": {
      "text/plain": [
       "1    4396\n",
       "3    2536\n",
       "0    2439\n",
       "5     628\n",
       "Name: tpep_pickup_datetime, dtype: int64"
      ]
     },
     "execution_count": 168,
     "metadata": {},
     "output_type": "execute_result"
    }
   ],
   "source": [
    "# how many times does each day of the week (0 - Monday, 1 - Tuesday, etc.) appear in our data?\n",
    "\n",
    "df['tpep_pickup_datetime'].dt.day_of_week.value_counts()"
   ]
  },
  {
   "cell_type": "code",
   "execution_count": 173,
   "id": "a7d4a07d",
   "metadata": {},
   "outputs": [
    {
     "data": {
      "text/plain": [
       "0       0\n",
       "1       0\n",
       "2       0\n",
       "3       0\n",
       "4       0\n",
       "       ..\n",
       "9994    0\n",
       "9995    0\n",
       "9996    0\n",
       "9997    0\n",
       "9998    0\n",
       "Name: tpep_pickup_datetime, Length: 9999, dtype: int64"
      ]
     },
     "execution_count": 173,
     "metadata": {},
     "output_type": "execute_result"
    }
   ],
   "source": [
    "df['tpep_pickup_datetime'].dt.nanosecond"
   ]
  },
  {
   "cell_type": "markdown",
   "id": "7ef8419d",
   "metadata": {},
   "source": [
    "# Time deltas\n",
    "\n",
    "I've already told you that we can do some basic math with our timestamps. In particular, one timestamp can be subtracted from another to get the time delta. Can we do that with our timestamp columns? Absolutely!"
   ]
  },
  {
   "cell_type": "code",
   "execution_count": 174,
   "id": "1f8c5244",
   "metadata": {},
   "outputs": [
    {
     "data": {
      "text/plain": [
       "0      0 days 00:28:23\n",
       "1      0 days 00:08:26\n",
       "2      0 days 00:10:59\n",
       "3      0 days 00:19:31\n",
       "4      0 days 00:13:17\n",
       "             ...      \n",
       "9994   0 days 00:11:19\n",
       "9995   0 days 00:15:17\n",
       "9996   0 days 00:24:25\n",
       "9997   0 days 00:06:08\n",
       "9998   0 days 00:23:29\n",
       "Length: 9999, dtype: timedelta64[ns]"
      ]
     },
     "execution_count": 174,
     "metadata": {},
     "output_type": "execute_result"
    }
   ],
   "source": [
    "# let's calculate the intervals\n",
    "\n",
    "df['tpep_dropoff_datetime'] - df['tpep_pickup_datetime']"
   ]
  },
  {
   "cell_type": "code",
   "execution_count": 175,
   "id": "f1a198d4",
   "metadata": {},
   "outputs": [],
   "source": [
    "# let's store a new column on our data frame, \"trip_time\"\n",
    "\n",
    "df['trip_time'] = df['tpep_dropoff_datetime'] - df['tpep_pickup_datetime']"
   ]
  },
  {
   "cell_type": "code",
   "execution_count": 176,
   "id": "e7ec59c9",
   "metadata": {},
   "outputs": [
    {
     "data": {
      "text/html": [
       "<div>\n",
       "<style scoped>\n",
       "    .dataframe tbody tr th:only-of-type {\n",
       "        vertical-align: middle;\n",
       "    }\n",
       "\n",
       "    .dataframe tbody tr th {\n",
       "        vertical-align: top;\n",
       "    }\n",
       "\n",
       "    .dataframe thead th {\n",
       "        text-align: right;\n",
       "    }\n",
       "</style>\n",
       "<table border=\"1\" class=\"dataframe\">\n",
       "  <thead>\n",
       "    <tr style=\"text-align: right;\">\n",
       "      <th></th>\n",
       "      <th>tpep_pickup_datetime</th>\n",
       "      <th>tpep_dropoff_datetime</th>\n",
       "      <th>passenger_count</th>\n",
       "      <th>trip_distance</th>\n",
       "      <th>total_amount</th>\n",
       "      <th>trip_time</th>\n",
       "    </tr>\n",
       "  </thead>\n",
       "  <tbody>\n",
       "    <tr>\n",
       "      <th>0</th>\n",
       "      <td>2015-06-02 11:19:29</td>\n",
       "      <td>2015-06-02 11:47:52</td>\n",
       "      <td>1</td>\n",
       "      <td>1.63</td>\n",
       "      <td>17.80</td>\n",
       "      <td>0 days 00:28:23</td>\n",
       "    </tr>\n",
       "    <tr>\n",
       "      <th>1</th>\n",
       "      <td>2015-06-02 11:19:30</td>\n",
       "      <td>2015-06-02 11:27:56</td>\n",
       "      <td>1</td>\n",
       "      <td>0.46</td>\n",
       "      <td>8.30</td>\n",
       "      <td>0 days 00:08:26</td>\n",
       "    </tr>\n",
       "    <tr>\n",
       "      <th>2</th>\n",
       "      <td>2015-06-02 11:19:31</td>\n",
       "      <td>2015-06-02 11:30:30</td>\n",
       "      <td>1</td>\n",
       "      <td>0.87</td>\n",
       "      <td>11.00</td>\n",
       "      <td>0 days 00:10:59</td>\n",
       "    </tr>\n",
       "    <tr>\n",
       "      <th>3</th>\n",
       "      <td>2015-06-02 11:19:31</td>\n",
       "      <td>2015-06-02 11:39:02</td>\n",
       "      <td>1</td>\n",
       "      <td>2.13</td>\n",
       "      <td>17.16</td>\n",
       "      <td>0 days 00:19:31</td>\n",
       "    </tr>\n",
       "    <tr>\n",
       "      <th>4</th>\n",
       "      <td>2015-06-02 11:19:32</td>\n",
       "      <td>2015-06-02 11:32:49</td>\n",
       "      <td>1</td>\n",
       "      <td>1.40</td>\n",
       "      <td>10.30</td>\n",
       "      <td>0 days 00:13:17</td>\n",
       "    </tr>\n",
       "  </tbody>\n",
       "</table>\n",
       "</div>"
      ],
      "text/plain": [
       "  tpep_pickup_datetime tpep_dropoff_datetime  passenger_count  trip_distance  \\\n",
       "0  2015-06-02 11:19:29   2015-06-02 11:47:52                1           1.63   \n",
       "1  2015-06-02 11:19:30   2015-06-02 11:27:56                1           0.46   \n",
       "2  2015-06-02 11:19:31   2015-06-02 11:30:30                1           0.87   \n",
       "3  2015-06-02 11:19:31   2015-06-02 11:39:02                1           2.13   \n",
       "4  2015-06-02 11:19:32   2015-06-02 11:32:49                1           1.40   \n",
       "\n",
       "   total_amount       trip_time  \n",
       "0         17.80 0 days 00:28:23  \n",
       "1          8.30 0 days 00:08:26  \n",
       "2         11.00 0 days 00:10:59  \n",
       "3         17.16 0 days 00:19:31  \n",
       "4         10.30 0 days 00:13:17  "
      ]
     },
     "execution_count": 176,
     "metadata": {},
     "output_type": "execute_result"
    }
   ],
   "source": [
    "df.head()"
   ]
  },
  {
   "cell_type": "code",
   "execution_count": null,
   "id": "dc41db85",
   "metadata": {},
   "outputs": [],
   "source": []
  }
 ],
 "metadata": {
  "kernelspec": {
   "display_name": "Python 3 (ipykernel)",
   "language": "python",
   "name": "python3"
  },
  "language_info": {
   "codemirror_mode": {
    "name": "ipython",
    "version": 3
   },
   "file_extension": ".py",
   "mimetype": "text/x-python",
   "name": "python",
   "nbconvert_exporter": "python",
   "pygments_lexer": "ipython3",
   "version": "3.11.2"
  }
 },
 "nbformat": 4,
 "nbformat_minor": 5
}

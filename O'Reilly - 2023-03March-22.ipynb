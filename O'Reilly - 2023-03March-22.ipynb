{
 "cells": [
  {
   "cell_type": "markdown",
   "id": "b00fe0e5",
   "metadata": {},
   "source": [
    "# Agenda: Week 3 — real-world data\n",
    "\n",
    "0. Q&A -- setting up an environment on your computer\n",
    "1. More about CSV\n",
    "2. Reading data from online sources\n",
    "3. Sorting\n",
    "4. Grouping\n",
    "5. Pivot tables\n",
    "6. Joining\n",
    "7. Cleaning data"
   ]
  },
  {
   "cell_type": "markdown",
   "id": "82a0c128",
   "metadata": {},
   "source": [
    "# Setting up an environment\n",
    "\n",
    "At the end of the day, in order to run the sorts of programs we're talking about in class, you'll need:\n",
    "\n",
    "- Python - easiest way is from https://python.org/\n",
    "- NumPy / Pandas / Matplotlib -- easiest way is with `pip`\n",
    "- Somewhere to write that code and then run it\n",
    "\n",
    "My preference is:\n",
    "\n",
    "- Install Python from python.org\n",
    "- Install packages via `pip`\n",
    "- Edit in PyCharm (for long things) and Jupyter (for short things)\n",
    "    - Install PyCharm from the JetBrains site\n",
    "    - Install Jupyter with `pip`\n",
    "\n",
    "There can be issues/differences with installing Python:\n",
    "- You might install it with Anaconda, an all-in-one system\n",
    "- I often install (on my Mac) the version of Python from \"Homebrew,\" an open-source installation system\n",
    "\n",
    "Jupyter can cause all sorts of other issues.\n",
    "\n",
    "Basically, if you can be running Jupyter, then you can experiment with what I'm doing in class most directly, including using the files that I'm uploading to GitHub.\n",
    "\n",
    "If you want to download + use my Jupyter notebook files, then you need to download them from GitHub (you can clone or just download a zipfile).\n",
    "\n",
    "There's one Jupyter file (with a `.ipynb` suffix) for each day of the course.  Put that into the directory where you're running Jupyter, and you'll be able to open it on your computer.\n",
    "\n",
    "I'm also going to be creating HTML versions of every Jupyter notebook, after class happens.  That'll allow you to view it in a browser without running Jupyter."
   ]
  },
  {
   "cell_type": "code",
   "execution_count": null,
   "id": "dabcbec2",
   "metadata": {},
   "outputs": [],
   "source": []
  }
 ],
 "metadata": {
  "kernelspec": {
   "display_name": "Python 3 (ipykernel)",
   "language": "python",
   "name": "python3"
  },
  "language_info": {
   "codemirror_mode": {
    "name": "ipython",
    "version": 3
   },
   "file_extension": ".py",
   "mimetype": "text/x-python",
   "name": "python",
   "nbconvert_exporter": "python",
   "pygments_lexer": "ipython3",
   "version": "3.11.2"
  }
 },
 "nbformat": 4,
 "nbformat_minor": 5
}

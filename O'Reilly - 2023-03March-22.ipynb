{
 "cells": [
  {
   "cell_type": "markdown",
   "id": "c2a9138f",
   "metadata": {},
   "source": [
    "# Agenda: Week 3 — real-world data\n",
    "\n",
    "0. Q&A -- setting up an environment on your computer\n",
    "1. More about CSV\n",
    "2. Reading data from online sources\n",
    "3. Sorting\n",
    "4. Grouping\n",
    "5. Pivot tables\n",
    "6. Joining\n",
    "7. Cleaning data"
   ]
  },
  {
   "cell_type": "markdown",
   "id": "63e40197",
   "metadata": {},
   "source": [
    "# Setting up an environment\n",
    "\n",
    "At the end of the day, in order to run the sorts of programs we're talking about in class, you'll need:\n",
    "\n",
    "- Python \n",
    "- NumPy / Pandas / Matplotlib\n",
    "- Somewhere to write that "
   ]
  }
 ],
 "metadata": {
  "kernelspec": {
   "display_name": "Python 3 (ipykernel)",
   "language": "python",
   "name": "python3"
  },
  "language_info": {
   "codemirror_mode": {
    "name": "ipython",
    "version": 3
   },
   "file_extension": ".py",
   "mimetype": "text/x-python",
   "name": "python",
   "nbconvert_exporter": "python",
   "pygments_lexer": "ipython3",
   "version": "3.11.2"
  }
 },
 "nbformat": 4,
 "nbformat_minor": 5
}

{
 "cells": [
  {
   "cell_type": "markdown",
   "id": "16581b9a",
   "metadata": {},
   "source": [
    "# Agenda: Week five\n",
    "\n",
    "1. Recap and Q&A\n",
    "2. Basic intro to visualization\n",
    "3. Line plots\n",
    "4. Bar plots\n",
    "5. Histograms\n",
    "6. Pie plots\n",
    "7. Scatter plots\n",
    "8. What next?\n",
    "    - What's next for Pandas?\n",
    "    - What's next for you?"
   ]
  },
  {
   "cell_type": "code",
   "execution_count": 1,
   "id": "83939779",
   "metadata": {},
   "outputs": [],
   "source": [
    "import numpy as np\n",
    "import pandas as pd\n",
    "from pandas import Series, DataFrame"
   ]
  },
  {
   "cell_type": "code",
   "execution_count": 2,
   "id": "25048fb4",
   "metadata": {},
   "outputs": [],
   "source": [
    "df = pd.read_csv('taxi.csv')"
   ]
  },
  {
   "cell_type": "code",
   "execution_count": 3,
   "id": "4245d963",
   "metadata": {},
   "outputs": [
    {
     "data": {
      "text/html": [
       "<div><div id=52d25c54-d7db-4f6f-a43f-41b886b1424e style=\"display:none; background-color:#9D6CFF; color:white; width:200px; height:30px; padding-left:5px; border-radius:4px; flex-direction:row; justify-content:space-around; align-items:center;\" onmouseover=\"this.style.backgroundColor='#BA9BF8'\" onmouseout=\"this.style.backgroundColor='#9D6CFF'\" onclick=\"window.commands?.execute('create-mitosheet-from-dataframe-output');\">See Full Dataframe in Mito</div> <script> if (window.commands?.hasCommand('create-mitosheet-from-dataframe-output')) document.getElementById('52d25c54-d7db-4f6f-a43f-41b886b1424e').style.display = 'flex' </script> <table border=\"1\" class=\"dataframe\">\n",
       "  <thead>\n",
       "    <tr style=\"text-align: right;\">\n",
       "      <th></th>\n",
       "      <th>VendorID</th>\n",
       "      <th>tpep_pickup_datetime</th>\n",
       "      <th>tpep_dropoff_datetime</th>\n",
       "      <th>passenger_count</th>\n",
       "      <th>trip_distance</th>\n",
       "      <th>pickup_longitude</th>\n",
       "      <th>pickup_latitude</th>\n",
       "      <th>RateCodeID</th>\n",
       "      <th>store_and_fwd_flag</th>\n",
       "      <th>dropoff_longitude</th>\n",
       "      <th>dropoff_latitude</th>\n",
       "      <th>payment_type</th>\n",
       "      <th>fare_amount</th>\n",
       "      <th>extra</th>\n",
       "      <th>mta_tax</th>\n",
       "      <th>tip_amount</th>\n",
       "      <th>tolls_amount</th>\n",
       "      <th>improvement_surcharge</th>\n",
       "      <th>total_amount</th>\n",
       "    </tr>\n",
       "  </thead>\n",
       "  <tbody>\n",
       "    <tr>\n",
       "      <th>0</th>\n",
       "      <td>2</td>\n",
       "      <td>2015-06-02 11:19:29</td>\n",
       "      <td>2015-06-02 11:47:52</td>\n",
       "      <td>1</td>\n",
       "      <td>1.63</td>\n",
       "      <td>-73.954430</td>\n",
       "      <td>40.764141</td>\n",
       "      <td>1</td>\n",
       "      <td>N</td>\n",
       "      <td>-73.974754</td>\n",
       "      <td>40.754093</td>\n",
       "      <td>2</td>\n",
       "      <td>17.0</td>\n",
       "      <td>0.0</td>\n",
       "      <td>0.5</td>\n",
       "      <td>0.00</td>\n",
       "      <td>0.00</td>\n",
       "      <td>0.3</td>\n",
       "      <td>17.80</td>\n",
       "    </tr>\n",
       "    <tr>\n",
       "      <th>1</th>\n",
       "      <td>2</td>\n",
       "      <td>2015-06-02 11:19:30</td>\n",
       "      <td>2015-06-02 11:27:56</td>\n",
       "      <td>1</td>\n",
       "      <td>0.46</td>\n",
       "      <td>-73.971443</td>\n",
       "      <td>40.758942</td>\n",
       "      <td>1</td>\n",
       "      <td>N</td>\n",
       "      <td>-73.978539</td>\n",
       "      <td>40.761909</td>\n",
       "      <td>1</td>\n",
       "      <td>6.5</td>\n",
       "      <td>0.0</td>\n",
       "      <td>0.5</td>\n",
       "      <td>1.00</td>\n",
       "      <td>0.00</td>\n",
       "      <td>0.3</td>\n",
       "      <td>8.30</td>\n",
       "    </tr>\n",
       "    <tr>\n",
       "      <th>2</th>\n",
       "      <td>2</td>\n",
       "      <td>2015-06-02 11:19:31</td>\n",
       "      <td>2015-06-02 11:30:30</td>\n",
       "      <td>1</td>\n",
       "      <td>0.87</td>\n",
       "      <td>-73.978111</td>\n",
       "      <td>40.738434</td>\n",
       "      <td>1</td>\n",
       "      <td>N</td>\n",
       "      <td>-73.990273</td>\n",
       "      <td>40.745438</td>\n",
       "      <td>1</td>\n",
       "      <td>8.0</td>\n",
       "      <td>0.0</td>\n",
       "      <td>0.5</td>\n",
       "      <td>2.20</td>\n",
       "      <td>0.00</td>\n",
       "      <td>0.3</td>\n",
       "      <td>11.00</td>\n",
       "    </tr>\n",
       "    <tr>\n",
       "      <th>3</th>\n",
       "      <td>2</td>\n",
       "      <td>2015-06-02 11:19:31</td>\n",
       "      <td>2015-06-02 11:39:02</td>\n",
       "      <td>1</td>\n",
       "      <td>2.13</td>\n",
       "      <td>-73.945892</td>\n",
       "      <td>40.773529</td>\n",
       "      <td>1</td>\n",
       "      <td>N</td>\n",
       "      <td>-73.971527</td>\n",
       "      <td>40.760330</td>\n",
       "      <td>1</td>\n",
       "      <td>13.5</td>\n",
       "      <td>0.0</td>\n",
       "      <td>0.5</td>\n",
       "      <td>2.86</td>\n",
       "      <td>0.00</td>\n",
       "      <td>0.3</td>\n",
       "      <td>17.16</td>\n",
       "    </tr>\n",
       "    <tr>\n",
       "      <th>4</th>\n",
       "      <td>1</td>\n",
       "      <td>2015-06-02 11:19:32</td>\n",
       "      <td>2015-06-02 11:32:49</td>\n",
       "      <td>1</td>\n",
       "      <td>1.40</td>\n",
       "      <td>-73.979088</td>\n",
       "      <td>40.776772</td>\n",
       "      <td>1</td>\n",
       "      <td>N</td>\n",
       "      <td>-73.982162</td>\n",
       "      <td>40.758999</td>\n",
       "      <td>2</td>\n",
       "      <td>9.5</td>\n",
       "      <td>0.0</td>\n",
       "      <td>0.5</td>\n",
       "      <td>0.00</td>\n",
       "      <td>0.00</td>\n",
       "      <td>0.3</td>\n",
       "      <td>10.30</td>\n",
       "    </tr>\n",
       "    <tr>\n",
       "      <th>5</th>\n",
       "      <td>1</td>\n",
       "      <td>2015-06-02 11:19:33</td>\n",
       "      <td>2015-06-02 11:28:48</td>\n",
       "      <td>1</td>\n",
       "      <td>1.40</td>\n",
       "      <td>-73.944641</td>\n",
       "      <td>40.779465</td>\n",
       "      <td>1</td>\n",
       "      <td>N</td>\n",
       "      <td>-73.961365</td>\n",
       "      <td>40.771561</td>\n",
       "      <td>1</td>\n",
       "      <td>8.0</td>\n",
       "      <td>0.0</td>\n",
       "      <td>0.5</td>\n",
       "      <td>1.75</td>\n",
       "      <td>0.00</td>\n",
       "      <td>0.3</td>\n",
       "      <td>10.55</td>\n",
       "    </tr>\n",
       "    <tr>\n",
       "      <th>6</th>\n",
       "      <td>1</td>\n",
       "      <td>2015-06-02 11:19:34</td>\n",
       "      <td>2015-06-02 11:38:46</td>\n",
       "      <td>1</td>\n",
       "      <td>1.80</td>\n",
       "      <td>-73.992867</td>\n",
       "      <td>40.748211</td>\n",
       "      <td>1</td>\n",
       "      <td>N</td>\n",
       "      <td>-73.969772</td>\n",
       "      <td>40.748459</td>\n",
       "      <td>1</td>\n",
       "      <td>12.5</td>\n",
       "      <td>0.0</td>\n",
       "      <td>0.5</td>\n",
       "      <td>3.00</td>\n",
       "      <td>0.00</td>\n",
       "      <td>0.3</td>\n",
       "      <td>16.30</td>\n",
       "    </tr>\n",
       "    <tr>\n",
       "      <th>7</th>\n",
       "      <td>1</td>\n",
       "      <td>2015-06-02 11:19:35</td>\n",
       "      <td>2015-06-02 12:36:46</td>\n",
       "      <td>4</td>\n",
       "      <td>11.90</td>\n",
       "      <td>-73.863075</td>\n",
       "      <td>40.769253</td>\n",
       "      <td>1</td>\n",
       "      <td>N</td>\n",
       "      <td>-73.986710</td>\n",
       "      <td>40.761307</td>\n",
       "      <td>1</td>\n",
       "      <td>52.5</td>\n",
       "      <td>0.0</td>\n",
       "      <td>0.5</td>\n",
       "      <td>15.00</td>\n",
       "      <td>5.54</td>\n",
       "      <td>0.3</td>\n",
       "      <td>73.84</td>\n",
       "    </tr>\n",
       "    <tr>\n",
       "      <th>8</th>\n",
       "      <td>2</td>\n",
       "      <td>2015-06-02 11:19:36</td>\n",
       "      <td>2015-06-02 11:45:19</td>\n",
       "      <td>1</td>\n",
       "      <td>1.27</td>\n",
       "      <td>-73.991432</td>\n",
       "      <td>40.749306</td>\n",
       "      <td>1</td>\n",
       "      <td>N</td>\n",
       "      <td>-73.985062</td>\n",
       "      <td>40.759525</td>\n",
       "      <td>2</td>\n",
       "      <td>15.0</td>\n",
       "      <td>0.0</td>\n",
       "      <td>0.5</td>\n",
       "      <td>0.00</td>\n",
       "      <td>0.00</td>\n",
       "      <td>0.3</td>\n",
       "      <td>15.80</td>\n",
       "    </tr>\n",
       "    <tr>\n",
       "      <th>9</th>\n",
       "      <td>1</td>\n",
       "      <td>2015-06-02 11:19:38</td>\n",
       "      <td>2015-06-02 11:23:50</td>\n",
       "      <td>1</td>\n",
       "      <td>0.60</td>\n",
       "      <td>-73.970734</td>\n",
       "      <td>40.796207</td>\n",
       "      <td>1</td>\n",
       "      <td>N</td>\n",
       "      <td>-73.977470</td>\n",
       "      <td>40.789509</td>\n",
       "      <td>1</td>\n",
       "      <td>5.0</td>\n",
       "      <td>0.0</td>\n",
       "      <td>0.5</td>\n",
       "      <td>0.50</td>\n",
       "      <td>0.00</td>\n",
       "      <td>0.3</td>\n",
       "      <td>6.30</td>\n",
       "    </tr>\n",
       "  </tbody>\n",
       "</table></div>"
      ],
      "text/plain": [
       "   VendorID tpep_pickup_datetime tpep_dropoff_datetime  passenger_count   \n",
       "0         2  2015-06-02 11:19:29   2015-06-02 11:47:52                1  \\\n",
       "1         2  2015-06-02 11:19:30   2015-06-02 11:27:56                1   \n",
       "2         2  2015-06-02 11:19:31   2015-06-02 11:30:30                1   \n",
       "3         2  2015-06-02 11:19:31   2015-06-02 11:39:02                1   \n",
       "4         1  2015-06-02 11:19:32   2015-06-02 11:32:49                1   \n",
       "5         1  2015-06-02 11:19:33   2015-06-02 11:28:48                1   \n",
       "6         1  2015-06-02 11:19:34   2015-06-02 11:38:46                1   \n",
       "7         1  2015-06-02 11:19:35   2015-06-02 12:36:46                4   \n",
       "8         2  2015-06-02 11:19:36   2015-06-02 11:45:19                1   \n",
       "9         1  2015-06-02 11:19:38   2015-06-02 11:23:50                1   \n",
       "\n",
       "   trip_distance  pickup_longitude  pickup_latitude  RateCodeID   \n",
       "0           1.63        -73.954430        40.764141           1  \\\n",
       "1           0.46        -73.971443        40.758942           1   \n",
       "2           0.87        -73.978111        40.738434           1   \n",
       "3           2.13        -73.945892        40.773529           1   \n",
       "4           1.40        -73.979088        40.776772           1   \n",
       "5           1.40        -73.944641        40.779465           1   \n",
       "6           1.80        -73.992867        40.748211           1   \n",
       "7          11.90        -73.863075        40.769253           1   \n",
       "8           1.27        -73.991432        40.749306           1   \n",
       "9           0.60        -73.970734        40.796207           1   \n",
       "\n",
       "  store_and_fwd_flag  dropoff_longitude  dropoff_latitude  payment_type   \n",
       "0                  N         -73.974754         40.754093             2  \\\n",
       "1                  N         -73.978539         40.761909             1   \n",
       "2                  N         -73.990273         40.745438             1   \n",
       "3                  N         -73.971527         40.760330             1   \n",
       "4                  N         -73.982162         40.758999             2   \n",
       "5                  N         -73.961365         40.771561             1   \n",
       "6                  N         -73.969772         40.748459             1   \n",
       "7                  N         -73.986710         40.761307             1   \n",
       "8                  N         -73.985062         40.759525             2   \n",
       "9                  N         -73.977470         40.789509             1   \n",
       "\n",
       "   fare_amount  extra  mta_tax  tip_amount  tolls_amount   \n",
       "0         17.0    0.0      0.5        0.00          0.00  \\\n",
       "1          6.5    0.0      0.5        1.00          0.00   \n",
       "2          8.0    0.0      0.5        2.20          0.00   \n",
       "3         13.5    0.0      0.5        2.86          0.00   \n",
       "4          9.5    0.0      0.5        0.00          0.00   \n",
       "5          8.0    0.0      0.5        1.75          0.00   \n",
       "6         12.5    0.0      0.5        3.00          0.00   \n",
       "7         52.5    0.0      0.5       15.00          5.54   \n",
       "8         15.0    0.0      0.5        0.00          0.00   \n",
       "9          5.0    0.0      0.5        0.50          0.00   \n",
       "\n",
       "   improvement_surcharge  total_amount  \n",
       "0                    0.3         17.80  \n",
       "1                    0.3          8.30  \n",
       "2                    0.3         11.00  \n",
       "3                    0.3         17.16  \n",
       "4                    0.3         10.30  \n",
       "5                    0.3         10.55  \n",
       "6                    0.3         16.30  \n",
       "7                    0.3         73.84  \n",
       "8                    0.3         15.80  \n",
       "9                    0.3          6.30  "
      ]
     },
     "execution_count": 3,
     "metadata": {},
     "output_type": "execute_result"
    }
   ],
   "source": [
    "df.head(10)"
   ]
  },
  {
   "cell_type": "code",
   "execution_count": 12,
   "id": "5e960f9b",
   "metadata": {
    "scrolled": true
   },
   "outputs": [
    {
     "data": {
      "text/html": [
       "<div><div id=905ca7a5-3b60-4e48-9fd7-66bc722b1a1d style=\"display:none; background-color:#9D6CFF; color:white; width:200px; height:30px; padding-left:5px; border-radius:4px; flex-direction:row; justify-content:space-around; align-items:center;\" onmouseover=\"this.style.backgroundColor='#BA9BF8'\" onmouseout=\"this.style.backgroundColor='#9D6CFF'\" onclick=\"window.commands?.execute('create-mitosheet-from-dataframe-output');\">See Full Dataframe in Mito</div> <script> if (window.commands?.hasCommand('create-mitosheet-from-dataframe-output')) document.getElementById('905ca7a5-3b60-4e48-9fd7-66bc722b1a1d').style.display = 'flex' </script> <table border=\"1\" class=\"dataframe\">\n",
       "  <thead>\n",
       "    <tr style=\"text-align: right;\">\n",
       "      <th></th>\n",
       "      <th>VendorID</th>\n",
       "      <th>tpep_pickup_datetime</th>\n",
       "      <th>tpep_dropoff_datetime</th>\n",
       "      <th>passenger_count</th>\n",
       "      <th>trip_distance</th>\n",
       "      <th>pickup_longitude</th>\n",
       "      <th>pickup_latitude</th>\n",
       "      <th>RateCodeID</th>\n",
       "      <th>store_and_fwd_flag</th>\n",
       "      <th>dropoff_longitude</th>\n",
       "      <th>dropoff_latitude</th>\n",
       "      <th>payment_type</th>\n",
       "      <th>fare_amount</th>\n",
       "      <th>extra</th>\n",
       "      <th>mta_tax</th>\n",
       "      <th>tip_amount</th>\n",
       "      <th>tolls_amount</th>\n",
       "      <th>improvement_surcharge</th>\n",
       "      <th>total_amount</th>\n",
       "    </tr>\n",
       "  </thead>\n",
       "  <tbody>\n",
       "    <tr>\n",
       "      <th>88</th>\n",
       "      <td>2</td>\n",
       "      <td>2015-06-02 11:20:37</td>\n",
       "      <td>2015-06-02 12:35:21</td>\n",
       "      <td>2</td>\n",
       "      <td>23.76</td>\n",
       "      <td>-73.791214</td>\n",
       "      <td>40.645409</td>\n",
       "      <td>1</td>\n",
       "      <td>N</td>\n",
       "      <td>-74.006966</td>\n",
       "      <td>40.724930</td>\n",
       "      <td>1</td>\n",
       "      <td>72.5</td>\n",
       "      <td>0.0</td>\n",
       "      <td>0.5</td>\n",
       "      <td>8.95</td>\n",
       "      <td>11.75</td>\n",
       "      <td>0.3</td>\n",
       "      <td>94.00</td>\n",
       "    </tr>\n",
       "    <tr>\n",
       "      <th>379</th>\n",
       "      <td>2</td>\n",
       "      <td>2015-06-02 11:23:17</td>\n",
       "      <td>2015-06-02 11:55:39</td>\n",
       "      <td>2</td>\n",
       "      <td>16.38</td>\n",
       "      <td>-73.993309</td>\n",
       "      <td>40.729580</td>\n",
       "      <td>2</td>\n",
       "      <td>N</td>\n",
       "      <td>-73.806839</td>\n",
       "      <td>40.653099</td>\n",
       "      <td>1</td>\n",
       "      <td>52.0</td>\n",
       "      <td>0.0</td>\n",
       "      <td>0.5</td>\n",
       "      <td>8.00</td>\n",
       "      <td>0.00</td>\n",
       "      <td>0.3</td>\n",
       "      <td>60.80</td>\n",
       "    </tr>\n",
       "    <tr>\n",
       "      <th>448</th>\n",
       "      <td>2</td>\n",
       "      <td>2015-06-02 11:23:48</td>\n",
       "      <td>2015-06-02 12:14:18</td>\n",
       "      <td>2</td>\n",
       "      <td>15.25</td>\n",
       "      <td>-73.863243</td>\n",
       "      <td>40.769901</td>\n",
       "      <td>1</td>\n",
       "      <td>N</td>\n",
       "      <td>-74.009300</td>\n",
       "      <td>40.708721</td>\n",
       "      <td>1</td>\n",
       "      <td>48.5</td>\n",
       "      <td>0.0</td>\n",
       "      <td>0.5</td>\n",
       "      <td>16.45</td>\n",
       "      <td>5.54</td>\n",
       "      <td>0.3</td>\n",
       "      <td>71.29</td>\n",
       "    </tr>\n",
       "    <tr>\n",
       "      <th>465</th>\n",
       "      <td>2</td>\n",
       "      <td>2015-06-02 11:19:38</td>\n",
       "      <td>2015-06-02 12:13:33</td>\n",
       "      <td>2</td>\n",
       "      <td>11.16</td>\n",
       "      <td>-73.874542</td>\n",
       "      <td>40.774101</td>\n",
       "      <td>1</td>\n",
       "      <td>N</td>\n",
       "      <td>-73.983719</td>\n",
       "      <td>40.744011</td>\n",
       "      <td>1</td>\n",
       "      <td>43.0</td>\n",
       "      <td>0.0</td>\n",
       "      <td>0.5</td>\n",
       "      <td>9.87</td>\n",
       "      <td>5.54</td>\n",
       "      <td>0.3</td>\n",
       "      <td>59.21</td>\n",
       "    </tr>\n",
       "    <tr>\n",
       "      <th>488</th>\n",
       "      <td>2</td>\n",
       "      <td>2015-06-02 11:19:56</td>\n",
       "      <td>2015-06-02 11:46:09</td>\n",
       "      <td>2</td>\n",
       "      <td>10.99</td>\n",
       "      <td>-73.972252</td>\n",
       "      <td>40.763329</td>\n",
       "      <td>1</td>\n",
       "      <td>N</td>\n",
       "      <td>-73.864891</td>\n",
       "      <td>40.770409</td>\n",
       "      <td>1</td>\n",
       "      <td>33.0</td>\n",
       "      <td>0.0</td>\n",
       "      <td>0.5</td>\n",
       "      <td>11.80</td>\n",
       "      <td>5.54</td>\n",
       "      <td>0.3</td>\n",
       "      <td>51.14</td>\n",
       "    </tr>\n",
       "    <tr>\n",
       "      <th>...</th>\n",
       "      <td>...</td>\n",
       "      <td>...</td>\n",
       "      <td>...</td>\n",
       "      <td>...</td>\n",
       "      <td>...</td>\n",
       "      <td>...</td>\n",
       "      <td>...</td>\n",
       "      <td>...</td>\n",
       "      <td>...</td>\n",
       "      <td>...</td>\n",
       "      <td>...</td>\n",
       "      <td>...</td>\n",
       "      <td>...</td>\n",
       "      <td>...</td>\n",
       "      <td>...</td>\n",
       "      <td>...</td>\n",
       "      <td>...</td>\n",
       "      <td>...</td>\n",
       "      <td>...</td>\n",
       "    </tr>\n",
       "    <tr>\n",
       "      <th>9561</th>\n",
       "      <td>2</td>\n",
       "      <td>2015-06-01 00:10:40</td>\n",
       "      <td>2015-06-01 00:35:54</td>\n",
       "      <td>2</td>\n",
       "      <td>13.57</td>\n",
       "      <td>-73.833321</td>\n",
       "      <td>40.761478</td>\n",
       "      <td>1</td>\n",
       "      <td>N</td>\n",
       "      <td>-73.975822</td>\n",
       "      <td>40.673969</td>\n",
       "      <td>1</td>\n",
       "      <td>38.0</td>\n",
       "      <td>0.5</td>\n",
       "      <td>0.5</td>\n",
       "      <td>5.00</td>\n",
       "      <td>0.00</td>\n",
       "      <td>0.3</td>\n",
       "      <td>44.30</td>\n",
       "    </tr>\n",
       "    <tr>\n",
       "      <th>9611</th>\n",
       "      <td>1</td>\n",
       "      <td>2015-06-01 00:11:52</td>\n",
       "      <td>2015-06-01 00:37:49</td>\n",
       "      <td>2</td>\n",
       "      <td>17.20</td>\n",
       "      <td>-73.788208</td>\n",
       "      <td>40.641529</td>\n",
       "      <td>2</td>\n",
       "      <td>N</td>\n",
       "      <td>-73.982460</td>\n",
       "      <td>40.742596</td>\n",
       "      <td>1</td>\n",
       "      <td>52.0</td>\n",
       "      <td>0.0</td>\n",
       "      <td>0.5</td>\n",
       "      <td>11.65</td>\n",
       "      <td>5.54</td>\n",
       "      <td>0.3</td>\n",
       "      <td>69.99</td>\n",
       "    </tr>\n",
       "    <tr>\n",
       "      <th>9692</th>\n",
       "      <td>2</td>\n",
       "      <td>2015-06-01 00:11:07</td>\n",
       "      <td>2015-06-01 00:37:05</td>\n",
       "      <td>2</td>\n",
       "      <td>15.69</td>\n",
       "      <td>-73.789818</td>\n",
       "      <td>40.646782</td>\n",
       "      <td>1</td>\n",
       "      <td>N</td>\n",
       "      <td>-73.960541</td>\n",
       "      <td>40.647797</td>\n",
       "      <td>1</td>\n",
       "      <td>43.0</td>\n",
       "      <td>0.5</td>\n",
       "      <td>0.5</td>\n",
       "      <td>0.00</td>\n",
       "      <td>0.00</td>\n",
       "      <td>0.3</td>\n",
       "      <td>44.30</td>\n",
       "    </tr>\n",
       "    <tr>\n",
       "      <th>9729</th>\n",
       "      <td>1</td>\n",
       "      <td>2015-06-01 00:11:57</td>\n",
       "      <td>2015-06-01 00:52:19</td>\n",
       "      <td>2</td>\n",
       "      <td>19.80</td>\n",
       "      <td>-73.790375</td>\n",
       "      <td>40.644089</td>\n",
       "      <td>2</td>\n",
       "      <td>N</td>\n",
       "      <td>-73.965057</td>\n",
       "      <td>40.805264</td>\n",
       "      <td>1</td>\n",
       "      <td>52.0</td>\n",
       "      <td>0.0</td>\n",
       "      <td>0.5</td>\n",
       "      <td>11.65</td>\n",
       "      <td>5.54</td>\n",
       "      <td>0.3</td>\n",
       "      <td>69.99</td>\n",
       "    </tr>\n",
       "    <tr>\n",
       "      <th>9843</th>\n",
       "      <td>2</td>\n",
       "      <td>2015-06-01 00:12:00</td>\n",
       "      <td>2015-06-01 00:32:09</td>\n",
       "      <td>2</td>\n",
       "      <td>14.55</td>\n",
       "      <td>-73.863228</td>\n",
       "      <td>40.769939</td>\n",
       "      <td>1</td>\n",
       "      <td>N</td>\n",
       "      <td>-73.976227</td>\n",
       "      <td>40.657410</td>\n",
       "      <td>1</td>\n",
       "      <td>39.5</td>\n",
       "      <td>0.5</td>\n",
       "      <td>0.5</td>\n",
       "      <td>10.20</td>\n",
       "      <td>0.00</td>\n",
       "      <td>0.3</td>\n",
       "      <td>51.00</td>\n",
       "    </tr>\n",
       "  </tbody>\n",
       "</table></div>"
      ],
      "text/plain": [
       "      VendorID tpep_pickup_datetime tpep_dropoff_datetime  passenger_count   \n",
       "88           2  2015-06-02 11:20:37   2015-06-02 12:35:21                2  \\\n",
       "379          2  2015-06-02 11:23:17   2015-06-02 11:55:39                2   \n",
       "448          2  2015-06-02 11:23:48   2015-06-02 12:14:18                2   \n",
       "465          2  2015-06-02 11:19:38   2015-06-02 12:13:33                2   \n",
       "488          2  2015-06-02 11:19:56   2015-06-02 11:46:09                2   \n",
       "...        ...                  ...                   ...              ...   \n",
       "9561         2  2015-06-01 00:10:40   2015-06-01 00:35:54                2   \n",
       "9611         1  2015-06-01 00:11:52   2015-06-01 00:37:49                2   \n",
       "9692         2  2015-06-01 00:11:07   2015-06-01 00:37:05                2   \n",
       "9729         1  2015-06-01 00:11:57   2015-06-01 00:52:19                2   \n",
       "9843         2  2015-06-01 00:12:00   2015-06-01 00:32:09                2   \n",
       "\n",
       "      trip_distance  pickup_longitude  pickup_latitude  RateCodeID   \n",
       "88            23.76        -73.791214        40.645409           1  \\\n",
       "379           16.38        -73.993309        40.729580           2   \n",
       "448           15.25        -73.863243        40.769901           1   \n",
       "465           11.16        -73.874542        40.774101           1   \n",
       "488           10.99        -73.972252        40.763329           1   \n",
       "...             ...               ...              ...         ...   \n",
       "9561          13.57        -73.833321        40.761478           1   \n",
       "9611          17.20        -73.788208        40.641529           2   \n",
       "9692          15.69        -73.789818        40.646782           1   \n",
       "9729          19.80        -73.790375        40.644089           2   \n",
       "9843          14.55        -73.863228        40.769939           1   \n",
       "\n",
       "     store_and_fwd_flag  dropoff_longitude  dropoff_latitude  payment_type   \n",
       "88                    N         -74.006966         40.724930             1  \\\n",
       "379                   N         -73.806839         40.653099             1   \n",
       "448                   N         -74.009300         40.708721             1   \n",
       "465                   N         -73.983719         40.744011             1   \n",
       "488                   N         -73.864891         40.770409             1   \n",
       "...                 ...                ...               ...           ...   \n",
       "9561                  N         -73.975822         40.673969             1   \n",
       "9611                  N         -73.982460         40.742596             1   \n",
       "9692                  N         -73.960541         40.647797             1   \n",
       "9729                  N         -73.965057         40.805264             1   \n",
       "9843                  N         -73.976227         40.657410             1   \n",
       "\n",
       "      fare_amount  extra  mta_tax  tip_amount  tolls_amount   \n",
       "88           72.5    0.0      0.5        8.95         11.75  \\\n",
       "379          52.0    0.0      0.5        8.00          0.00   \n",
       "448          48.5    0.0      0.5       16.45          5.54   \n",
       "465          43.0    0.0      0.5        9.87          5.54   \n",
       "488          33.0    0.0      0.5       11.80          5.54   \n",
       "...           ...    ...      ...         ...           ...   \n",
       "9561         38.0    0.5      0.5        5.00          0.00   \n",
       "9611         52.0    0.0      0.5       11.65          5.54   \n",
       "9692         43.0    0.5      0.5        0.00          0.00   \n",
       "9729         52.0    0.0      0.5       11.65          5.54   \n",
       "9843         39.5    0.5      0.5       10.20          0.00   \n",
       "\n",
       "      improvement_surcharge  total_amount  \n",
       "88                      0.3         94.00  \n",
       "379                     0.3         60.80  \n",
       "448                     0.3         71.29  \n",
       "465                     0.3         59.21  \n",
       "488                     0.3         51.14  \n",
       "...                     ...           ...  \n",
       "9561                    0.3         44.30  \n",
       "9611                    0.3         69.99  \n",
       "9692                    0.3         44.30  \n",
       "9729                    0.3         69.99  \n",
       "9843                    0.3         51.00  \n",
       "\n",
       "[106 rows x 19 columns]"
      ]
     },
     "execution_count": 12,
     "metadata": {},
     "output_type": "execute_result"
    }
   ],
   "source": [
    "# I want to find all of the rows where passenger_count is 2 and trip_distance is > 10\n",
    "\n",
    "df.loc[(df['passenger_count'] == 2) &         (df['trip_distance'] > 10)]"
   ]
  },
  {
   "cell_type": "code",
   "execution_count": 13,
   "id": "7b76f0cf",
   "metadata": {},
   "outputs": [
    {
     "data": {
      "text/html": [
       "<div><div id=c9783eb1-5182-4e39-9636-e0285a2a0d8d style=\"display:none; background-color:#9D6CFF; color:white; width:200px; height:30px; padding-left:5px; border-radius:4px; flex-direction:row; justify-content:space-around; align-items:center;\" onmouseover=\"this.style.backgroundColor='#BA9BF8'\" onmouseout=\"this.style.backgroundColor='#9D6CFF'\" onclick=\"window.commands?.execute('create-mitosheet-from-dataframe-output');\">See Full Dataframe in Mito</div> <script> if (window.commands?.hasCommand('create-mitosheet-from-dataframe-output')) document.getElementById('c9783eb1-5182-4e39-9636-e0285a2a0d8d').style.display = 'flex' </script> <table border=\"1\" class=\"dataframe\">\n",
       "  <thead>\n",
       "    <tr style=\"text-align: right;\">\n",
       "      <th></th>\n",
       "      <th>VendorID</th>\n",
       "      <th>tpep_pickup_datetime</th>\n",
       "      <th>tpep_dropoff_datetime</th>\n",
       "      <th>passenger_count</th>\n",
       "      <th>trip_distance</th>\n",
       "      <th>pickup_longitude</th>\n",
       "      <th>pickup_latitude</th>\n",
       "      <th>RateCodeID</th>\n",
       "      <th>store_and_fwd_flag</th>\n",
       "      <th>dropoff_longitude</th>\n",
       "      <th>dropoff_latitude</th>\n",
       "      <th>payment_type</th>\n",
       "      <th>fare_amount</th>\n",
       "      <th>extra</th>\n",
       "      <th>mta_tax</th>\n",
       "      <th>tip_amount</th>\n",
       "      <th>tolls_amount</th>\n",
       "      <th>improvement_surcharge</th>\n",
       "      <th>total_amount</th>\n",
       "    </tr>\n",
       "  </thead>\n",
       "  <tbody>\n",
       "    <tr>\n",
       "      <th>88</th>\n",
       "      <td>2</td>\n",
       "      <td>2015-06-02 11:20:37</td>\n",
       "      <td>2015-06-02 12:35:21</td>\n",
       "      <td>2</td>\n",
       "      <td>23.76</td>\n",
       "      <td>-73.791214</td>\n",
       "      <td>40.645409</td>\n",
       "      <td>1</td>\n",
       "      <td>N</td>\n",
       "      <td>-74.006966</td>\n",
       "      <td>40.724930</td>\n",
       "      <td>1</td>\n",
       "      <td>72.5</td>\n",
       "      <td>0.0</td>\n",
       "      <td>0.5</td>\n",
       "      <td>8.95</td>\n",
       "      <td>11.75</td>\n",
       "      <td>0.3</td>\n",
       "      <td>94.00</td>\n",
       "    </tr>\n",
       "    <tr>\n",
       "      <th>379</th>\n",
       "      <td>2</td>\n",
       "      <td>2015-06-02 11:23:17</td>\n",
       "      <td>2015-06-02 11:55:39</td>\n",
       "      <td>2</td>\n",
       "      <td>16.38</td>\n",
       "      <td>-73.993309</td>\n",
       "      <td>40.729580</td>\n",
       "      <td>2</td>\n",
       "      <td>N</td>\n",
       "      <td>-73.806839</td>\n",
       "      <td>40.653099</td>\n",
       "      <td>1</td>\n",
       "      <td>52.0</td>\n",
       "      <td>0.0</td>\n",
       "      <td>0.5</td>\n",
       "      <td>8.00</td>\n",
       "      <td>0.00</td>\n",
       "      <td>0.3</td>\n",
       "      <td>60.80</td>\n",
       "    </tr>\n",
       "    <tr>\n",
       "      <th>448</th>\n",
       "      <td>2</td>\n",
       "      <td>2015-06-02 11:23:48</td>\n",
       "      <td>2015-06-02 12:14:18</td>\n",
       "      <td>2</td>\n",
       "      <td>15.25</td>\n",
       "      <td>-73.863243</td>\n",
       "      <td>40.769901</td>\n",
       "      <td>1</td>\n",
       "      <td>N</td>\n",
       "      <td>-74.009300</td>\n",
       "      <td>40.708721</td>\n",
       "      <td>1</td>\n",
       "      <td>48.5</td>\n",
       "      <td>0.0</td>\n",
       "      <td>0.5</td>\n",
       "      <td>16.45</td>\n",
       "      <td>5.54</td>\n",
       "      <td>0.3</td>\n",
       "      <td>71.29</td>\n",
       "    </tr>\n",
       "    <tr>\n",
       "      <th>465</th>\n",
       "      <td>2</td>\n",
       "      <td>2015-06-02 11:19:38</td>\n",
       "      <td>2015-06-02 12:13:33</td>\n",
       "      <td>2</td>\n",
       "      <td>11.16</td>\n",
       "      <td>-73.874542</td>\n",
       "      <td>40.774101</td>\n",
       "      <td>1</td>\n",
       "      <td>N</td>\n",
       "      <td>-73.983719</td>\n",
       "      <td>40.744011</td>\n",
       "      <td>1</td>\n",
       "      <td>43.0</td>\n",
       "      <td>0.0</td>\n",
       "      <td>0.5</td>\n",
       "      <td>9.87</td>\n",
       "      <td>5.54</td>\n",
       "      <td>0.3</td>\n",
       "      <td>59.21</td>\n",
       "    </tr>\n",
       "    <tr>\n",
       "      <th>488</th>\n",
       "      <td>2</td>\n",
       "      <td>2015-06-02 11:19:56</td>\n",
       "      <td>2015-06-02 11:46:09</td>\n",
       "      <td>2</td>\n",
       "      <td>10.99</td>\n",
       "      <td>-73.972252</td>\n",
       "      <td>40.763329</td>\n",
       "      <td>1</td>\n",
       "      <td>N</td>\n",
       "      <td>-73.864891</td>\n",
       "      <td>40.770409</td>\n",
       "      <td>1</td>\n",
       "      <td>33.0</td>\n",
       "      <td>0.0</td>\n",
       "      <td>0.5</td>\n",
       "      <td>11.80</td>\n",
       "      <td>5.54</td>\n",
       "      <td>0.3</td>\n",
       "      <td>51.14</td>\n",
       "    </tr>\n",
       "    <tr>\n",
       "      <th>...</th>\n",
       "      <td>...</td>\n",
       "      <td>...</td>\n",
       "      <td>...</td>\n",
       "      <td>...</td>\n",
       "      <td>...</td>\n",
       "      <td>...</td>\n",
       "      <td>...</td>\n",
       "      <td>...</td>\n",
       "      <td>...</td>\n",
       "      <td>...</td>\n",
       "      <td>...</td>\n",
       "      <td>...</td>\n",
       "      <td>...</td>\n",
       "      <td>...</td>\n",
       "      <td>...</td>\n",
       "      <td>...</td>\n",
       "      <td>...</td>\n",
       "      <td>...</td>\n",
       "      <td>...</td>\n",
       "    </tr>\n",
       "    <tr>\n",
       "      <th>9561</th>\n",
       "      <td>2</td>\n",
       "      <td>2015-06-01 00:10:40</td>\n",
       "      <td>2015-06-01 00:35:54</td>\n",
       "      <td>2</td>\n",
       "      <td>13.57</td>\n",
       "      <td>-73.833321</td>\n",
       "      <td>40.761478</td>\n",
       "      <td>1</td>\n",
       "      <td>N</td>\n",
       "      <td>-73.975822</td>\n",
       "      <td>40.673969</td>\n",
       "      <td>1</td>\n",
       "      <td>38.0</td>\n",
       "      <td>0.5</td>\n",
       "      <td>0.5</td>\n",
       "      <td>5.00</td>\n",
       "      <td>0.00</td>\n",
       "      <td>0.3</td>\n",
       "      <td>44.30</td>\n",
       "    </tr>\n",
       "    <tr>\n",
       "      <th>9611</th>\n",
       "      <td>1</td>\n",
       "      <td>2015-06-01 00:11:52</td>\n",
       "      <td>2015-06-01 00:37:49</td>\n",
       "      <td>2</td>\n",
       "      <td>17.20</td>\n",
       "      <td>-73.788208</td>\n",
       "      <td>40.641529</td>\n",
       "      <td>2</td>\n",
       "      <td>N</td>\n",
       "      <td>-73.982460</td>\n",
       "      <td>40.742596</td>\n",
       "      <td>1</td>\n",
       "      <td>52.0</td>\n",
       "      <td>0.0</td>\n",
       "      <td>0.5</td>\n",
       "      <td>11.65</td>\n",
       "      <td>5.54</td>\n",
       "      <td>0.3</td>\n",
       "      <td>69.99</td>\n",
       "    </tr>\n",
       "    <tr>\n",
       "      <th>9692</th>\n",
       "      <td>2</td>\n",
       "      <td>2015-06-01 00:11:07</td>\n",
       "      <td>2015-06-01 00:37:05</td>\n",
       "      <td>2</td>\n",
       "      <td>15.69</td>\n",
       "      <td>-73.789818</td>\n",
       "      <td>40.646782</td>\n",
       "      <td>1</td>\n",
       "      <td>N</td>\n",
       "      <td>-73.960541</td>\n",
       "      <td>40.647797</td>\n",
       "      <td>1</td>\n",
       "      <td>43.0</td>\n",
       "      <td>0.5</td>\n",
       "      <td>0.5</td>\n",
       "      <td>0.00</td>\n",
       "      <td>0.00</td>\n",
       "      <td>0.3</td>\n",
       "      <td>44.30</td>\n",
       "    </tr>\n",
       "    <tr>\n",
       "      <th>9729</th>\n",
       "      <td>1</td>\n",
       "      <td>2015-06-01 00:11:57</td>\n",
       "      <td>2015-06-01 00:52:19</td>\n",
       "      <td>2</td>\n",
       "      <td>19.80</td>\n",
       "      <td>-73.790375</td>\n",
       "      <td>40.644089</td>\n",
       "      <td>2</td>\n",
       "      <td>N</td>\n",
       "      <td>-73.965057</td>\n",
       "      <td>40.805264</td>\n",
       "      <td>1</td>\n",
       "      <td>52.0</td>\n",
       "      <td>0.0</td>\n",
       "      <td>0.5</td>\n",
       "      <td>11.65</td>\n",
       "      <td>5.54</td>\n",
       "      <td>0.3</td>\n",
       "      <td>69.99</td>\n",
       "    </tr>\n",
       "    <tr>\n",
       "      <th>9843</th>\n",
       "      <td>2</td>\n",
       "      <td>2015-06-01 00:12:00</td>\n",
       "      <td>2015-06-01 00:32:09</td>\n",
       "      <td>2</td>\n",
       "      <td>14.55</td>\n",
       "      <td>-73.863228</td>\n",
       "      <td>40.769939</td>\n",
       "      <td>1</td>\n",
       "      <td>N</td>\n",
       "      <td>-73.976227</td>\n",
       "      <td>40.657410</td>\n",
       "      <td>1</td>\n",
       "      <td>39.5</td>\n",
       "      <td>0.5</td>\n",
       "      <td>0.5</td>\n",
       "      <td>10.20</td>\n",
       "      <td>0.00</td>\n",
       "      <td>0.3</td>\n",
       "      <td>51.00</td>\n",
       "    </tr>\n",
       "  </tbody>\n",
       "</table></div>"
      ],
      "text/plain": [
       "      VendorID tpep_pickup_datetime tpep_dropoff_datetime  passenger_count   \n",
       "88           2  2015-06-02 11:20:37   2015-06-02 12:35:21                2  \\\n",
       "379          2  2015-06-02 11:23:17   2015-06-02 11:55:39                2   \n",
       "448          2  2015-06-02 11:23:48   2015-06-02 12:14:18                2   \n",
       "465          2  2015-06-02 11:19:38   2015-06-02 12:13:33                2   \n",
       "488          2  2015-06-02 11:19:56   2015-06-02 11:46:09                2   \n",
       "...        ...                  ...                   ...              ...   \n",
       "9561         2  2015-06-01 00:10:40   2015-06-01 00:35:54                2   \n",
       "9611         1  2015-06-01 00:11:52   2015-06-01 00:37:49                2   \n",
       "9692         2  2015-06-01 00:11:07   2015-06-01 00:37:05                2   \n",
       "9729         1  2015-06-01 00:11:57   2015-06-01 00:52:19                2   \n",
       "9843         2  2015-06-01 00:12:00   2015-06-01 00:32:09                2   \n",
       "\n",
       "      trip_distance  pickup_longitude  pickup_latitude  RateCodeID   \n",
       "88            23.76        -73.791214        40.645409           1  \\\n",
       "379           16.38        -73.993309        40.729580           2   \n",
       "448           15.25        -73.863243        40.769901           1   \n",
       "465           11.16        -73.874542        40.774101           1   \n",
       "488           10.99        -73.972252        40.763329           1   \n",
       "...             ...               ...              ...         ...   \n",
       "9561          13.57        -73.833321        40.761478           1   \n",
       "9611          17.20        -73.788208        40.641529           2   \n",
       "9692          15.69        -73.789818        40.646782           1   \n",
       "9729          19.80        -73.790375        40.644089           2   \n",
       "9843          14.55        -73.863228        40.769939           1   \n",
       "\n",
       "     store_and_fwd_flag  dropoff_longitude  dropoff_latitude  payment_type   \n",
       "88                    N         -74.006966         40.724930             1  \\\n",
       "379                   N         -73.806839         40.653099             1   \n",
       "448                   N         -74.009300         40.708721             1   \n",
       "465                   N         -73.983719         40.744011             1   \n",
       "488                   N         -73.864891         40.770409             1   \n",
       "...                 ...                ...               ...           ...   \n",
       "9561                  N         -73.975822         40.673969             1   \n",
       "9611                  N         -73.982460         40.742596             1   \n",
       "9692                  N         -73.960541         40.647797             1   \n",
       "9729                  N         -73.965057         40.805264             1   \n",
       "9843                  N         -73.976227         40.657410             1   \n",
       "\n",
       "      fare_amount  extra  mta_tax  tip_amount  tolls_amount   \n",
       "88           72.5    0.0      0.5        8.95         11.75  \\\n",
       "379          52.0    0.0      0.5        8.00          0.00   \n",
       "448          48.5    0.0      0.5       16.45          5.54   \n",
       "465          43.0    0.0      0.5        9.87          5.54   \n",
       "488          33.0    0.0      0.5       11.80          5.54   \n",
       "...           ...    ...      ...         ...           ...   \n",
       "9561         38.0    0.5      0.5        5.00          0.00   \n",
       "9611         52.0    0.0      0.5       11.65          5.54   \n",
       "9692         43.0    0.5      0.5        0.00          0.00   \n",
       "9729         52.0    0.0      0.5       11.65          5.54   \n",
       "9843         39.5    0.5      0.5       10.20          0.00   \n",
       "\n",
       "      improvement_surcharge  total_amount  \n",
       "88                      0.3         94.00  \n",
       "379                     0.3         60.80  \n",
       "448                     0.3         71.29  \n",
       "465                     0.3         59.21  \n",
       "488                     0.3         51.14  \n",
       "...                     ...           ...  \n",
       "9561                    0.3         44.30  \n",
       "9611                    0.3         69.99  \n",
       "9692                    0.3         44.30  \n",
       "9729                    0.3         69.99  \n",
       "9843                    0.3         51.00  \n",
       "\n",
       "[106 rows x 19 columns]"
      ]
     },
     "execution_count": 13,
     "metadata": {},
     "output_type": "execute_result"
    }
   ],
   "source": [
    "# what about the df.query method?\n",
    "\n",
    "df.query('passenger_count == 2 & trip_distance > 10')"
   ]
  },
  {
   "cell_type": "code",
   "execution_count": 14,
   "id": "90cbe4c8",
   "metadata": {},
   "outputs": [
    {
     "name": "stdout",
     "output_type": "stream",
     "text": [
      "334 µs ± 10.5 µs per loop (mean ± std. dev. of 7 runs, 1,000 loops each)\n"
     ]
    }
   ],
   "source": [
    "# which is faster?\n",
    "\n",
    "%timeit df.loc[(df['passenger_count'] == 2) &         (df['trip_distance'] > 10)]"
   ]
  },
  {
   "cell_type": "code",
   "execution_count": 15,
   "id": "e49115d6",
   "metadata": {},
   "outputs": [
    {
     "name": "stdout",
     "output_type": "stream",
     "text": [
      "1.12 ms ± 21.9 µs per loop (mean ± std. dev. of 7 runs, 1,000 loops each)\n"
     ]
    }
   ],
   "source": [
    "%timeit df.query('passenger_count == 2 & trip_distance > 10')"
   ]
  },
  {
   "cell_type": "markdown",
   "id": "de168c6d",
   "metadata": {},
   "source": [
    "# Summary chart\n",
    "\n",
    "1. `df.query` lets you write your queries in more natural language, treating your column names as variables, and without explicitly creating as many boolean series.\n",
    "2. However, `df.query` can run faster, and also can run more slowly -- you need to check."
   ]
  },
  {
   "cell_type": "code",
   "execution_count": 16,
   "id": "d46947d4",
   "metadata": {},
   "outputs": [
    {
     "name": "stdout",
     "output_type": "stream",
     "text": [
      "322 µs ± 29.2 µs per loop (mean ± std. dev. of 7 runs, 1,000 loops each)\n"
     ]
    }
   ],
   "source": [
    "%timeit df.loc[(df['passenger_count'] == 2)]"
   ]
  },
  {
   "cell_type": "code",
   "execution_count": 17,
   "id": "6411a1fe",
   "metadata": {},
   "outputs": [
    {
     "name": "stdout",
     "output_type": "stream",
     "text": [
      "965 µs ± 17.7 µs per loop (mean ± std. dev. of 7 runs, 1,000 loops each)\n"
     ]
    }
   ],
   "source": [
    "%timeit df.query('passenger_count == 2')"
   ]
  },
  {
   "cell_type": "markdown",
   "id": "c286870b",
   "metadata": {},
   "source": [
    "# Recap of joining\n",
    "\n",
    "If you have two different data frames *with the same index*, then you can create one data frame from the two of them by joining.\n",
    "\n",
    "The syntax is:\n",
    "\n",
    "```python\n",
    "df.join(other_df)\n",
    "```\n",
    "\n",
    "This does what's known in the database world as a \"left inner join,\" meaning that the index of the new dataframe that's returned will reflect `df`, not `other_df`. You'll get a result for each match between `df` and `other_df` on their indexes.\n",
    "\n",
    "If you want to join using columns other than the index, then you can use `set_index` or you can use the `merge` method, which lets you specify the joining column."
   ]
  },
  {
   "cell_type": "markdown",
   "id": "9ad5bae4",
   "metadata": {},
   "source": [
    "# Visualization!\n",
    "\n",
    "Visualization is a tool that we can use to understand our data better, even if we understand the numbers already! We can see the relationships among numbers, and can pick out outliers and important points much more easily than just looking at tables.\n",
    "\n",
    "The 900-pound gorilla in the visualization world in Python is known as \"Matplotlib.\" It is super powerful! It can create lots of different types of visualizations!\n",
    "\n",
    "It is also super super hard to learn and to use (in my experience).\n",
    "\n",
    "In my opinion, most people can get away with using the Pandas API to Matplotlib, which is *so* much easier to use. That's what we're going to be doing today.\n",
    "\n",
    "When you plot via Pandas, it's not only easier to work with, but it lets you pass any keyword arguments you want to the back-end Matplotlib. If you know of an option in Matplotlib, just pass it along, and Pandas will do that for you.\n",
    "\n",
    "If you want super sophisticated plots without tearing your hair out, check out Seaborn, which is another wrapper around Matplotlib aimed at having an easy API and beautiful output."
   ]
  },
  {
   "cell_type": "markdown",
   "id": "f1d885df",
   "metadata": {},
   "source": [
    "# In case it doesn't work for you...\n",
    "\n",
    "Make sure to have Matplotlib installed in your Python environment.\n",
    "\n",
    "On the command line, you'll need to write:\n",
    "\n",
    "    pip3 install -U matplotlib\n",
    "    \n",
    "This means:\n",
    "\n",
    "- Use Python 3 (some people can say `pip` instead)\n",
    "- We want to install a new package\n",
    "- `-U` means that if you have an old version, it's OK to upgrade it\n",
    "- `matplotlib` is the name of the package\n",
    "\n",
    "In Jupyter, you can actually run this if you put an `!` before it at the start of a line.\n",
    "\n",
    "Matplotlib home page: https://matplotlib.org/"
   ]
  },
  {
   "cell_type": "code",
   "execution_count": 18,
   "id": "dacb8817",
   "metadata": {
    "scrolled": true
   },
   "outputs": [
    {
     "data": {
      "text/plain": [
       "0     22\n",
       "1     21\n",
       "2     29\n",
       "3     25\n",
       "4     29\n",
       "5     28\n",
       "6     18\n",
       "7     16\n",
       "8     17\n",
       "9     20\n",
       "10    20\n",
       "dtype: int64"
      ]
     },
     "execution_count": 18,
     "metadata": {},
     "output_type": "execute_result"
    }
   ],
   "source": [
    "# let's visualize a series!\n",
    "\n",
    "s = Series([22, 21, 29, 25, 29, 28, 18, 16, 17, 20, 20])\n",
    "s"
   ]
  },
  {
   "cell_type": "code",
   "execution_count": 19,
   "id": "5546aefe",
   "metadata": {},
   "outputs": [
    {
     "data": {
      "text/plain": [
       "<Axes: >"
      ]
     },
     "execution_count": 19,
     "metadata": {},
     "output_type": "execute_result"
    },
    {
     "data": {
      "image/png": "[encoded data removed]",
      "text/plain": [
       "<Figure size 640x480 with 1 Axes>"
      ]
     },
     "metadata": {},
     "output_type": "display_data"
    }
   ],
   "source": [
    "# I can create a \"line plot\" very easily with my series using .plot.line()\n",
    "# notice that .plot is an object on which we then invoke the .line() method\n",
    "# you can, in theory, invoke .plot as a method, and it defaults to line plots,\n",
    "# but I strongly prefer not to do that.\n",
    "\n",
    "s.plot.line()"
   ]
  },
  {
   "cell_type": "markdown",
   "id": "0bde8675",
   "metadata": {},
   "source": [
    "# We got a line plot! Some thoughts:\n",
    "\n",
    "- The y axis represents our data points\n",
    "- Each data point is plotted on our plot\n",
    "- The x axis represents the index to our series\n",
    "- Pandas automatically focuses our axes on the data that it has\n",
    "- If you're in Jupyter, then it displays the plot inline, alongside your code, data, and documentation!"
   ]
  },
  {
   "cell_type": "markdown",
   "id": "c1082a8f",
   "metadata": {},
   "source": [
    "# Customizing the plot"
   ]
  },
  {
   "cell_type": "code",
   "execution_count": 20,
   "id": "5cbf4b8a",
   "metadata": {},
   "outputs": [
    {
     "data": {
      "text/plain": [
       "<Axes: title={'center': 'My amazing plot'}>"
      ]
     },
     "execution_count": 20,
     "metadata": {},
     "output_type": "execute_result"
    },
    {
     "data": {
      "image/png": "[encoded data removed]",
      "text/plain": [
       "<Figure size 640x480 with 1 Axes>"
      ]
     },
     "metadata": {},
     "output_type": "display_data"
    }
   ],
   "source": [
    "# set a title by passing title='a string'\n",
    "\n",
    "s.plot.line(title='My amazing plot')"
   ]
  },
  {
   "cell_type": "code",
   "execution_count": 21,
   "id": "4878e01e",
   "metadata": {},
   "outputs": [
    {
     "data": {
      "text/plain": [
       "<Axes: >"
      ]
     },
     "execution_count": 21,
     "metadata": {},
     "output_type": "execute_result"
    },
    {
     "data": {
      "image/png": "[encoded data removed]",
      "text/plain": [
       "<Figure size 640x480 with 1 Axes>"
      ]
     },
     "metadata": {},
     "output_type": "display_data"
    }
   ],
   "source": [
    "# set the color by passing color='a color string'\n",
    "# color string can be a color name, if it's a simple/standard color name\n",
    "\n",
    "s.plot.line(color='orange')"
   ]
  },
  {
   "cell_type": "code",
   "execution_count": 22,
   "id": "417d722f",
   "metadata": {},
   "outputs": [
    {
     "data": {
      "text/plain": [
       "<Axes: >"
      ]
     },
     "execution_count": 22,
     "metadata": {},
     "output_type": "execute_result"
    },
    {
     "data": {
      "image/png": "[encoded data removed]",
      "text/plain": [
       "<Figure size 640x480 with 1 Axes>"
      ]
     },
     "metadata": {},
     "output_type": "display_data"
    }
   ],
   "source": [
    "# I can also pass a 6-hex digit color, same as we use in Web colors\n",
    "# RRGGBB -- each of red, green, and blue gets two hex digits, from 0 - F.\n",
    "# (if you're not familiar with hexadecimal counting, it's 0-9 then a-f)\n",
    "\n",
    "s.plot.line(color='#ff0000') # all red, no green, no blue"
   ]
  },
  {
   "cell_type": "code",
   "execution_count": 23,
   "id": "92faa7e3",
   "metadata": {},
   "outputs": [
    {
     "data": {
      "text/plain": [
       "<Axes: >"
      ]
     },
     "execution_count": 23,
     "metadata": {},
     "output_type": "execute_result"
    },
    {
     "data": {
      "image/png": "[encoded data removed]",
      "text/plain": [
       "<Figure size 640x480 with 1 Axes>"
      ]
     },
     "metadata": {},
     "output_type": "display_data"
    }
   ],
   "source": [
    "s.plot.line(color='#aaaa00') # some red, some green, no blue"
   ]
  },
  {
   "cell_type": "code",
   "execution_count": 26,
   "id": "82b36fcb",
   "metadata": {},
   "outputs": [
    {
     "data": {
      "text/plain": [
       "<Axes: >"
      ]
     },
     "execution_count": 26,
     "metadata": {},
     "output_type": "execute_result"
    },
    {
     "data": {
      "image/png": "[encoded data removed]",
      "text/plain": [
       "<Figure size 640x480 with 1 Axes>"
      ]
     },
     "metadata": {},
     "output_type": "display_data"
    }
   ],
   "source": [
    "s.plot.line(color='#00cccc') # no red, some green, some blue"
   ]
  },
  {
   "cell_type": "code",
   "execution_count": 27,
   "id": "016c5547",
   "metadata": {},
   "outputs": [
    {
     "data": {
      "text/plain": [
       "<Axes: >"
      ]
     },
     "execution_count": 27,
     "metadata": {},
     "output_type": "execute_result"
    },
    {
     "data": {
      "image/png": "[encoded data removed]",
      "text/plain": [
       "<Figure size 640x480 with 1 Axes>"
      ]
     },
     "metadata": {},
     "output_type": "display_data"
    }
   ],
   "source": [
    "s.plot.line(color='#12ab34') # some red, more blue, some green"
   ]
  },
  {
   "cell_type": "code",
   "execution_count": 28,
   "id": "143c4a9a",
   "metadata": {},
   "outputs": [
    {
     "data": {
      "text/plain": [
       "<Axes: >"
      ]
     },
     "execution_count": 28,
     "metadata": {},
     "output_type": "execute_result"
    },
    {
     "data": {
      "image/png": "[encoded data removed]",
      "text/plain": [
       "<Figure size 640x480 with 1 Axes>"
      ]
     },
     "metadata": {},
     "output_type": "display_data"
    }
   ],
   "source": [
    "# do we really need a legend indicating what the line means? Maybe?\n",
    "\n",
    "s.plot.line(legend=True)"
   ]
  },
  {
   "cell_type": "code",
   "execution_count": 30,
   "id": "6ff7aac8",
   "metadata": {},
   "outputs": [],
   "source": [
    "s.name = 'Temp'    #if you want something to show up in the legend, set the name of the series"
   ]
  },
  {
   "cell_type": "code",
   "execution_count": 31,
   "id": "69f01e8a",
   "metadata": {},
   "outputs": [
    {
     "data": {
      "text/plain": [
       "<Axes: >"
      ]
     },
     "execution_count": 31,
     "metadata": {},
     "output_type": "execute_result"
    },
    {
     "data": {
      "image/png": "[encoded data removed]",
      "text/plain": [
       "<Figure size 640x480 with 1 Axes>"
      ]
     },
     "metadata": {},
     "output_type": "display_data"
    }
   ],
   "source": [
    "s.plot.line(legend=True)"
   ]
  },
  {
   "cell_type": "code",
   "execution_count": 32,
   "id": "19d6a7f9",
   "metadata": {},
   "outputs": [
    {
     "data": {
      "text/plain": [
       "<Axes: title={'center': 'My amazing plot'}>"
      ]
     },
     "execution_count": 32,
     "metadata": {},
     "output_type": "execute_result"
    },
    {
     "data": {
      "image/png": "[encoded data removed]",
      "text/plain": [
       "<Figure size 300x300 with 1 Axes>"
      ]
     },
     "metadata": {},
     "output_type": "display_data"
    }
   ],
   "source": [
    "s.plot.line(title='My amazing plot',\n",
    "           color='#12ab34',\n",
    "           legend=True,\n",
    "           figsize=(3, 3))   # 3 inches x 3 inches"
   ]
  },
  {
   "cell_type": "code",
   "execution_count": 33,
   "id": "7a7d69d4",
   "metadata": {},
   "outputs": [
    {
     "name": "stdout",
     "output_type": "stream",
     "text": [
      "Help on method line in module pandas.plotting._core:\n",
      "\n",
      "line(x=None, y=None, **kwargs) -> 'PlotAccessor' method of pandas.plotting._core.PlotAccessor instance\n",
      "    Plot Series or DataFrame as lines.\n",
      "    \n",
      "    This function is useful to plot lines using DataFrame's values\n",
      "    as coordinates.\n",
      "    \n",
      "    Parameters\n",
      "    ----------\n",
      "    x : label or position, optional\n",
      "        Allows plotting of one column versus another. If not specified,\n",
      "        the index of the DataFrame is used.\n",
      "    y : label or position, optional\n",
      "        Allows plotting of one column versus another. If not specified,\n",
      "        all numerical columns are used.\n",
      "    color : str, array-like, or dict, optional\n",
      "        The color for each of the DataFrame's columns. Possible values are:\n",
      "    \n",
      "        - A single color string referred to by name, RGB or RGBA code,\n",
      "            for instance 'red' or '#a98d19'.\n",
      "    \n",
      "        - A sequence of color strings referred to by name, RGB or RGBA\n",
      "            code, which will be used for each column recursively. For\n",
      "            instance ['green','yellow'] each column's line will be filled in\n",
      "            green or yellow, alternatively. If there is only a single column to\n",
      "            be plotted, then only the first color from the color list will be\n",
      "            used.\n",
      "    \n",
      "        - A dict of the form {column name : color}, so that each column will be\n",
      "            colored accordingly. For example, if your columns are called `a` and\n",
      "            `b`, then passing {'a': 'green', 'b': 'red'} will color lines for\n",
      "            column `a` in green and lines for column `b` in red.\n",
      "    \n",
      "        .. versionadded:: 1.1.0\n",
      "    \n",
      "    **kwargs\n",
      "        Additional keyword arguments are documented in\n",
      "        :meth:`DataFrame.plot`.\n",
      "    \n",
      "    Returns\n",
      "    -------\n",
      "    matplotlib.axes.Axes or np.ndarray of them\n",
      "        An ndarray is returned with one :class:`matplotlib.axes.Axes`\n",
      "        per column when ``subplots=True``.\n",
      "    \n",
      "            See Also\n",
      "            --------\n",
      "            matplotlib.pyplot.plot : Plot y versus x as lines and/or markers.\n",
      "    \n",
      "            Examples\n",
      "            --------\n",
      "    \n",
      "            .. plot::\n",
      "                :context: close-figs\n",
      "    \n",
      "                >>> s = pd.Series([1, 3, 2])\n",
      "                >>> s.plot.line()\n",
      "                <AxesSubplot: ylabel='Density'>\n",
      "    \n",
      "            .. plot::\n",
      "                :context: close-figs\n",
      "    \n",
      "                The following example shows the populations for some animals\n",
      "                over the years.\n",
      "    \n",
      "                >>> df = pd.DataFrame({\n",
      "                ...    'pig': [20, 18, 489, 675, 1776],\n",
      "                ...    'horse': [4, 25, 281, 600, 1900]\n",
      "                ...    }, index=[1990, 1997, 2003, 2009, 2014])\n",
      "                >>> lines = df.plot.line()\n",
      "    \n",
      "            .. plot::\n",
      "               :context: close-figs\n",
      "    \n",
      "               An example with subplots, so an array of axes is returned.\n",
      "    \n",
      "               >>> axes = df.plot.line(subplots=True)\n",
      "               >>> type(axes)\n",
      "               <class 'numpy.ndarray'>\n",
      "    \n",
      "            .. plot::\n",
      "               :context: close-figs\n",
      "    \n",
      "               Let's repeat the same example, but specifying colors for\n",
      "               each column (in this case, for each animal).\n",
      "    \n",
      "               >>> axes = df.plot.line(\n",
      "               ...     subplots=True, color={\"pig\": \"pink\", \"horse\": \"#742802\"}\n",
      "               ... )\n",
      "    \n",
      "            .. plot::\n",
      "                :context: close-figs\n",
      "    \n",
      "                The following example shows the relationship between both\n",
      "                populations.\n",
      "    \n",
      "                >>> lines = df.plot.line(x='pig', y='horse')\n",
      "\n"
     ]
    }
   ],
   "source": [
    "help(s.plot.line)"
   ]
  },
  {
   "cell_type": "code",
   "execution_count": 34,
   "id": "8ce3b34e",
   "metadata": {},
   "outputs": [
    {
     "data": {
      "text/plain": [
       "0     22\n",
       "1     21\n",
       "2     29\n",
       "3     25\n",
       "4     29\n",
       "5     28\n",
       "6     18\n",
       "7     16\n",
       "8     17\n",
       "9     20\n",
       "10    20\n",
       "Name: Temp, dtype: int64"
      ]
     },
     "execution_count": 34,
     "metadata": {},
     "output_type": "execute_result"
    }
   ],
   "source": [
    "s"
   ]
  },
  {
   "cell_type": "code",
   "execution_count": 36,
   "id": "952f1585",
   "metadata": {},
   "outputs": [
    {
     "data": {
      "text/plain": [
       "<Axes: title={'center': 'My amazing plot'}>"
      ]
     },
     "execution_count": 36,
     "metadata": {},
     "output_type": "execute_result"
    },
    {
     "data": {
      "image/png": "[encoded data removed]",
      "text/plain": [
       "<Figure size 500x500 with 1 Axes>"
      ]
     },
     "metadata": {},
     "output_type": "display_data"
    }
   ],
   "source": [
    "# let's set the index of our series to be day names\n",
    "\n",
    "s.index = 'Wed Thu Fri Sat Sun Mon Tue Wed Thu Fri Sat'.split()\n",
    "\n",
    "s.plot.line(title='My amazing plot',\n",
    "           color='#12ab34',\n",
    "           legend=True,\n",
    "           figsize=(5, 5))   # 3 inches x 3 inches"
   ]
  },
  {
   "cell_type": "markdown",
   "id": "f858da21",
   "metadata": {},
   "source": [
    "# Warning\n",
    "\n",
    "If you make a line plot (or many other types of plots), Pandas will try to plot every single value in the series. This means that if you have 1m data points, it will try to plot all 1m of them, which will (a) take a long time (b) use lots of memory (c) be very ugly.\n",
    "\n",
    "Make sure that you have a reasonable number of data points before plotting."
   ]
  },
  {
   "cell_type": "code",
   "execution_count": 49,
   "id": "071de4ef",
   "metadata": {},
   "outputs": [
    {
     "data": {
      "text/plain": [
       "<Axes: title={'center': 'My amazing plot'}>"
      ]
     },
     "execution_count": 49,
     "metadata": {},
     "output_type": "execute_result"
    },
    {
     "data": {
      "image/png": "[encoded data removed]",
      "text/plain": [
       "<Figure size 500x500 with 1 Axes>"
      ]
     },
     "metadata": {},
     "output_type": "display_data"
    }
   ],
   "source": [
    "s.index = 'Wed Thu Fri Sat Sun Mon Tue Wed Thu Fri Sat'.split()\n",
    "\n",
    "s.plot.line(title='My amazing plot',\n",
    "            style='--^',\n",
    "           color='#12ab34',\n",
    "           legend=True,\n",
    "           figsize=(5, 5),\n",
    "           grid=True)"
   ]
  },
  {
   "cell_type": "code",
   "execution_count": 50,
   "id": "cf8ff7f0",
   "metadata": {},
   "outputs": [
    {
     "name": "stdout",
     "output_type": "stream",
     "text": [
      "Help on PlotAccessor in module pandas.plotting._core object:\n",
      "\n",
      "class PlotAccessor(pandas.core.base.PandasObject)\n",
      " |  PlotAccessor(data) -> 'None'\n",
      " |  \n",
      " |  Make plots of Series or DataFrame.\n",
      " |  \n",
      " |  Uses the backend specified by the\n",
      " |  option ``plotting.backend``. By default, matplotlib is used.\n",
      " |  \n",
      " |  Parameters\n",
      " |  ----------\n",
      " |  data : Series or DataFrame\n",
      " |      The object for which the method is called.\n",
      " |  x : label or position, default None\n",
      " |      Only used if data is a DataFrame.\n",
      " |  y : label, position or list of label, positions, default None\n",
      " |      Allows plotting of one column versus another. Only used if data is a\n",
      " |      DataFrame.\n",
      " |  kind : str\n",
      " |      The kind of plot to produce:\n",
      " |  \n",
      " |      - 'line' : line plot (default)\n",
      " |      - 'bar' : vertical bar plot\n",
      " |      - 'barh' : horizontal bar plot\n",
      " |      - 'hist' : histogram\n",
      " |      - 'box' : boxplot\n",
      " |      - 'kde' : Kernel Density Estimation plot\n",
      " |      - 'density' : same as 'kde'\n",
      " |      - 'area' : area plot\n",
      " |      - 'pie' : pie plot\n",
      " |      - 'scatter' : scatter plot (DataFrame only)\n",
      " |      - 'hexbin' : hexbin plot (DataFrame only)\n",
      " |  ax : matplotlib axes object, default None\n",
      " |      An axes of the current figure.\n",
      " |  subplots : bool or sequence of iterables, default False\n",
      " |      Whether to group columns into subplots:\n",
      " |  \n",
      " |      - ``False`` : No subplots will be used\n",
      " |      - ``True`` : Make separate subplots for each column.\n",
      " |      - sequence of iterables of column labels: Create a subplot for each\n",
      " |        group of columns. For example `[('a', 'c'), ('b', 'd')]` will\n",
      " |        create 2 subplots: one with columns 'a' and 'c', and one\n",
      " |        with columns 'b' and 'd'. Remaining columns that aren't specified\n",
      " |        will be plotted in additional subplots (one per column).\n",
      " |  \n",
      " |        .. versionadded:: 1.5.0\n",
      " |  \n",
      " |  sharex : bool, default True if ax is None else False\n",
      " |      In case ``subplots=True``, share x axis and set some x axis labels\n",
      " |      to invisible; defaults to True if ax is None otherwise False if\n",
      " |      an ax is passed in; Be aware, that passing in both an ax and\n",
      " |      ``sharex=True`` will alter all x axis labels for all axis in a figure.\n",
      " |  sharey : bool, default False\n",
      " |      In case ``subplots=True``, share y axis and set some y axis labels to invisible.\n",
      " |  layout : tuple, optional\n",
      " |      (rows, columns) for the layout of subplots.\n",
      " |  figsize : a tuple (width, height) in inches\n",
      " |      Size of a figure object.\n",
      " |  use_index : bool, default True\n",
      " |      Use index as ticks for x axis.\n",
      " |  title : str or list\n",
      " |      Title to use for the plot. If a string is passed, print the string\n",
      " |      at the top of the figure. If a list is passed and `subplots` is\n",
      " |      True, print each item in the list above the corresponding subplot.\n",
      " |  grid : bool, default None (matlab style default)\n",
      " |      Axis grid lines.\n",
      " |  legend : bool or {'reverse'}\n",
      " |      Place legend on axis subplots.\n",
      " |  style : list or dict\n",
      " |      The matplotlib line style per column.\n",
      " |  logx : bool or 'sym', default False\n",
      " |      Use log scaling or symlog scaling on x axis.\n",
      " |  \n",
      " |  logy : bool or 'sym' default False\n",
      " |      Use log scaling or symlog scaling on y axis.\n",
      " |  \n",
      " |  loglog : bool or 'sym', default False\n",
      " |      Use log scaling or symlog scaling on both x and y axes.\n",
      " |  \n",
      " |  xticks : sequence\n",
      " |      Values to use for the xticks.\n",
      " |  yticks : sequence\n",
      " |      Values to use for the yticks.\n",
      " |  xlim : 2-tuple/list\n",
      " |      Set the x limits of the current axes.\n",
      " |  ylim : 2-tuple/list\n",
      " |      Set the y limits of the current axes.\n",
      " |  xlabel : label, optional\n",
      " |      Name to use for the xlabel on x-axis. Default uses index name as xlabel, or the\n",
      " |      x-column name for planar plots.\n",
      " |  \n",
      " |      .. versionadded:: 1.1.0\n",
      " |  \n",
      " |      .. versionchanged:: 1.2.0\n",
      " |  \n",
      " |         Now applicable to planar plots (`scatter`, `hexbin`).\n",
      " |  \n",
      " |      .. versionchanged:: 2.0.0\n",
      " |  \n",
      " |          Now applicable to histograms.\n",
      " |  \n",
      " |  ylabel : label, optional\n",
      " |      Name to use for the ylabel on y-axis. Default will show no ylabel, or the\n",
      " |      y-column name for planar plots.\n",
      " |  \n",
      " |      .. versionadded:: 1.1.0\n",
      " |  \n",
      " |      .. versionchanged:: 1.2.0\n",
      " |  \n",
      " |         Now applicable to planar plots (`scatter`, `hexbin`).\n",
      " |  \n",
      " |      .. versionchanged:: 2.0.0\n",
      " |  \n",
      " |          Now applicable to histograms.\n",
      " |  \n",
      " |  rot : float, default None\n",
      " |      Rotation for ticks (xticks for vertical, yticks for horizontal\n",
      " |      plots).\n",
      " |  fontsize : float, default None\n",
      " |      Font size for xticks and yticks.\n",
      " |  colormap : str or matplotlib colormap object, default None\n",
      " |      Colormap to select colors from. If string, load colormap with that\n",
      " |      name from matplotlib.\n",
      " |  colorbar : bool, optional\n",
      " |      If True, plot colorbar (only relevant for 'scatter' and 'hexbin'\n",
      " |      plots).\n",
      " |  position : float\n",
      " |      Specify relative alignments for bar plot layout.\n",
      " |      From 0 (left/bottom-end) to 1 (right/top-end). Default is 0.5\n",
      " |      (center).\n",
      " |  table : bool, Series or DataFrame, default False\n",
      " |      If True, draw a table using the data in the DataFrame and the data\n",
      " |      will be transposed to meet matplotlib's default layout.\n",
      " |      If a Series or DataFrame is passed, use passed data to draw a\n",
      " |      table.\n",
      " |  yerr : DataFrame, Series, array-like, dict and str\n",
      " |      See :ref:`Plotting with Error Bars <visualization.errorbars>` for\n",
      " |      detail.\n",
      " |  xerr : DataFrame, Series, array-like, dict and str\n",
      " |      Equivalent to yerr.\n",
      " |  stacked : bool, default False in line and bar plots, and True in area plot\n",
      " |      If True, create stacked plot.\n",
      " |  secondary_y : bool or sequence, default False\n",
      " |      Whether to plot on the secondary y-axis if a list/tuple, which\n",
      " |      columns to plot on secondary y-axis.\n",
      " |  mark_right : bool, default True\n",
      " |      When using a secondary_y axis, automatically mark the column\n",
      " |      labels with \"(right)\" in the legend.\n",
      " |  include_bool : bool, default is False\n",
      " |      If True, boolean values can be plotted.\n",
      " |  backend : str, default None\n",
      " |      Backend to use instead of the backend specified in the option\n",
      " |      ``plotting.backend``. For instance, 'matplotlib'. Alternatively, to\n",
      " |      specify the ``plotting.backend`` for the whole session, set\n",
      " |      ``pd.options.plotting.backend``.\n",
      " |  **kwargs\n",
      " |      Options to pass to matplotlib plotting method.\n",
      " |  \n",
      " |  Returns\n",
      " |  -------\n",
      " |  :class:`matplotlib.axes.Axes` or numpy.ndarray of them\n",
      " |      If the backend is not the default matplotlib one, the return value\n",
      " |      will be the object returned by the backend.\n",
      " |  \n",
      " |  Notes\n",
      " |  -----\n",
      " |  - See matplotlib documentation online for more on this subject\n",
      " |  - If `kind` = 'bar' or 'barh', you can specify relative alignments\n",
      " |    for bar plot layout by `position` keyword.\n",
      " |    From 0 (left/bottom-end) to 1 (right/top-end). Default is 0.5\n",
      " |    (center)\n",
      " |  \n",
      " |  Method resolution order:\n",
      " |      PlotAccessor\n",
      " |      pandas.core.base.PandasObject\n",
      " |      pandas.core.accessor.DirNamesMixin\n",
      " |      builtins.object\n",
      " |  \n",
      " |  Methods defined here:\n",
      " |  \n",
      " |  __call__(self, *args, **kwargs)\n",
      " |      Make plots of Series or DataFrame.\n",
      " |      \n",
      " |      Uses the backend specified by the\n",
      " |      option ``plotting.backend``. By default, matplotlib is used.\n",
      " |      \n",
      " |      Parameters\n",
      " |      ----------\n",
      " |      data : Series or DataFrame\n",
      " |          The object for which the method is called.\n",
      " |      x : label or position, default None\n",
      " |          Only used if data is a DataFrame.\n",
      " |      y : label, position or list of label, positions, default None\n",
      " |          Allows plotting of one column versus another. Only used if data is a\n",
      " |          DataFrame.\n",
      " |      kind : str\n",
      " |          The kind of plot to produce:\n",
      " |      \n",
      " |          - 'line' : line plot (default)\n",
      " |          - 'bar' : vertical bar plot\n",
      " |          - 'barh' : horizontal bar plot\n",
      " |          - 'hist' : histogram\n",
      " |          - 'box' : boxplot\n",
      " |          - 'kde' : Kernel Density Estimation plot\n",
      " |          - 'density' : same as 'kde'\n",
      " |          - 'area' : area plot\n",
      " |          - 'pie' : pie plot\n",
      " |          - 'scatter' : scatter plot (DataFrame only)\n",
      " |          - 'hexbin' : hexbin plot (DataFrame only)\n",
      " |      ax : matplotlib axes object, default None\n",
      " |          An axes of the current figure.\n",
      " |      subplots : bool or sequence of iterables, default False\n",
      " |          Whether to group columns into subplots:\n",
      " |      \n",
      " |          - ``False`` : No subplots will be used\n",
      " |          - ``True`` : Make separate subplots for each column.\n",
      " |          - sequence of iterables of column labels: Create a subplot for each\n",
      " |            group of columns. For example `[('a', 'c'), ('b', 'd')]` will\n",
      " |            create 2 subplots: one with columns 'a' and 'c', and one\n",
      " |            with columns 'b' and 'd'. Remaining columns that aren't specified\n",
      " |            will be plotted in additional subplots (one per column).\n",
      " |      \n",
      " |            .. versionadded:: 1.5.0\n",
      " |      \n",
      " |      sharex : bool, default True if ax is None else False\n",
      " |          In case ``subplots=True``, share x axis and set some x axis labels\n",
      " |          to invisible; defaults to True if ax is None otherwise False if\n",
      " |          an ax is passed in; Be aware, that passing in both an ax and\n",
      " |          ``sharex=True`` will alter all x axis labels for all axis in a figure.\n",
      " |      sharey : bool, default False\n",
      " |          In case ``subplots=True``, share y axis and set some y axis labels to invisible.\n",
      " |      layout : tuple, optional\n",
      " |          (rows, columns) for the layout of subplots.\n",
      " |      figsize : a tuple (width, height) in inches\n",
      " |          Size of a figure object.\n",
      " |      use_index : bool, default True\n",
      " |          Use index as ticks for x axis.\n",
      " |      title : str or list\n",
      " |          Title to use for the plot. If a string is passed, print the string\n",
      " |          at the top of the figure. If a list is passed and `subplots` is\n",
      " |          True, print each item in the list above the corresponding subplot.\n",
      " |      grid : bool, default None (matlab style default)\n",
      " |          Axis grid lines.\n",
      " |      legend : bool or {'reverse'}\n",
      " |          Place legend on axis subplots.\n",
      " |      style : list or dict\n",
      " |          The matplotlib line style per column.\n",
      " |      logx : bool or 'sym', default False\n",
      " |          Use log scaling or symlog scaling on x axis.\n",
      " |      \n",
      " |      logy : bool or 'sym' default False\n",
      " |          Use log scaling or symlog scaling on y axis.\n",
      " |      \n",
      " |      loglog : bool or 'sym', default False\n",
      " |          Use log scaling or symlog scaling on both x and y axes.\n",
      " |      \n",
      " |      xticks : sequence\n",
      " |          Values to use for the xticks.\n",
      " |      yticks : sequence\n",
      " |          Values to use for the yticks.\n",
      " |      xlim : 2-tuple/list\n",
      " |          Set the x limits of the current axes.\n",
      " |      ylim : 2-tuple/list\n",
      " |          Set the y limits of the current axes.\n",
      " |      xlabel : label, optional\n",
      " |          Name to use for the xlabel on x-axis. Default uses index name as xlabel, or the\n",
      " |          x-column name for planar plots.\n",
      " |      \n",
      " |          .. versionadded:: 1.1.0\n",
      " |      \n",
      " |          .. versionchanged:: 1.2.0\n",
      " |      \n",
      " |             Now applicable to planar plots (`scatter`, `hexbin`).\n",
      " |      \n",
      " |          .. versionchanged:: 2.0.0\n",
      " |      \n",
      " |              Now applicable to histograms.\n",
      " |      \n",
      " |      ylabel : label, optional\n",
      " |          Name to use for the ylabel on y-axis. Default will show no ylabel, or the\n",
      " |          y-column name for planar plots.\n",
      " |      \n",
      " |          .. versionadded:: 1.1.0\n",
      " |      \n",
      " |          .. versionchanged:: 1.2.0\n",
      " |      \n",
      " |             Now applicable to planar plots (`scatter`, `hexbin`).\n",
      " |      \n",
      " |          .. versionchanged:: 2.0.0\n",
      " |      \n",
      " |              Now applicable to histograms.\n",
      " |      \n",
      " |      rot : float, default None\n",
      " |          Rotation for ticks (xticks for vertical, yticks for horizontal\n",
      " |          plots).\n",
      " |      fontsize : float, default None\n",
      " |          Font size for xticks and yticks.\n",
      " |      colormap : str or matplotlib colormap object, default None\n",
      " |          Colormap to select colors from. If string, load colormap with that\n",
      " |          name from matplotlib.\n",
      " |      colorbar : bool, optional\n",
      " |          If True, plot colorbar (only relevant for 'scatter' and 'hexbin'\n",
      " |          plots).\n",
      " |      position : float\n",
      " |          Specify relative alignments for bar plot layout.\n",
      " |          From 0 (left/bottom-end) to 1 (right/top-end). Default is 0.5\n",
      " |          (center).\n",
      " |      table : bool, Series or DataFrame, default False\n",
      " |          If True, draw a table using the data in the DataFrame and the data\n",
      " |          will be transposed to meet matplotlib's default layout.\n",
      " |          If a Series or DataFrame is passed, use passed data to draw a\n",
      " |          table.\n",
      " |      yerr : DataFrame, Series, array-like, dict and str\n",
      " |          See :ref:`Plotting with Error Bars <visualization.errorbars>` for\n",
      " |          detail.\n",
      " |      xerr : DataFrame, Series, array-like, dict and str\n",
      " |          Equivalent to yerr.\n",
      " |      stacked : bool, default False in line and bar plots, and True in area plot\n",
      " |          If True, create stacked plot.\n",
      " |      secondary_y : bool or sequence, default False\n",
      " |          Whether to plot on the secondary y-axis if a list/tuple, which\n",
      " |          columns to plot on secondary y-axis.\n",
      " |      mark_right : bool, default True\n",
      " |          When using a secondary_y axis, automatically mark the column\n",
      " |          labels with \"(right)\" in the legend.\n",
      " |      include_bool : bool, default is False\n",
      " |          If True, boolean values can be plotted.\n",
      " |      backend : str, default None\n",
      " |          Backend to use instead of the backend specified in the option\n",
      " |          ``plotting.backend``. For instance, 'matplotlib'. Alternatively, to\n",
      " |          specify the ``plotting.backend`` for the whole session, set\n",
      " |          ``pd.options.plotting.backend``.\n",
      " |      **kwargs\n",
      " |          Options to pass to matplotlib plotting method.\n",
      " |      \n",
      " |      Returns\n",
      " |      -------\n",
      " |      :class:`matplotlib.axes.Axes` or numpy.ndarray of them\n",
      " |          If the backend is not the default matplotlib one, the return value\n",
      " |          will be the object returned by the backend.\n",
      " |      \n",
      " |      Notes\n",
      " |      -----\n",
      " |      - See matplotlib documentation online for more on this subject\n",
      " |      - If `kind` = 'bar' or 'barh', you can specify relative alignments\n",
      " |        for bar plot layout by `position` keyword.\n",
      " |        From 0 (left/bottom-end) to 1 (right/top-end). Default is 0.5\n",
      " |        (center)\n",
      " |  \n",
      " |  __init__(self, data) -> 'None'\n",
      " |      Initialize self.  See help(type(self)) for accurate signature.\n",
      " |  \n",
      " |  area(self, x=None, y=None, stacked: 'bool' = True, **kwargs) -> 'PlotAccessor'\n",
      " |      Draw a stacked area plot.\n",
      " |      \n",
      " |      An area plot displays quantitative data visually.\n",
      " |      This function wraps the matplotlib area function.\n",
      " |      \n",
      " |      Parameters\n",
      " |      ----------\n",
      " |      x : label or position, optional\n",
      " |          Coordinates for the X axis. By default uses the index.\n",
      " |      y : label or position, optional\n",
      " |          Column to plot. By default uses all columns.\n",
      " |      stacked : bool, default True\n",
      " |          Area plots are stacked by default. Set to False to create a\n",
      " |          unstacked plot.\n",
      " |      **kwargs\n",
      " |          Additional keyword arguments are documented in\n",
      " |          :meth:`DataFrame.plot`.\n",
      " |      \n",
      " |      Returns\n",
      " |      -------\n",
      " |      matplotlib.axes.Axes or numpy.ndarray\n",
      " |          Area plot, or array of area plots if subplots is True.\n",
      " |      \n",
      " |      See Also\n",
      " |      --------\n",
      " |      DataFrame.plot : Make plots of DataFrame using matplotlib / pylab.\n",
      " |      \n",
      " |      Examples\n",
      " |      --------\n",
      " |      Draw an area plot based on basic business metrics:\n",
      " |      \n",
      " |      .. plot::\n",
      " |          :context: close-figs\n",
      " |      \n",
      " |          >>> df = pd.DataFrame({\n",
      " |          ...     'sales': [3, 2, 3, 9, 10, 6],\n",
      " |          ...     'signups': [5, 5, 6, 12, 14, 13],\n",
      " |          ...     'visits': [20, 42, 28, 62, 81, 50],\n",
      " |          ... }, index=pd.date_range(start='2018/01/01', end='2018/07/01',\n",
      " |          ...                        freq='M'))\n",
      " |          >>> ax = df.plot.area()\n",
      " |      \n",
      " |      Area plots are stacked by default. To produce an unstacked plot,\n",
      " |      pass ``stacked=False``:\n",
      " |      \n",
      " |      .. plot::\n",
      " |          :context: close-figs\n",
      " |      \n",
      " |          >>> ax = df.plot.area(stacked=False)\n",
      " |      \n",
      " |      Draw an area plot for a single column:\n",
      " |      \n",
      " |      .. plot::\n",
      " |          :context: close-figs\n",
      " |      \n",
      " |          >>> ax = df.plot.area(y='sales')\n",
      " |      \n",
      " |      Draw with a different `x`:\n",
      " |      \n",
      " |      .. plot::\n",
      " |          :context: close-figs\n",
      " |      \n",
      " |          >>> df = pd.DataFrame({\n",
      " |          ...     'sales': [3, 2, 3],\n",
      " |          ...     'visits': [20, 42, 28],\n",
      " |          ...     'day': [1, 2, 3],\n",
      " |          ... })\n",
      " |          >>> ax = df.plot.area(x='day')\n",
      " |  \n",
      " |  bar(self, x=None, y=None, **kwargs) -> 'PlotAccessor'\n",
      " |      Vertical bar plot.\n",
      " |      \n",
      " |      A bar plot is a plot that presents categorical data with\n",
      " |      rectangular bars with lengths proportional to the values that they\n",
      " |      represent. A bar plot shows comparisons among discrete categories. One\n",
      " |      axis of the plot shows the specific categories being compared, and the\n",
      " |      other axis represents a measured value.\n",
      " |      \n",
      " |      Parameters\n",
      " |      ----------\n",
      " |      x : label or position, optional\n",
      " |          Allows plotting of one column versus another. If not specified,\n",
      " |          the index of the DataFrame is used.\n",
      " |      y : label or position, optional\n",
      " |          Allows plotting of one column versus another. If not specified,\n",
      " |          all numerical columns are used.\n",
      " |      color : str, array-like, or dict, optional\n",
      " |          The color for each of the DataFrame's columns. Possible values are:\n",
      " |      \n",
      " |          - A single color string referred to by name, RGB or RGBA code,\n",
      " |              for instance 'red' or '#a98d19'.\n",
      " |      \n",
      " |          - A sequence of color strings referred to by name, RGB or RGBA\n",
      " |              code, which will be used for each column recursively. For\n",
      " |              instance ['green','yellow'] each column's bar will be filled in\n",
      " |              green or yellow, alternatively. If there is only a single column to\n",
      " |              be plotted, then only the first color from the color list will be\n",
      " |              used.\n",
      " |      \n",
      " |          - A dict of the form {column name : color}, so that each column will be\n",
      " |              colored accordingly. For example, if your columns are called `a` and\n",
      " |              `b`, then passing {'a': 'green', 'b': 'red'} will color bars for\n",
      " |              column `a` in green and bars for column `b` in red.\n",
      " |      \n",
      " |          .. versionadded:: 1.1.0\n",
      " |      \n",
      " |      **kwargs\n",
      " |          Additional keyword arguments are documented in\n",
      " |          :meth:`DataFrame.plot`.\n",
      " |      \n",
      " |      Returns\n",
      " |      -------\n",
      " |      matplotlib.axes.Axes or np.ndarray of them\n",
      " |          An ndarray is returned with one :class:`matplotlib.axes.Axes`\n",
      " |          per column when ``subplots=True``.\n",
      " |      \n",
      " |              See Also\n",
      " |              --------\n",
      " |              DataFrame.plot.barh : Horizontal bar plot.\n",
      " |              DataFrame.plot : Make plots of a DataFrame.\n",
      " |              matplotlib.pyplot.bar : Make a bar plot with matplotlib.\n",
      " |      \n",
      " |              Examples\n",
      " |              --------\n",
      " |              Basic plot.\n",
      " |      \n",
      " |              .. plot::\n",
      " |                  :context: close-figs\n",
      " |      \n",
      " |                  >>> df = pd.DataFrame({'lab':['A', 'B', 'C'], 'val':[10, 30, 20]})\n",
      " |                  >>> ax = df.plot.bar(x='lab', y='val', rot=0)\n",
      " |      \n",
      " |              Plot a whole dataframe to a bar plot. Each column is assigned a\n",
      " |              distinct color, and each row is nested in a group along the\n",
      " |              horizontal axis.\n",
      " |      \n",
      " |              .. plot::\n",
      " |                  :context: close-figs\n",
      " |      \n",
      " |                  >>> speed = [0.1, 17.5, 40, 48, 52, 69, 88]\n",
      " |                  >>> lifespan = [2, 8, 70, 1.5, 25, 12, 28]\n",
      " |                  >>> index = ['snail', 'pig', 'elephant',\n",
      " |                  ...          'rabbit', 'giraffe', 'coyote', 'horse']\n",
      " |                  >>> df = pd.DataFrame({'speed': speed,\n",
      " |                  ...                    'lifespan': lifespan}, index=index)\n",
      " |                  >>> ax = df.plot.bar(rot=0)\n",
      " |      \n",
      " |              Plot stacked bar charts for the DataFrame\n",
      " |      \n",
      " |              .. plot::\n",
      " |                  :context: close-figs\n",
      " |      \n",
      " |                  >>> ax = df.plot.bar(stacked=True)\n",
      " |      \n",
      " |              Instead of nesting, the figure can be split by column with\n",
      " |              ``subplots=True``. In this case, a :class:`numpy.ndarray` of\n",
      " |              :class:`matplotlib.axes.Axes` are returned.\n",
      " |      \n",
      " |              .. plot::\n",
      " |                  :context: close-figs\n",
      " |      \n",
      " |                  >>> axes = df.plot.bar(rot=0, subplots=True)\n",
      " |                  >>> axes[1].legend(loc=2)  # doctest: +SKIP\n",
      " |      \n",
      " |              If you don't like the default colours, you can specify how you'd\n",
      " |              like each column to be colored.\n",
      " |      \n",
      " |              .. plot::\n",
      " |                  :context: close-figs\n",
      " |      \n",
      " |                  >>> axes = df.plot.bar(\n",
      " |                  ...     rot=0, subplots=True, color={\"speed\": \"red\", \"lifespan\": \"green\"}\n",
      " |                  ... )\n",
      " |                  >>> axes[1].legend(loc=2)  # doctest: +SKIP\n",
      " |      \n",
      " |              Plot a single column.\n",
      " |      \n",
      " |              .. plot::\n",
      " |                  :context: close-figs\n",
      " |      \n",
      " |                  >>> ax = df.plot.bar(y='speed', rot=0)\n",
      " |      \n",
      " |              Plot only selected categories for the DataFrame.\n",
      " |      \n",
      " |              .. plot::\n",
      " |                  :context: close-figs\n",
      " |      \n",
      " |                  >>> ax = df.plot.bar(x='lifespan', rot=0)\n",
      " |  \n",
      " |  barh(self, x=None, y=None, **kwargs) -> 'PlotAccessor'\n",
      " |      Make a horizontal bar plot.\n",
      " |      \n",
      " |      A horizontal bar plot is a plot that presents quantitative data with\n",
      " |      rectangular bars with lengths proportional to the values that they\n",
      " |      represent. A bar plot shows comparisons among discrete categories. One\n",
      " |      axis of the plot shows the specific categories being compared, and the\n",
      " |      other axis represents a measured value.\n",
      " |      \n",
      " |      Parameters\n",
      " |      ----------\n",
      " |      x : label or position, optional\n",
      " |          Allows plotting of one column versus another. If not specified,\n",
      " |          the index of the DataFrame is used.\n",
      " |      y : label or position, optional\n",
      " |          Allows plotting of one column versus another. If not specified,\n",
      " |          all numerical columns are used.\n",
      " |      color : str, array-like, or dict, optional\n",
      " |          The color for each of the DataFrame's columns. Possible values are:\n",
      " |      \n",
      " |          - A single color string referred to by name, RGB or RGBA code,\n",
      " |              for instance 'red' or '#a98d19'.\n",
      " |      \n",
      " |          - A sequence of color strings referred to by name, RGB or RGBA\n",
      " |              code, which will be used for each column recursively. For\n",
      " |              instance ['green','yellow'] each column's bar will be filled in\n",
      " |              green or yellow, alternatively. If there is only a single column to\n",
      " |              be plotted, then only the first color from the color list will be\n",
      " |              used.\n",
      " |      \n",
      " |          - A dict of the form {column name : color}, so that each column will be\n",
      " |              colored accordingly. For example, if your columns are called `a` and\n",
      " |              `b`, then passing {'a': 'green', 'b': 'red'} will color bars for\n",
      " |              column `a` in green and bars for column `b` in red.\n",
      " |      \n",
      " |          .. versionadded:: 1.1.0\n",
      " |      \n",
      " |      **kwargs\n",
      " |          Additional keyword arguments are documented in\n",
      " |          :meth:`DataFrame.plot`.\n",
      " |      \n",
      " |      Returns\n",
      " |      -------\n",
      " |      matplotlib.axes.Axes or np.ndarray of them\n",
      " |          An ndarray is returned with one :class:`matplotlib.axes.Axes`\n",
      " |          per column when ``subplots=True``.\n",
      " |      \n",
      " |              See Also\n",
      " |              --------\n",
      " |              DataFrame.plot.bar: Vertical bar plot.\n",
      " |              DataFrame.plot : Make plots of DataFrame using matplotlib.\n",
      " |              matplotlib.axes.Axes.bar : Plot a vertical bar plot using matplotlib.\n",
      " |      \n",
      " |              Examples\n",
      " |              --------\n",
      " |              Basic example\n",
      " |      \n",
      " |              .. plot::\n",
      " |                  :context: close-figs\n",
      " |      \n",
      " |                  >>> df = pd.DataFrame({'lab': ['A', 'B', 'C'], 'val': [10, 30, 20]})\n",
      " |                  >>> ax = df.plot.barh(x='lab', y='val')\n",
      " |      \n",
      " |              Plot a whole DataFrame to a horizontal bar plot\n",
      " |      \n",
      " |              .. plot::\n",
      " |                  :context: close-figs\n",
      " |      \n",
      " |                  >>> speed = [0.1, 17.5, 40, 48, 52, 69, 88]\n",
      " |                  >>> lifespan = [2, 8, 70, 1.5, 25, 12, 28]\n",
      " |                  >>> index = ['snail', 'pig', 'elephant',\n",
      " |                  ...          'rabbit', 'giraffe', 'coyote', 'horse']\n",
      " |                  >>> df = pd.DataFrame({'speed': speed,\n",
      " |                  ...                    'lifespan': lifespan}, index=index)\n",
      " |                  >>> ax = df.plot.barh()\n",
      " |      \n",
      " |              Plot stacked barh charts for the DataFrame\n",
      " |      \n",
      " |              .. plot::\n",
      " |                  :context: close-figs\n",
      " |      \n",
      " |                  >>> ax = df.plot.barh(stacked=True)\n",
      " |      \n",
      " |              We can specify colors for each column\n",
      " |      \n",
      " |              .. plot::\n",
      " |                  :context: close-figs\n",
      " |      \n",
      " |                  >>> ax = df.plot.barh(color={\"speed\": \"red\", \"lifespan\": \"green\"})\n",
      " |      \n",
      " |              Plot a column of the DataFrame to a horizontal bar plot\n",
      " |      \n",
      " |              .. plot::\n",
      " |                  :context: close-figs\n",
      " |      \n",
      " |                  >>> speed = [0.1, 17.5, 40, 48, 52, 69, 88]\n",
      " |                  >>> lifespan = [2, 8, 70, 1.5, 25, 12, 28]\n",
      " |                  >>> index = ['snail', 'pig', 'elephant',\n",
      " |                  ...          'rabbit', 'giraffe', 'coyote', 'horse']\n",
      " |                  >>> df = pd.DataFrame({'speed': speed,\n",
      " |                  ...                    'lifespan': lifespan}, index=index)\n",
      " |                  >>> ax = df.plot.barh(y='speed')\n",
      " |      \n",
      " |              Plot DataFrame versus the desired column\n",
      " |      \n",
      " |              .. plot::\n",
      " |                  :context: close-figs\n",
      " |      \n",
      " |                  >>> speed = [0.1, 17.5, 40, 48, 52, 69, 88]\n",
      " |                  >>> lifespan = [2, 8, 70, 1.5, 25, 12, 28]\n",
      " |                  >>> index = ['snail', 'pig', 'elephant',\n",
      " |                  ...          'rabbit', 'giraffe', 'coyote', 'horse']\n",
      " |                  >>> df = pd.DataFrame({'speed': speed,\n",
      " |                  ...                    'lifespan': lifespan}, index=index)\n",
      " |                  >>> ax = df.plot.barh(x='lifespan')\n",
      " |  \n",
      " |  box(self, by=None, **kwargs) -> 'PlotAccessor'\n",
      " |      Make a box plot of the DataFrame columns.\n",
      " |      \n",
      " |      A box plot is a method for graphically depicting groups of numerical\n",
      " |      data through their quartiles.\n",
      " |      The box extends from the Q1 to Q3 quartile values of the data,\n",
      " |      with a line at the median (Q2). The whiskers extend from the edges\n",
      " |      of box to show the range of the data. The position of the whiskers\n",
      " |      is set by default to 1.5*IQR (IQR = Q3 - Q1) from the edges of the\n",
      " |      box. Outlier points are those past the end of the whiskers.\n",
      " |      \n",
      " |      For further details see Wikipedia's\n",
      " |      entry for `boxplot <https://en.wikipedia.org/wiki/Box_plot>`__.\n",
      " |      \n",
      " |      A consideration when using this chart is that the box and the whiskers\n",
      " |      can overlap, which is very common when plotting small sets of data.\n",
      " |      \n",
      " |      Parameters\n",
      " |      ----------\n",
      " |      by : str or sequence\n",
      " |          Column in the DataFrame to group by.\n",
      " |      \n",
      " |          .. versionchanged:: 1.4.0\n",
      " |      \n",
      " |             Previously, `by` is silently ignore and makes no groupings\n",
      " |      \n",
      " |      **kwargs\n",
      " |          Additional keywords are documented in\n",
      " |          :meth:`DataFrame.plot`.\n",
      " |      \n",
      " |      Returns\n",
      " |      -------\n",
      " |      :class:`matplotlib.axes.Axes` or numpy.ndarray of them\n",
      " |      \n",
      " |      See Also\n",
      " |      --------\n",
      " |      DataFrame.boxplot: Another method to draw a box plot.\n",
      " |      Series.plot.box: Draw a box plot from a Series object.\n",
      " |      matplotlib.pyplot.boxplot: Draw a box plot in matplotlib.\n",
      " |      \n",
      " |      Examples\n",
      " |      --------\n",
      " |      Draw a box plot from a DataFrame with four columns of randomly\n",
      " |      generated data.\n",
      " |      \n",
      " |      .. plot::\n",
      " |          :context: close-figs\n",
      " |      \n",
      " |          >>> data = np.random.randn(25, 4)\n",
      " |          >>> df = pd.DataFrame(data, columns=list('ABCD'))\n",
      " |          >>> ax = df.plot.box()\n",
      " |      \n",
      " |      You can also generate groupings if you specify the `by` parameter (which\n",
      " |      can take a column name, or a list or tuple of column names):\n",
      " |      \n",
      " |      .. versionchanged:: 1.4.0\n",
      " |      \n",
      " |      .. plot::\n",
      " |          :context: close-figs\n",
      " |      \n",
      " |          >>> age_list = [8, 10, 12, 14, 72, 74, 76, 78, 20, 25, 30, 35, 60, 85]\n",
      " |          >>> df = pd.DataFrame({\"gender\": list(\"MMMMMMMMFFFFFF\"), \"age\": age_list})\n",
      " |          >>> ax = df.plot.box(column=\"age\", by=\"gender\", figsize=(10, 8))\n",
      " |  \n",
      " |  density = kde(self, bw_method=None, ind=None, **kwargs) -> 'PlotAccessor'\n",
      " |  \n",
      " |  hexbin(self, x, y, C=None, reduce_C_function=None, gridsize=None, **kwargs) -> 'PlotAccessor'\n",
      " |      Generate a hexagonal binning plot.\n",
      " |      \n",
      " |      Generate a hexagonal binning plot of `x` versus `y`. If `C` is `None`\n",
      " |      (the default), this is a histogram of the number of occurrences\n",
      " |      of the observations at ``(x[i], y[i])``.\n",
      " |      \n",
      " |      If `C` is specified, specifies values at given coordinates\n",
      " |      ``(x[i], y[i])``. These values are accumulated for each hexagonal\n",
      " |      bin and then reduced according to `reduce_C_function`,\n",
      " |      having as default the NumPy's mean function (:meth:`numpy.mean`).\n",
      " |      (If `C` is specified, it must also be a 1-D sequence\n",
      " |      of the same length as `x` and `y`, or a column label.)\n",
      " |      \n",
      " |      Parameters\n",
      " |      ----------\n",
      " |      x : int or str\n",
      " |          The column label or position for x points.\n",
      " |      y : int or str\n",
      " |          The column label or position for y points.\n",
      " |      C : int or str, optional\n",
      " |          The column label or position for the value of `(x, y)` point.\n",
      " |      reduce_C_function : callable, default `np.mean`\n",
      " |          Function of one argument that reduces all the values in a bin to\n",
      " |          a single number (e.g. `np.mean`, `np.max`, `np.sum`, `np.std`).\n",
      " |      gridsize : int or tuple of (int, int), default 100\n",
      " |          The number of hexagons in the x-direction.\n",
      " |          The corresponding number of hexagons in the y-direction is\n",
      " |          chosen in a way that the hexagons are approximately regular.\n",
      " |          Alternatively, gridsize can be a tuple with two elements\n",
      " |          specifying the number of hexagons in the x-direction and the\n",
      " |          y-direction.\n",
      " |      **kwargs\n",
      " |          Additional keyword arguments are documented in\n",
      " |          :meth:`DataFrame.plot`.\n",
      " |      \n",
      " |      Returns\n",
      " |      -------\n",
      " |      matplotlib.AxesSubplot\n",
      " |          The matplotlib ``Axes`` on which the hexbin is plotted.\n",
      " |      \n",
      " |      See Also\n",
      " |      --------\n",
      " |      DataFrame.plot : Make plots of a DataFrame.\n",
      " |      matplotlib.pyplot.hexbin : Hexagonal binning plot using matplotlib,\n",
      " |          the matplotlib function that is used under the hood.\n",
      " |      \n",
      " |      Examples\n",
      " |      --------\n",
      " |      The following examples are generated with random data from\n",
      " |      a normal distribution.\n",
      " |      \n",
      " |      .. plot::\n",
      " |          :context: close-figs\n",
      " |      \n",
      " |          >>> n = 10000\n",
      " |          >>> df = pd.DataFrame({'x': np.random.randn(n),\n",
      " |          ...                    'y': np.random.randn(n)})\n",
      " |          >>> ax = df.plot.hexbin(x='x', y='y', gridsize=20)\n",
      " |      \n",
      " |      The next example uses `C` and `np.sum` as `reduce_C_function`.\n",
      " |      Note that `'observations'` values ranges from 1 to 5 but the result\n",
      " |      plot shows values up to more than 25. This is because of the\n",
      " |      `reduce_C_function`.\n",
      " |      \n",
      " |      .. plot::\n",
      " |          :context: close-figs\n",
      " |      \n",
      " |          >>> n = 500\n",
      " |          >>> df = pd.DataFrame({\n",
      " |          ...     'coord_x': np.random.uniform(-3, 3, size=n),\n",
      " |          ...     'coord_y': np.random.uniform(30, 50, size=n),\n",
      " |          ...     'observations': np.random.randint(1,5, size=n)\n",
      " |          ...     })\n",
      " |          >>> ax = df.plot.hexbin(x='coord_x',\n",
      " |          ...                     y='coord_y',\n",
      " |          ...                     C='observations',\n",
      " |          ...                     reduce_C_function=np.sum,\n",
      " |          ...                     gridsize=10,\n",
      " |          ...                     cmap=\"viridis\")\n",
      " |  \n",
      " |  hist(self, by=None, bins: 'int' = 10, **kwargs) -> 'PlotAccessor'\n",
      " |      Draw one histogram of the DataFrame's columns.\n",
      " |      \n",
      " |      A histogram is a representation of the distribution of data.\n",
      " |      This function groups the values of all given Series in the DataFrame\n",
      " |      into bins and draws all bins in one :class:`matplotlib.axes.Axes`.\n",
      " |      This is useful when the DataFrame's Series are in a similar scale.\n",
      " |      \n",
      " |      Parameters\n",
      " |      ----------\n",
      " |      by : str or sequence, optional\n",
      " |          Column in the DataFrame to group by.\n",
      " |      \n",
      " |          .. versionchanged:: 1.4.0\n",
      " |      \n",
      " |             Previously, `by` is silently ignore and makes no groupings\n",
      " |      \n",
      " |      bins : int, default 10\n",
      " |          Number of histogram bins to be used.\n",
      " |      **kwargs\n",
      " |          Additional keyword arguments are documented in\n",
      " |          :meth:`DataFrame.plot`.\n",
      " |      \n",
      " |      Returns\n",
      " |      -------\n",
      " |      class:`matplotlib.AxesSubplot`\n",
      " |          Return a histogram plot.\n",
      " |      \n",
      " |      See Also\n",
      " |      --------\n",
      " |      DataFrame.hist : Draw histograms per DataFrame's Series.\n",
      " |      Series.hist : Draw a histogram with Series' data.\n",
      " |      \n",
      " |      Examples\n",
      " |      --------\n",
      " |      When we roll a die 6000 times, we expect to get each value around 1000\n",
      " |      times. But when we roll two dice and sum the result, the distribution\n",
      " |      is going to be quite different. A histogram illustrates those\n",
      " |      distributions.\n",
      " |      \n",
      " |      .. plot::\n",
      " |          :context: close-figs\n",
      " |      \n",
      " |          >>> df = pd.DataFrame(\n",
      " |          ...     np.random.randint(1, 7, 6000),\n",
      " |          ...     columns = ['one'])\n",
      " |          >>> df['two'] = df['one'] + np.random.randint(1, 7, 6000)\n",
      " |          >>> ax = df.plot.hist(bins=12, alpha=0.5)\n",
      " |      \n",
      " |      A grouped histogram can be generated by providing the parameter `by` (which\n",
      " |      can be a column name, or a list of column names):\n",
      " |      \n",
      " |      .. plot::\n",
      " |          :context: close-figs\n",
      " |      \n",
      " |          >>> age_list = [8, 10, 12, 14, 72, 74, 76, 78, 20, 25, 30, 35, 60, 85]\n",
      " |          >>> df = pd.DataFrame({\"gender\": list(\"MMMMMMMMFFFFFF\"), \"age\": age_list})\n",
      " |          >>> ax = df.plot.hist(column=[\"age\"], by=\"gender\", figsize=(10, 8))\n",
      " |  \n",
      " |  kde(self, bw_method=None, ind=None, **kwargs) -> 'PlotAccessor'\n",
      " |      Generate Kernel Density Estimate plot using Gaussian kernels.\n",
      " |      \n",
      " |      In statistics, `kernel density estimation`_ (KDE) is a non-parametric\n",
      " |      way to estimate the probability density function (PDF) of a random\n",
      " |      variable. This function uses Gaussian kernels and includes automatic\n",
      " |      bandwidth determination.\n",
      " |      \n",
      " |      .. _kernel density estimation:\n",
      " |          https://en.wikipedia.org/wiki/Kernel_density_estimation\n",
      " |      \n",
      " |      Parameters\n",
      " |      ----------\n",
      " |      bw_method : str, scalar or callable, optional\n",
      " |          The method used to calculate the estimator bandwidth. This can be\n",
      " |          'scott', 'silverman', a scalar constant or a callable.\n",
      " |          If None (default), 'scott' is used.\n",
      " |          See :class:`scipy.stats.gaussian_kde` for more information.\n",
      " |      ind : NumPy array or int, optional\n",
      " |          Evaluation points for the estimated PDF. If None (default),\n",
      " |          1000 equally spaced points are used. If `ind` is a NumPy array, the\n",
      " |          KDE is evaluated at the points passed. If `ind` is an integer,\n",
      " |          `ind` number of equally spaced points are used.\n",
      " |      **kwargs\n",
      " |          Additional keyword arguments are documented in\n",
      " |          :meth:`DataFrame.plot`.\n",
      " |      \n",
      " |      Returns\n",
      " |      -------\n",
      " |      matplotlib.axes.Axes or numpy.ndarray of them\n",
      " |      \n",
      " |      See Also\n",
      " |      --------\n",
      " |      scipy.stats.gaussian_kde : Representation of a kernel-density\n",
      " |          estimate using Gaussian kernels. This is the function used\n",
      " |          internally to estimate the PDF.\n",
      " |      \n",
      " |      Examples\n",
      " |      --------\n",
      " |      Given a Series of points randomly sampled from an unknown\n",
      " |      distribution, estimate its PDF using KDE with automatic\n",
      " |      bandwidth determination and plot the results, evaluating them at\n",
      " |      1000 equally spaced points (default):\n",
      " |      \n",
      " |      .. plot::\n",
      " |          :context: close-figs\n",
      " |      \n",
      " |          >>> s = pd.Series([1, 2, 2.5, 3, 3.5, 4, 5])\n",
      " |          >>> ax = s.plot.kde()\n",
      " |      \n",
      " |      A scalar bandwidth can be specified. Using a small bandwidth value can\n",
      " |      lead to over-fitting, while using a large bandwidth value may result\n",
      " |      in under-fitting:\n",
      " |      \n",
      " |      .. plot::\n",
      " |          :context: close-figs\n",
      " |      \n",
      " |          >>> ax = s.plot.kde(bw_method=0.3)\n",
      " |      \n",
      " |      .. plot::\n",
      " |          :context: close-figs\n",
      " |      \n",
      " |          >>> ax = s.plot.kde(bw_method=3)\n",
      " |      \n",
      " |      Finally, the `ind` parameter determines the evaluation points for the\n",
      " |      plot of the estimated PDF:\n",
      " |      \n",
      " |      .. plot::\n",
      " |          :context: close-figs\n",
      " |      \n",
      " |          >>> ax = s.plot.kde(ind=[1, 2, 3, 4, 5])\n",
      " |      \n",
      " |      For DataFrame, it works in the same way:\n",
      " |      \n",
      " |      .. plot::\n",
      " |          :context: close-figs\n",
      " |      \n",
      " |          >>> df = pd.DataFrame({\n",
      " |          ...     'x': [1, 2, 2.5, 3, 3.5, 4, 5],\n",
      " |          ...     'y': [4, 4, 4.5, 5, 5.5, 6, 6],\n",
      " |          ... })\n",
      " |          >>> ax = df.plot.kde()\n",
      " |      \n",
      " |      A scalar bandwidth can be specified. Using a small bandwidth value can\n",
      " |      lead to over-fitting, while using a large bandwidth value may result\n",
      " |      in under-fitting:\n",
      " |      \n",
      " |      .. plot::\n",
      " |          :context: close-figs\n",
      " |      \n",
      " |          >>> ax = df.plot.kde(bw_method=0.3)\n",
      " |      \n",
      " |      .. plot::\n",
      " |          :context: close-figs\n",
      " |      \n",
      " |          >>> ax = df.plot.kde(bw_method=3)\n",
      " |      \n",
      " |      Finally, the `ind` parameter determines the evaluation points for the\n",
      " |      plot of the estimated PDF:\n",
      " |      \n",
      " |      .. plot::\n",
      " |          :context: close-figs\n",
      " |      \n",
      " |          >>> ax = df.plot.kde(ind=[1, 2, 3, 4, 5, 6])\n",
      " |  \n",
      " |  line(self, x=None, y=None, **kwargs) -> 'PlotAccessor'\n",
      " |      Plot Series or DataFrame as lines.\n",
      " |      \n",
      " |      This function is useful to plot lines using DataFrame's values\n",
      " |      as coordinates.\n",
      " |      \n",
      " |      Parameters\n",
      " |      ----------\n",
      " |      x : label or position, optional\n",
      " |          Allows plotting of one column versus another. If not specified,\n",
      " |          the index of the DataFrame is used.\n",
      " |      y : label or position, optional\n",
      " |          Allows plotting of one column versus another. If not specified,\n",
      " |          all numerical columns are used.\n",
      " |      color : str, array-like, or dict, optional\n",
      " |          The color for each of the DataFrame's columns. Possible values are:\n",
      " |      \n",
      " |          - A single color string referred to by name, RGB or RGBA code,\n",
      " |              for instance 'red' or '#a98d19'.\n",
      " |      \n",
      " |          - A sequence of color strings referred to by name, RGB or RGBA\n",
      " |              code, which will be used for each column recursively. For\n",
      " |              instance ['green','yellow'] each column's line will be filled in\n",
      " |              green or yellow, alternatively. If there is only a single column to\n",
      " |              be plotted, then only the first color from the color list will be\n",
      " |              used.\n",
      " |      \n",
      " |          - A dict of the form {column name : color}, so that each column will be\n",
      " |              colored accordingly. For example, if your columns are called `a` and\n",
      " |              `b`, then passing {'a': 'green', 'b': 'red'} will color lines for\n",
      " |              column `a` in green and lines for column `b` in red.\n",
      " |      \n",
      " |          .. versionadded:: 1.1.0\n",
      " |      \n",
      " |      **kwargs\n",
      " |          Additional keyword arguments are documented in\n",
      " |          :meth:`DataFrame.plot`.\n",
      " |      \n",
      " |      Returns\n",
      " |      -------\n",
      " |      matplotlib.axes.Axes or np.ndarray of them\n",
      " |          An ndarray is returned with one :class:`matplotlib.axes.Axes`\n",
      " |          per column when ``subplots=True``.\n",
      " |      \n",
      " |              See Also\n",
      " |              --------\n",
      " |              matplotlib.pyplot.plot : Plot y versus x as lines and/or markers.\n",
      " |      \n",
      " |              Examples\n",
      " |              --------\n",
      " |      \n",
      " |              .. plot::\n",
      " |                  :context: close-figs\n",
      " |      \n",
      " |                  >>> s = pd.Series([1, 3, 2])\n",
      " |                  >>> s.plot.line()\n",
      " |                  <AxesSubplot: ylabel='Density'>\n",
      " |      \n",
      " |              .. plot::\n",
      " |                  :context: close-figs\n",
      " |      \n",
      " |                  The following example shows the populations for some animals\n",
      " |                  over the years.\n",
      " |      \n",
      " |                  >>> df = pd.DataFrame({\n",
      " |                  ...    'pig': [20, 18, 489, 675, 1776],\n",
      " |                  ...    'horse': [4, 25, 281, 600, 1900]\n",
      " |                  ...    }, index=[1990, 1997, 2003, 2009, 2014])\n",
      " |                  >>> lines = df.plot.line()\n",
      " |      \n",
      " |              .. plot::\n",
      " |                 :context: close-figs\n",
      " |      \n",
      " |                 An example with subplots, so an array of axes is returned.\n",
      " |      \n",
      " |                 >>> axes = df.plot.line(subplots=True)\n",
      " |                 >>> type(axes)\n",
      " |                 <class 'numpy.ndarray'>\n",
      " |      \n",
      " |              .. plot::\n",
      " |                 :context: close-figs\n",
      " |      \n",
      " |                 Let's repeat the same example, but specifying colors for\n",
      " |                 each column (in this case, for each animal).\n",
      " |      \n",
      " |                 >>> axes = df.plot.line(\n",
      " |                 ...     subplots=True, color={\"pig\": \"pink\", \"horse\": \"#742802\"}\n",
      " |                 ... )\n",
      " |      \n",
      " |              .. plot::\n",
      " |                  :context: close-figs\n",
      " |      \n",
      " |                  The following example shows the relationship between both\n",
      " |                  populations.\n",
      " |      \n",
      " |                  >>> lines = df.plot.line(x='pig', y='horse')\n",
      " |  \n",
      " |  pie(self, **kwargs) -> 'PlotAccessor'\n",
      " |      Generate a pie plot.\n",
      " |      \n",
      " |      A pie plot is a proportional representation of the numerical data in a\n",
      " |      column. This function wraps :meth:`matplotlib.pyplot.pie` for the\n",
      " |      specified column. If no column reference is passed and\n",
      " |      ``subplots=True`` a pie plot is drawn for each numerical column\n",
      " |      independently.\n",
      " |      \n",
      " |      Parameters\n",
      " |      ----------\n",
      " |      y : int or label, optional\n",
      " |          Label or position of the column to plot.\n",
      " |          If not provided, ``subplots=True`` argument must be passed.\n",
      " |      **kwargs\n",
      " |          Keyword arguments to pass on to :meth:`DataFrame.plot`.\n",
      " |      \n",
      " |      Returns\n",
      " |      -------\n",
      " |      matplotlib.axes.Axes or np.ndarray of them\n",
      " |          A NumPy array is returned when `subplots` is True.\n",
      " |      \n",
      " |      See Also\n",
      " |      --------\n",
      " |      Series.plot.pie : Generate a pie plot for a Series.\n",
      " |      DataFrame.plot : Make plots of a DataFrame.\n",
      " |      \n",
      " |      Examples\n",
      " |      --------\n",
      " |      In the example below we have a DataFrame with the information about\n",
      " |      planet's mass and radius. We pass the 'mass' column to the\n",
      " |      pie function to get a pie plot.\n",
      " |      \n",
      " |      .. plot::\n",
      " |          :context: close-figs\n",
      " |      \n",
      " |          >>> df = pd.DataFrame({'mass': [0.330, 4.87 , 5.97],\n",
      " |          ...                    'radius': [2439.7, 6051.8, 6378.1]},\n",
      " |          ...                   index=['Mercury', 'Venus', 'Earth'])\n",
      " |          >>> plot = df.plot.pie(y='mass', figsize=(5, 5))\n",
      " |      \n",
      " |      .. plot::\n",
      " |          :context: close-figs\n",
      " |      \n",
      " |          >>> plot = df.plot.pie(subplots=True, figsize=(11, 6))\n",
      " |  \n",
      " |  scatter(self, x, y, s=None, c=None, **kwargs) -> 'PlotAccessor'\n",
      " |      Create a scatter plot with varying marker point size and color.\n",
      " |      \n",
      " |      The coordinates of each point are defined by two dataframe columns and\n",
      " |      filled circles are used to represent each point. This kind of plot is\n",
      " |      useful to see complex correlations between two variables. Points could\n",
      " |      be for instance natural 2D coordinates like longitude and latitude in\n",
      " |      a map or, in general, any pair of metrics that can be plotted against\n",
      " |      each other.\n",
      " |      \n",
      " |      Parameters\n",
      " |      ----------\n",
      " |      x : int or str\n",
      " |          The column name or column position to be used as horizontal\n",
      " |          coordinates for each point.\n",
      " |      y : int or str\n",
      " |          The column name or column position to be used as vertical\n",
      " |          coordinates for each point.\n",
      " |      s : str, scalar or array-like, optional\n",
      " |          The size of each point. Possible values are:\n",
      " |      \n",
      " |          - A string with the name of the column to be used for marker's size.\n",
      " |      \n",
      " |          - A single scalar so all points have the same size.\n",
      " |      \n",
      " |          - A sequence of scalars, which will be used for each point's size\n",
      " |            recursively. For instance, when passing [2,14] all points size\n",
      " |            will be either 2 or 14, alternatively.\n",
      " |      \n",
      " |            .. versionchanged:: 1.1.0\n",
      " |      \n",
      " |      c : str, int or array-like, optional\n",
      " |          The color of each point. Possible values are:\n",
      " |      \n",
      " |          - A single color string referred to by name, RGB or RGBA code,\n",
      " |            for instance 'red' or '#a98d19'.\n",
      " |      \n",
      " |          - A sequence of color strings referred to by name, RGB or RGBA\n",
      " |            code, which will be used for each point's color recursively. For\n",
      " |            instance ['green','yellow'] all points will be filled in green or\n",
      " |            yellow, alternatively.\n",
      " |      \n",
      " |          - A column name or position whose values will be used to color the\n",
      " |            marker points according to a colormap.\n",
      " |      \n",
      " |      **kwargs\n",
      " |          Keyword arguments to pass on to :meth:`DataFrame.plot`.\n",
      " |      \n",
      " |      Returns\n",
      " |      -------\n",
      " |      :class:`matplotlib.axes.Axes` or numpy.ndarray of them\n",
      " |      \n",
      " |      See Also\n",
      " |      --------\n",
      " |      matplotlib.pyplot.scatter : Scatter plot using multiple input data\n",
      " |          formats.\n",
      " |      \n",
      " |      Examples\n",
      " |      --------\n",
      " |      Let's see how to draw a scatter plot using coordinates from the values\n",
      " |      in a DataFrame's columns.\n",
      " |      \n",
      " |      .. plot::\n",
      " |          :context: close-figs\n",
      " |      \n",
      " |          >>> df = pd.DataFrame([[5.1, 3.5, 0], [4.9, 3.0, 0], [7.0, 3.2, 1],\n",
      " |          ...                    [6.4, 3.2, 1], [5.9, 3.0, 2]],\n",
      " |          ...                   columns=['length', 'width', 'species'])\n",
      " |          >>> ax1 = df.plot.scatter(x='length',\n",
      " |          ...                       y='width',\n",
      " |          ...                       c='DarkBlue')\n",
      " |      \n",
      " |      And now with the color determined by a column as well.\n",
      " |      \n",
      " |      .. plot::\n",
      " |          :context: close-figs\n",
      " |      \n",
      " |          >>> ax2 = df.plot.scatter(x='length',\n",
      " |          ...                       y='width',\n",
      " |          ...                       c='species',\n",
      " |          ...                       colormap='viridis')\n",
      " |  \n",
      " |  ----------------------------------------------------------------------\n",
      " |  Data and other attributes defined here:\n",
      " |  \n",
      " |  __annotations__ = {}\n",
      " |  \n",
      " |  ----------------------------------------------------------------------\n",
      " |  Methods inherited from pandas.core.base.PandasObject:\n",
      " |  \n",
      " |  __repr__(self) -> 'str'\n",
      " |      Return a string representation for a particular object.\n",
      " |  \n",
      " |  __sizeof__(self) -> 'int'\n",
      " |      Generates the total memory usage for an object that returns\n",
      " |      either a value or Series of values\n",
      " |  \n",
      " |  ----------------------------------------------------------------------\n",
      " |  Methods inherited from pandas.core.accessor.DirNamesMixin:\n",
      " |  \n",
      " |  __dir__(self) -> 'list[str]'\n",
      " |      Provide method name lookup and completion.\n",
      " |      \n",
      " |      Notes\n",
      " |      -----\n",
      " |      Only provide 'public' methods.\n",
      " |  \n",
      " |  ----------------------------------------------------------------------\n",
      " |  Data descriptors inherited from pandas.core.accessor.DirNamesMixin:\n",
      " |  \n",
      " |  __dict__\n",
      " |      dictionary for instance variables (if defined)\n",
      " |  \n",
      " |  __weakref__\n",
      " |      list of weak references to the object (if defined)\n",
      "\n"
     ]
    }
   ],
   "source": [
    "help(s.plot)"
   ]
  },
  {
   "cell_type": "code",
   "execution_count": 53,
   "id": "f21fbefd",
   "metadata": {},
   "outputs": [
    {
     "data": {
      "text/plain": [
       "<Axes: title={'center': 'My amazing plot'}>"
      ]
     },
     "execution_count": 53,
     "metadata": {},
     "output_type": "execute_result"
    },
    {
     "data": {
      "image/png": "[encoded data removed]",
      "text/plain": [
       "<Figure size 500x500 with 1 Axes>"
      ]
     },
     "metadata": {},
     "output_type": "display_data"
    }
   ],
   "source": [
    "s.index = 'Wed Thu Fri Sat Sun Mon Tue Wed Thu Fri Sat'.split()\n",
    "\n",
    "s.plot.line(title='My amazing plot',\n",
    "            style='--^',\n",
    "           color='#12ab34',\n",
    "           legend=True,\n",
    "           figsize=(5, 5),\n",
    "           grid=True)"
   ]
  },
  {
   "cell_type": "markdown",
   "id": "4fb3f3d4",
   "metadata": {},
   "source": [
    "# Exercise: High temps\n",
    "\n",
    "1. Recreate what I did!\n",
    "2. Create a series with the 10 predicted high temps for your city in the next 10 days.\n",
    "3. Make the index the names of the days.\n",
    "4. Create a line plot with a title, and choose the color."
   ]
  },
  {
   "cell_type": "code",
   "execution_count": 56,
   "id": "0ed748ad",
   "metadata": {},
   "outputs": [
    {
     "data": {
      "text/plain": [
       "<Axes: title={'center': 'My amazing plot'}>"
      ]
     },
     "execution_count": 56,
     "metadata": {},
     "output_type": "execute_result"
    },
    {
     "data": {
      "image/png": "[encoded data removed]",
      "text/plain": [
       "<Figure size 640x480 with 1 Axes>"
      ]
     },
     "metadata": {},
     "output_type": "display_data"
    }
   ],
   "source": [
    "s = Series([22, 21, 29, 25, 29, 28, 18, 16, 17, 20, 20],\n",
    "           index = 'Wed Thu Fri Sat Sun Mon Tue Wed Thu Fri Sat'.split(),\n",
    "          name='10-day high temp forecast')\n",
    "\n",
    "s.plot.line(title='My amazing plot',\n",
    "           color='#12ab34',\n",
    "           legend=True)"
   ]
  },
  {
   "cell_type": "markdown",
   "id": "18baebf5",
   "metadata": {},
   "source": [
    "# Bar plots\n",
    "\n",
    "In a line plot, we have each of the data points, and they are connected by lines.\n",
    "\n",
    "Sometimes, we want to see the individual data points as bars.  That's typically if we want to see the values, and they aren't necessarily connected to one another.\n",
    "\n",
    "Imagine, for example, looking at 10 prices from the latest stock-market report -- you don't want to draw a line between the price of IBM and Apple and Amazon. You just want to see the bars with their stocks.\n",
    "\n",
    "For that, we have two plotting methods in Pandas:\n",
    "\n",
    "- `bar` (which makes bar plots)\n",
    "- `barh` (which makes horizontal bar plots)\n",
    "\n",
    "Let's look at these with our temperatures."
   ]
  },
  {
   "cell_type": "code",
   "execution_count": 57,
   "id": "4ce77419",
   "metadata": {},
   "outputs": [
    {
     "data": {
      "text/plain": [
       "<Axes: >"
      ]
     },
     "execution_count": 57,
     "metadata": {},
     "output_type": "execute_result"
    },
    {
     "data": {
      "image/png": "[encoded data removed]",
      "text/plain": [
       "<Figure size 640x480 with 1 Axes>"
      ]
     },
     "metadata": {},
     "output_type": "display_data"
    }
   ],
   "source": [
    "s.plot.bar()"
   ]
  },
  {
   "cell_type": "markdown",
   "id": "e587f766",
   "metadata": {},
   "source": [
    "# How is this different from a line plot?\n",
    "\n",
    "(Besides being a different type of plot...)\n",
    "\n",
    "1. We get one bar per data point\n",
    "2. Each bar has an index label. It can get crowded when we have a bar plot with too many data points.\n",
    "3. Each bar starts at 0."
   ]
  },
  {
   "cell_type": "code",
   "execution_count": 58,
   "id": "a8270645",
   "metadata": {},
   "outputs": [
    {
     "data": {
      "text/plain": [
       "<Axes: >"
      ]
     },
     "execution_count": 58,
     "metadata": {},
     "output_type": "execute_result"
    },
    {
     "data": {
      "image/png": "[encoded data removed]",
      "text/plain": [
       "<Figure size 640x480 with 1 Axes>"
      ]
     },
     "metadata": {},
     "output_type": "display_data"
    }
   ],
   "source": [
    "s.plot.barh()"
   ]
  },
  {
   "cell_type": "markdown",
   "id": "82da06dc",
   "metadata": {},
   "source": [
    "# Why do this?\n",
    "\n",
    "1. So you don't have to turn your head 90 degrees.\n",
    "2. Some things are more amenable to this kind of plot.\n",
    "3. Remember that the 0 point in a barh plot is at the bottom!  So if you have dates (e.g., months), then January will start at the bottom, and December will be at the top!"
   ]
  },
  {
   "cell_type": "code",
   "execution_count": 61,
   "id": "40055635",
   "metadata": {},
   "outputs": [
    {
     "data": {
      "text/plain": [
       "<Axes: title={'center': 'My amazing plot'}>"
      ]
     },
     "execution_count": 61,
     "metadata": {},
     "output_type": "execute_result"
    },
    {
     "data": {
      "image/png": "[encoded data removed]",
      "text/plain": [
       "<Figure size 640x480 with 1 Axes>"
      ]
     },
     "metadata": {},
     "output_type": "display_data"
    }
   ],
   "source": [
    "s.plot.bar(title='My amazing plot',\n",
    "          legend=True,\n",
    "          color='#abcdef')"
   ]
  },
  {
   "cell_type": "code",
   "execution_count": 63,
   "id": "3d471c02",
   "metadata": {},
   "outputs": [
    {
     "data": {
      "text/plain": [
       "<Axes: >"
      ]
     },
     "execution_count": 63,
     "metadata": {},
     "output_type": "execute_result"
    },
    {
     "data": {
      "image/png": "[encoded data removed]",
      "text/plain": [
       "<Figure size 640x480 with 1 Axes>"
      ]
     },
     "metadata": {},
     "output_type": "display_data"
    }
   ],
   "source": [
    "s.iloc[3] = -10\n",
    "\n",
    "s.plot.bar(grid=True)"
   ]
  },
  {
   "cell_type": "markdown",
   "id": "cec0995d",
   "metadata": {},
   "source": [
    "# Exercise: Stock prices\n",
    "\n",
    "1. Go to your favorite finance site (I often use `finance.yahoo.com`), and get the prices for some famous, big companies (or not-famous small companies) and create a series with them. The index should be the stock symbol and the value should be their closing price from Tuesday.\n",
    "2. Create a bar plot showing these prices."
   ]
  },
  {
   "cell_type": "code",
   "execution_count": 65,
   "id": "50cfa658",
   "metadata": {},
   "outputs": [],
   "source": [
    "s = Series([192.58, 214.72, 105.12, 165.63],\n",
    "          index='TSLA META GOOG APPL'.split())"
   ]
  },
  {
   "cell_type": "code",
   "execution_count": 66,
   "id": "79d86369",
   "metadata": {},
   "outputs": [
    {
     "data": {
      "text/plain": [
       "<Axes: >"
      ]
     },
     "execution_count": 66,
     "metadata": {},
     "output_type": "execute_result"
    },
    {
     "data": {
      "image/png": "[encoded data removed]",
      "text/plain": [
       "<Figure size 640x480 with 1 Axes>"
      ]
     },
     "metadata": {},
     "output_type": "display_data"
    }
   ],
   "source": [
    "s.plot.bar()"
   ]
  },
  {
   "cell_type": "code",
   "execution_count": 67,
   "id": "39807cac",
   "metadata": {},
   "outputs": [
    {
     "data": {
      "text/plain": [
       "<Axes: >"
      ]
     },
     "execution_count": 67,
     "metadata": {},
     "output_type": "execute_result"
    },
    {
     "data": {
      "image/png": "[encoded data removed]",
      "text/plain": [
       "<Figure size 640x480 with 1 Axes>"
      ]
     },
     "metadata": {},
     "output_type": "display_data"
    }
   ],
   "source": [
    "s.plot.line()"
   ]
  },
  {
   "cell_type": "markdown",
   "id": "0b54f36f",
   "metadata": {},
   "source": [
    "# Next up\n",
    "\n",
    "1. Histograms\n",
    "2. Pie plots\n",
    "\n"
   ]
  },
  {
   "cell_type": "markdown",
   "id": "dc443225",
   "metadata": {},
   "source": [
    "# Histograms\n",
    "\n",
    "Sometimes, I don't want to see the individual data points. Rather, I want to see the *distribution* of those data points. Are they all high? Are they all low? Do they cluster around a particular value?\n",
    "\n",
    "To see this kind of information, we can use a *histogram*. In a histogram, we don't see the individual data points per se -- instead, we see the number of data points that had a particular value.\n",
    "\n",
    "To create a histogram, we divide our entire range of values into 10 equal parts, known as \"bins.\" For temperature, you can imagine dividing the bins into 5-degree ranges, from -10 to 40. (It depends on your data, obviously.) The histogram gives us a bar chart showing us how many times we had a value in each of these ranges."
   ]
  },
  {
   "cell_type": "code",
   "execution_count": 68,
   "id": "648a240c",
   "metadata": {},
   "outputs": [
    {
     "data": {
      "text/plain": [
       "<Axes: ylabel='Frequency'>"
      ]
     },
     "execution_count": 68,
     "metadata": {},
     "output_type": "execute_result"
    },
    {
     "data": {
      "image/png": "[encoded data removed]",
      "text/plain": [
       "<Figure size 640x480 with 1 Axes>"
      ]
     },
     "metadata": {},
     "output_type": "display_data"
    }
   ],
   "source": [
    "s = Series([22, 21, 29, 25, 29, 28, 18, 16, 17, 20, 20],\n",
    "           index = 'Wed Thu Fri Sat Sun Mon Tue Wed Thu Fri Sat'.split(),\n",
    "          name='10-day high temp forecast')\n",
    "\n",
    "s.plot.hist()   # create a histogram!"
   ]
  },
  {
   "cell_type": "markdown",
   "id": "a2710386",
   "metadata": {},
   "source": [
    "# Things to notice\n",
    "\n",
    "- The index of a histogram is *not* the index from our series! Rather, it's the bin markers.\n",
    "- The point of a histogram is not the precise accuracy of how many days will be in each bin. Rather, it's to get a general sense of the data.\n",
    "- Because the height of each bar represents the number of times a value appears in our data set, we can summarize large data sets with histograms and not worry about overwhelming the system."
   ]
  },
  {
   "cell_type": "markdown",
   "id": "d4aaf4b0",
   "metadata": {},
   "source": [
    "# Histogram options\n",
    "\n",
    "1. We can change the number of bins by passing `bins=n` for some value of `n`.\n",
    "2. We can also set the title and color by passing appropriate keyword arguments."
   ]
  },
  {
   "cell_type": "code",
   "execution_count": 73,
   "id": "2b7f8130",
   "metadata": {},
   "outputs": [
    {
     "data": {
      "text/plain": [
       "<Axes: ylabel='Frequency'>"
      ]
     },
     "execution_count": 73,
     "metadata": {},
     "output_type": "execute_result"
    },
    {
     "data": {
      "image/png": "[encoded data removed]",
      "text/plain": [
       "<Figure size 640x480 with 1 Axes>"
      ]
     },
     "metadata": {},
     "output_type": "display_data"
    }
   ],
   "source": [
    "s.plot.hist(bins=20, color='green', grid=True)"
   ]
  },
  {
   "cell_type": "code",
   "execution_count": 70,
   "id": "e75560fe",
   "metadata": {},
   "outputs": [
    {
     "data": {
      "text/plain": [
       "Wed    22\n",
       "Thu    21\n",
       "Fri    29\n",
       "Sat    25\n",
       "Sun    29\n",
       "Mon    28\n",
       "Tue    18\n",
       "Wed    16\n",
       "Thu    17\n",
       "Fri    20\n",
       "Sat    20\n",
       "Name: 10-day high temp forecast, dtype: int64"
      ]
     },
     "execution_count": 70,
     "metadata": {},
     "output_type": "execute_result"
    }
   ],
   "source": [
    "s"
   ]
  },
  {
   "cell_type": "code",
   "execution_count": 71,
   "id": "c4470a80",
   "metadata": {},
   "outputs": [
    {
     "data": {
      "text/plain": [
       "10-day high temp forecast\n",
       "29    2\n",
       "20    2\n",
       "22    1\n",
       "21    1\n",
       "25    1\n",
       "28    1\n",
       "18    1\n",
       "16    1\n",
       "17    1\n",
       "Name: count, dtype: int64"
      ]
     },
     "execution_count": 71,
     "metadata": {},
     "output_type": "execute_result"
    }
   ],
   "source": [
    "s.value_counts()"
   ]
  },
  {
   "cell_type": "markdown",
   "id": "1397cee6",
   "metadata": {},
   "source": [
    "# Exercise: Taxi histograms\n",
    "\n",
    "1. Load the taxi data into a data frame.  We only care about three columns: `passenger_count`, `trip_distance`, and `total_amount`.\n",
    "2. Create a histogram showing the distribution of `passenger_count`.  What can you say about the number of passengers in most taxi rides in our data set?\n",
    "3. Create a histogram showing the distribution of `trip_distance`. What can you say about the distances that people use taxis to travel?\n",
    "4. Create a histogram showing the distribution of `total_amount`. What can you say about the amounts that people pay in NYC taxis?"
   ]
  },
  {
   "cell_type": "code",
   "execution_count": 74,
   "id": "54f962b8",
   "metadata": {},
   "outputs": [],
   "source": [
    "df = pd.read_csv('taxi.csv',\n",
    "                usecols=['passenger_count', 'trip_distance', 'total_amount'])\n",
    "\n"
   ]
  },
  {
   "cell_type": "code",
   "execution_count": 75,
   "id": "eed3de30",
   "metadata": {},
   "outputs": [
    {
     "data": {
      "text/plain": [
       "<Axes: ylabel='Frequency'>"
      ]
     },
     "execution_count": 75,
     "metadata": {},
     "output_type": "execute_result"
    },
    {
     "data": {
      "image/png": "[encoded data removed]",
      "text/plain": [
       "<Figure size 640x480 with 1 Axes>"
      ]
     },
     "metadata": {},
     "output_type": "display_data"
    }
   ],
   "source": [
    "df['passenger_count'].plot.hist()"
   ]
  },
  {
   "cell_type": "code",
   "execution_count": 76,
   "id": "371001f0",
   "metadata": {},
   "outputs": [
    {
     "data": {
      "text/plain": [
       "passenger_count\n",
       "1    0.720772\n",
       "2    0.131313\n",
       "5    0.052005\n",
       "3    0.040604\n",
       "6    0.036904\n",
       "4    0.018202\n",
       "0    0.000200\n",
       "Name: proportion, dtype: float64"
      ]
     },
     "execution_count": 76,
     "metadata": {},
     "output_type": "execute_result"
    }
   ],
   "source": [
    "# I could have gotten similar information with value_counts:\n",
    "\n",
    "df['passenger_count'].value_counts(normalize=True)"
   ]
  },
  {
   "cell_type": "code",
   "execution_count": 80,
   "id": "e0e1e6d2",
   "metadata": {},
   "outputs": [
    {
     "data": {
      "text/plain": [
       "<Axes: ylabel='Frequency'>"
      ]
     },
     "execution_count": 80,
     "metadata": {},
     "output_type": "execute_result"
    },
    {
     "data": {
      "image/png": "[encoded data removed]",
      "text/plain": [
       "<Figure size 640x480 with 1 Axes>"
      ]
     },
     "metadata": {},
     "output_type": "display_data"
    }
   ],
   "source": [
    "df['trip_distance'].plot.hist(bins=100)"
   ]
  },
  {
   "cell_type": "code",
   "execution_count": 86,
   "id": "649783ac",
   "metadata": {},
   "outputs": [
    {
     "data": {
      "text/plain": [
       "trip_distance\n",
       "False    9997\n",
       "True        2\n",
       "Name: count, dtype: int64"
      ]
     },
     "execution_count": 86,
     "metadata": {},
     "output_type": "execute_result"
    }
   ],
   "source": [
    "(df['trip_distance'] > 60).value_counts()"
   ]
  },
  {
   "cell_type": "code",
   "execution_count": 90,
   "id": "d083bb44",
   "metadata": {},
   "outputs": [
    {
     "data": {
      "text/plain": [
       "<Axes: ylabel='Frequency'>"
      ]
     },
     "execution_count": 90,
     "metadata": {},
     "output_type": "execute_result"
    },
    {
     "data": {
      "image/png": "[encoded data removed]",
      "text/plain": [
       "<Figure size 640x480 with 1 Axes>"
      ]
     },
     "metadata": {},
     "output_type": "display_data"
    }
   ],
   "source": [
    "# histogram of trips < 25 miles in length\n",
    "df.loc[df['trip_distance'] < 25, 'trip_distance'].plot.hist()"
   ]
  },
  {
   "cell_type": "code",
   "execution_count": 92,
   "id": "61b4eee9",
   "metadata": {
    "scrolled": true
   },
   "outputs": [
    {
     "data": {
      "text/plain": [
       "<Axes: ylabel='Frequency'>"
      ]
     },
     "execution_count": 92,
     "metadata": {},
     "output_type": "execute_result"
    },
    {
     "data": {
      "image/png": "[encoded data removed]",
      "text/plain": [
       "<Figure size 640x480 with 1 Axes>"
      ]
     },
     "metadata": {},
     "output_type": "display_data"
    }
   ],
   "source": [
    "df['total_amount'].plot.hist(bins=50)"
   ]
  },
  {
   "cell_type": "markdown",
   "id": "0e938493",
   "metadata": {},
   "source": [
    "# What can I do with my plot when I'm done?\n",
    "\n",
    "1. Keep it in Jupyter, and share my Jupyter notebook with other people. (Many organizations have servers with Jupyter on them, for libraries of these sorts of documents.)\n",
    "2. Take a screen shot of that section and then save it.\n",
    "3. The plot is a Matplotlib object that we get back, which we can then save to disk."
   ]
  },
  {
   "cell_type": "code",
   "execution_count": 95,
   "id": "24bff3aa",
   "metadata": {
    "scrolled": true
   },
   "outputs": [
    {
     "data": {
      "image/png": "[encoded data removed]",
      "text/plain": [
       "<Figure size 640x480 with 1 Axes>"
      ]
     },
     "metadata": {},
     "output_type": "display_data"
    }
   ],
   "source": [
    "p = df['total_amount'].plot.hist(bins=50)\n",
    "f = p.get_figure()\n",
    "\n",
    "# From the file extension, Matplotlib's saving facility can save to any normal format\n",
    "\n",
    "f.savefig('myplot.png')\n",
    "f.savefig('myplot.jpg')\n",
    "f.savefig('myplot.pdf')\n",
    "f.savefig('myplot.svg')"
   ]
  },
  {
   "cell_type": "code",
   "execution_count": 96,
   "id": "c5b3e2b0",
   "metadata": {},
   "outputs": [
    {
     "name": "stdout",
     "output_type": "stream",
     "text": [
      "myplot.jpg  myplot.pdf\tmyplot.png  myplot.svg\r\n"
     ]
    }
   ],
   "source": [
    "!ls myplot*"
   ]
  },
  {
   "cell_type": "markdown",
   "id": "0185ec49",
   "metadata": {},
   "source": [
    "# Pie plots\n",
    "\n",
    "A pie plot takes a bunch of numbers, sums them together, and then shows how much of that total is from each value.  "
   ]
  },
  {
   "cell_type": "code",
   "execution_count": 97,
   "id": "9310db3b",
   "metadata": {},
   "outputs": [
    {
     "data": {
      "text/plain": [
       "Wed    22\n",
       "Thu    21\n",
       "Fri    29\n",
       "Sat    25\n",
       "Sun    29\n",
       "Mon    28\n",
       "Tue    18\n",
       "Wed    16\n",
       "Thu    17\n",
       "Fri    20\n",
       "Sat    20\n",
       "Name: 10-day high temp forecast, dtype: int64"
      ]
     },
     "execution_count": 97,
     "metadata": {},
     "output_type": "execute_result"
    }
   ],
   "source": [
    "sales = Series([100, ])"
   ]
  },
  {
   "cell_type": "code",
   "execution_count": null,
   "id": "029575b6",
   "metadata": {},
   "outputs": [],
   "source": []
  }
 ],
 "metadata": {
  "kernelspec": {
   "display_name": "Python 3 (ipykernel)",
   "language": "python",
   "name": "python3"
  },
  "language_info": {
   "codemirror_mode": {
    "name": "ipython",
    "version": 3
   },
   "file_extension": ".py",
   "mimetype": "text/x-python",
   "name": "python",
   "nbconvert_exporter": "python",
   "pygments_lexer": "ipython3",
   "version": "3.11.2"
  }
 },
 "nbformat": 4,
 "nbformat_minor": 5
}

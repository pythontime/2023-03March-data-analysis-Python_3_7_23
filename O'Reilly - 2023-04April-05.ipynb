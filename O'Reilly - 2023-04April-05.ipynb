{
 "cells": [
  {
   "cell_type": "markdown",
   "id": "2421489c",
   "metadata": {},
   "source": [
    "# Agenda: Week five\n",
    "\n",
    "1. Recap and Q&A\n",
    "2. Basic intro to visualization\n",
    "3. Line plots\n",
    "4. Bar plots\n",
    "5. Histograms\n",
    "6. Pie plots\n",
    "7. Scatter plots\n",
    "8. What next?\n",
    "    - What's next for Pandas?\n",
    "    - What's next for you?"
   ]
  },
  {
   "cell_type": "code",
   "execution_count": 1,
   "id": "b76c9cca",
   "metadata": {},
   "outputs": [],
   "source": [
    "import numpy as np\n",
    "import pandas as pd\n",
    "from pandas import Series, DataFrame"
   ]
  },
  {
   "cell_type": "code",
   "execution_count": 2,
   "id": "8afd39e9",
   "metadata": {},
   "outputs": [],
   "source": [
    "df = pd.read_csv('taxi.csv')"
   ]
  },
  {
   "cell_type": "code",
   "execution_count": 3,
   "id": "cad96c80",
   "metadata": {},
   "outputs": [
    {
     "data": {
      "text/html": [
       "<div><div id=52d25c54-d7db-4f6f-a43f-41b886b1424e style=\"display:none; background-color:#9D6CFF; color:white; width:200px; height:30px; padding-left:5px; border-radius:4px; flex-direction:row; justify-content:space-around; align-items:center;\" onmouseover=\"this.style.backgroundColor='#BA9BF8'\" onmouseout=\"this.style.backgroundColor='#9D6CFF'\" onclick=\"window.commands?.execute('create-mitosheet-from-dataframe-output');\">See Full Dataframe in Mito</div> <script> if (window.commands?.hasCommand('create-mitosheet-from-dataframe-output')) document.getElementById('52d25c54-d7db-4f6f-a43f-41b886b1424e').style.display = 'flex' </script> <table border=\"1\" class=\"dataframe\">\n",
       "  <thead>\n",
       "    <tr style=\"text-align: right;\">\n",
       "      <th></th>\n",
       "      <th>VendorID</th>\n",
       "      <th>tpep_pickup_datetime</th>\n",
       "      <th>tpep_dropoff_datetime</th>\n",
       "      <th>passenger_count</th>\n",
       "      <th>trip_distance</th>\n",
       "      <th>pickup_longitude</th>\n",
       "      <th>pickup_latitude</th>\n",
       "      <th>RateCodeID</th>\n",
       "      <th>store_and_fwd_flag</th>\n",
       "      <th>dropoff_longitude</th>\n",
       "      <th>dropoff_latitude</th>\n",
       "      <th>payment_type</th>\n",
       "      <th>fare_amount</th>\n",
       "      <th>extra</th>\n",
       "      <th>mta_tax</th>\n",
       "      <th>tip_amount</th>\n",
       "      <th>tolls_amount</th>\n",
       "      <th>improvement_surcharge</th>\n",
       "      <th>total_amount</th>\n",
       "    </tr>\n",
       "  </thead>\n",
       "  <tbody>\n",
       "    <tr>\n",
       "      <th>0</th>\n",
       "      <td>2</td>\n",
       "      <td>2015-06-02 11:19:29</td>\n",
       "      <td>2015-06-02 11:47:52</td>\n",
       "      <td>1</td>\n",
       "      <td>1.63</td>\n",
       "      <td>-73.954430</td>\n",
       "      <td>40.764141</td>\n",
       "      <td>1</td>\n",
       "      <td>N</td>\n",
       "      <td>-73.974754</td>\n",
       "      <td>40.754093</td>\n",
       "      <td>2</td>\n",
       "      <td>17.0</td>\n",
       "      <td>0.0</td>\n",
       "      <td>0.5</td>\n",
       "      <td>0.00</td>\n",
       "      <td>0.00</td>\n",
       "      <td>0.3</td>\n",
       "      <td>17.80</td>\n",
       "    </tr>\n",
       "    <tr>\n",
       "      <th>1</th>\n",
       "      <td>2</td>\n",
       "      <td>2015-06-02 11:19:30</td>\n",
       "      <td>2015-06-02 11:27:56</td>\n",
       "      <td>1</td>\n",
       "      <td>0.46</td>\n",
       "      <td>-73.971443</td>\n",
       "      <td>40.758942</td>\n",
       "      <td>1</td>\n",
       "      <td>N</td>\n",
       "      <td>-73.978539</td>\n",
       "      <td>40.761909</td>\n",
       "      <td>1</td>\n",
       "      <td>6.5</td>\n",
       "      <td>0.0</td>\n",
       "      <td>0.5</td>\n",
       "      <td>1.00</td>\n",
       "      <td>0.00</td>\n",
       "      <td>0.3</td>\n",
       "      <td>8.30</td>\n",
       "    </tr>\n",
       "    <tr>\n",
       "      <th>2</th>\n",
       "      <td>2</td>\n",
       "      <td>2015-06-02 11:19:31</td>\n",
       "      <td>2015-06-02 11:30:30</td>\n",
       "      <td>1</td>\n",
       "      <td>0.87</td>\n",
       "      <td>-73.978111</td>\n",
       "      <td>40.738434</td>\n",
       "      <td>1</td>\n",
       "      <td>N</td>\n",
       "      <td>-73.990273</td>\n",
       "      <td>40.745438</td>\n",
       "      <td>1</td>\n",
       "      <td>8.0</td>\n",
       "      <td>0.0</td>\n",
       "      <td>0.5</td>\n",
       "      <td>2.20</td>\n",
       "      <td>0.00</td>\n",
       "      <td>0.3</td>\n",
       "      <td>11.00</td>\n",
       "    </tr>\n",
       "    <tr>\n",
       "      <th>3</th>\n",
       "      <td>2</td>\n",
       "      <td>2015-06-02 11:19:31</td>\n",
       "      <td>2015-06-02 11:39:02</td>\n",
       "      <td>1</td>\n",
       "      <td>2.13</td>\n",
       "      <td>-73.945892</td>\n",
       "      <td>40.773529</td>\n",
       "      <td>1</td>\n",
       "      <td>N</td>\n",
       "      <td>-73.971527</td>\n",
       "      <td>40.760330</td>\n",
       "      <td>1</td>\n",
       "      <td>13.5</td>\n",
       "      <td>0.0</td>\n",
       "      <td>0.5</td>\n",
       "      <td>2.86</td>\n",
       "      <td>0.00</td>\n",
       "      <td>0.3</td>\n",
       "      <td>17.16</td>\n",
       "    </tr>\n",
       "    <tr>\n",
       "      <th>4</th>\n",
       "      <td>1</td>\n",
       "      <td>2015-06-02 11:19:32</td>\n",
       "      <td>2015-06-02 11:32:49</td>\n",
       "      <td>1</td>\n",
       "      <td>1.40</td>\n",
       "      <td>-73.979088</td>\n",
       "      <td>40.776772</td>\n",
       "      <td>1</td>\n",
       "      <td>N</td>\n",
       "      <td>-73.982162</td>\n",
       "      <td>40.758999</td>\n",
       "      <td>2</td>\n",
       "      <td>9.5</td>\n",
       "      <td>0.0</td>\n",
       "      <td>0.5</td>\n",
       "      <td>0.00</td>\n",
       "      <td>0.00</td>\n",
       "      <td>0.3</td>\n",
       "      <td>10.30</td>\n",
       "    </tr>\n",
       "    <tr>\n",
       "      <th>5</th>\n",
       "      <td>1</td>\n",
       "      <td>2015-06-02 11:19:33</td>\n",
       "      <td>2015-06-02 11:28:48</td>\n",
       "      <td>1</td>\n",
       "      <td>1.40</td>\n",
       "      <td>-73.944641</td>\n",
       "      <td>40.779465</td>\n",
       "      <td>1</td>\n",
       "      <td>N</td>\n",
       "      <td>-73.961365</td>\n",
       "      <td>40.771561</td>\n",
       "      <td>1</td>\n",
       "      <td>8.0</td>\n",
       "      <td>0.0</td>\n",
       "      <td>0.5</td>\n",
       "      <td>1.75</td>\n",
       "      <td>0.00</td>\n",
       "      <td>0.3</td>\n",
       "      <td>10.55</td>\n",
       "    </tr>\n",
       "    <tr>\n",
       "      <th>6</th>\n",
       "      <td>1</td>\n",
       "      <td>2015-06-02 11:19:34</td>\n",
       "      <td>2015-06-02 11:38:46</td>\n",
       "      <td>1</td>\n",
       "      <td>1.80</td>\n",
       "      <td>-73.992867</td>\n",
       "      <td>40.748211</td>\n",
       "      <td>1</td>\n",
       "      <td>N</td>\n",
       "      <td>-73.969772</td>\n",
       "      <td>40.748459</td>\n",
       "      <td>1</td>\n",
       "      <td>12.5</td>\n",
       "      <td>0.0</td>\n",
       "      <td>0.5</td>\n",
       "      <td>3.00</td>\n",
       "      <td>0.00</td>\n",
       "      <td>0.3</td>\n",
       "      <td>16.30</td>\n",
       "    </tr>\n",
       "    <tr>\n",
       "      <th>7</th>\n",
       "      <td>1</td>\n",
       "      <td>2015-06-02 11:19:35</td>\n",
       "      <td>2015-06-02 12:36:46</td>\n",
       "      <td>4</td>\n",
       "      <td>11.90</td>\n",
       "      <td>-73.863075</td>\n",
       "      <td>40.769253</td>\n",
       "      <td>1</td>\n",
       "      <td>N</td>\n",
       "      <td>-73.986710</td>\n",
       "      <td>40.761307</td>\n",
       "      <td>1</td>\n",
       "      <td>52.5</td>\n",
       "      <td>0.0</td>\n",
       "      <td>0.5</td>\n",
       "      <td>15.00</td>\n",
       "      <td>5.54</td>\n",
       "      <td>0.3</td>\n",
       "      <td>73.84</td>\n",
       "    </tr>\n",
       "    <tr>\n",
       "      <th>8</th>\n",
       "      <td>2</td>\n",
       "      <td>2015-06-02 11:19:36</td>\n",
       "      <td>2015-06-02 11:45:19</td>\n",
       "      <td>1</td>\n",
       "      <td>1.27</td>\n",
       "      <td>-73.991432</td>\n",
       "      <td>40.749306</td>\n",
       "      <td>1</td>\n",
       "      <td>N</td>\n",
       "      <td>-73.985062</td>\n",
       "      <td>40.759525</td>\n",
       "      <td>2</td>\n",
       "      <td>15.0</td>\n",
       "      <td>0.0</td>\n",
       "      <td>0.5</td>\n",
       "      <td>0.00</td>\n",
       "      <td>0.00</td>\n",
       "      <td>0.3</td>\n",
       "      <td>15.80</td>\n",
       "    </tr>\n",
       "    <tr>\n",
       "      <th>9</th>\n",
       "      <td>1</td>\n",
       "      <td>2015-06-02 11:19:38</td>\n",
       "      <td>2015-06-02 11:23:50</td>\n",
       "      <td>1</td>\n",
       "      <td>0.60</td>\n",
       "      <td>-73.970734</td>\n",
       "      <td>40.796207</td>\n",
       "      <td>1</td>\n",
       "      <td>N</td>\n",
       "      <td>-73.977470</td>\n",
       "      <td>40.789509</td>\n",
       "      <td>1</td>\n",
       "      <td>5.0</td>\n",
       "      <td>0.0</td>\n",
       "      <td>0.5</td>\n",
       "      <td>0.50</td>\n",
       "      <td>0.00</td>\n",
       "      <td>0.3</td>\n",
       "      <td>6.30</td>\n",
       "    </tr>\n",
       "  </tbody>\n",
       "</table></div>"
      ],
      "text/plain": [
       "   VendorID tpep_pickup_datetime tpep_dropoff_datetime  passenger_count   \n",
       "0         2  2015-06-02 11:19:29   2015-06-02 11:47:52                1  \\\n",
       "1         2  2015-06-02 11:19:30   2015-06-02 11:27:56                1   \n",
       "2         2  2015-06-02 11:19:31   2015-06-02 11:30:30                1   \n",
       "3         2  2015-06-02 11:19:31   2015-06-02 11:39:02                1   \n",
       "4         1  2015-06-02 11:19:32   2015-06-02 11:32:49                1   \n",
       "5         1  2015-06-02 11:19:33   2015-06-02 11:28:48                1   \n",
       "6         1  2015-06-02 11:19:34   2015-06-02 11:38:46                1   \n",
       "7         1  2015-06-02 11:19:35   2015-06-02 12:36:46                4   \n",
       "8         2  2015-06-02 11:19:36   2015-06-02 11:45:19                1   \n",
       "9         1  2015-06-02 11:19:38   2015-06-02 11:23:50                1   \n",
       "\n",
       "   trip_distance  pickup_longitude  pickup_latitude  RateCodeID   \n",
       "0           1.63        -73.954430        40.764141           1  \\\n",
       "1           0.46        -73.971443        40.758942           1   \n",
       "2           0.87        -73.978111        40.738434           1   \n",
       "3           2.13        -73.945892        40.773529           1   \n",
       "4           1.40        -73.979088        40.776772           1   \n",
       "5           1.40        -73.944641        40.779465           1   \n",
       "6           1.80        -73.992867        40.748211           1   \n",
       "7          11.90        -73.863075        40.769253           1   \n",
       "8           1.27        -73.991432        40.749306           1   \n",
       "9           0.60        -73.970734        40.796207           1   \n",
       "\n",
       "  store_and_fwd_flag  dropoff_longitude  dropoff_latitude  payment_type   \n",
       "0                  N         -73.974754         40.754093             2  \\\n",
       "1                  N         -73.978539         40.761909             1   \n",
       "2                  N         -73.990273         40.745438             1   \n",
       "3                  N         -73.971527         40.760330             1   \n",
       "4                  N         -73.982162         40.758999             2   \n",
       "5                  N         -73.961365         40.771561             1   \n",
       "6                  N         -73.969772         40.748459             1   \n",
       "7                  N         -73.986710         40.761307             1   \n",
       "8                  N         -73.985062         40.759525             2   \n",
       "9                  N         -73.977470         40.789509             1   \n",
       "\n",
       "   fare_amount  extra  mta_tax  tip_amount  tolls_amount   \n",
       "0         17.0    0.0      0.5        0.00          0.00  \\\n",
       "1          6.5    0.0      0.5        1.00          0.00   \n",
       "2          8.0    0.0      0.5        2.20          0.00   \n",
       "3         13.5    0.0      0.5        2.86          0.00   \n",
       "4          9.5    0.0      0.5        0.00          0.00   \n",
       "5          8.0    0.0      0.5        1.75          0.00   \n",
       "6         12.5    0.0      0.5        3.00          0.00   \n",
       "7         52.5    0.0      0.5       15.00          5.54   \n",
       "8         15.0    0.0      0.5        0.00          0.00   \n",
       "9          5.0    0.0      0.5        0.50          0.00   \n",
       "\n",
       "   improvement_surcharge  total_amount  \n",
       "0                    0.3         17.80  \n",
       "1                    0.3          8.30  \n",
       "2                    0.3         11.00  \n",
       "3                    0.3         17.16  \n",
       "4                    0.3         10.30  \n",
       "5                    0.3         10.55  \n",
       "6                    0.3         16.30  \n",
       "7                    0.3         73.84  \n",
       "8                    0.3         15.80  \n",
       "9                    0.3          6.30  "
      ]
     },
     "execution_count": 3,
     "metadata": {},
     "output_type": "execute_result"
    }
   ],
   "source": [
    "df.head(10)"
   ]
  },
  {
   "cell_type": "code",
   "execution_count": 12,
   "id": "daa4a98e",
   "metadata": {
    "scrolled": true
   },
   "outputs": [
    {
     "data": {
      "text/html": [
       "<div><div id=905ca7a5-3b60-4e48-9fd7-66bc722b1a1d style=\"display:none; background-color:#9D6CFF; color:white; width:200px; height:30px; padding-left:5px; border-radius:4px; flex-direction:row; justify-content:space-around; align-items:center;\" onmouseover=\"this.style.backgroundColor='#BA9BF8'\" onmouseout=\"this.style.backgroundColor='#9D6CFF'\" onclick=\"window.commands?.execute('create-mitosheet-from-dataframe-output');\">See Full Dataframe in Mito</div> <script> if (window.commands?.hasCommand('create-mitosheet-from-dataframe-output')) document.getElementById('905ca7a5-3b60-4e48-9fd7-66bc722b1a1d').style.display = 'flex' </script> <table border=\"1\" class=\"dataframe\">\n",
       "  <thead>\n",
       "    <tr style=\"text-align: right;\">\n",
       "      <th></th>\n",
       "      <th>VendorID</th>\n",
       "      <th>tpep_pickup_datetime</th>\n",
       "      <th>tpep_dropoff_datetime</th>\n",
       "      <th>passenger_count</th>\n",
       "      <th>trip_distance</th>\n",
       "      <th>pickup_longitude</th>\n",
       "      <th>pickup_latitude</th>\n",
       "      <th>RateCodeID</th>\n",
       "      <th>store_and_fwd_flag</th>\n",
       "      <th>dropoff_longitude</th>\n",
       "      <th>dropoff_latitude</th>\n",
       "      <th>payment_type</th>\n",
       "      <th>fare_amount</th>\n",
       "      <th>extra</th>\n",
       "      <th>mta_tax</th>\n",
       "      <th>tip_amount</th>\n",
       "      <th>tolls_amount</th>\n",
       "      <th>improvement_surcharge</th>\n",
       "      <th>total_amount</th>\n",
       "    </tr>\n",
       "  </thead>\n",
       "  <tbody>\n",
       "    <tr>\n",
       "      <th>88</th>\n",
       "      <td>2</td>\n",
       "      <td>2015-06-02 11:20:37</td>\n",
       "      <td>2015-06-02 12:35:21</td>\n",
       "      <td>2</td>\n",
       "      <td>23.76</td>\n",
       "      <td>-73.791214</td>\n",
       "      <td>40.645409</td>\n",
       "      <td>1</td>\n",
       "      <td>N</td>\n",
       "      <td>-74.006966</td>\n",
       "      <td>40.724930</td>\n",
       "      <td>1</td>\n",
       "      <td>72.5</td>\n",
       "      <td>0.0</td>\n",
       "      <td>0.5</td>\n",
       "      <td>8.95</td>\n",
       "      <td>11.75</td>\n",
       "      <td>0.3</td>\n",
       "      <td>94.00</td>\n",
       "    </tr>\n",
       "    <tr>\n",
       "      <th>379</th>\n",
       "      <td>2</td>\n",
       "      <td>2015-06-02 11:23:17</td>\n",
       "      <td>2015-06-02 11:55:39</td>\n",
       "      <td>2</td>\n",
       "      <td>16.38</td>\n",
       "      <td>-73.993309</td>\n",
       "      <td>40.729580</td>\n",
       "      <td>2</td>\n",
       "      <td>N</td>\n",
       "      <td>-73.806839</td>\n",
       "      <td>40.653099</td>\n",
       "      <td>1</td>\n",
       "      <td>52.0</td>\n",
       "      <td>0.0</td>\n",
       "      <td>0.5</td>\n",
       "      <td>8.00</td>\n",
       "      <td>0.00</td>\n",
       "      <td>0.3</td>\n",
       "      <td>60.80</td>\n",
       "    </tr>\n",
       "    <tr>\n",
       "      <th>448</th>\n",
       "      <td>2</td>\n",
       "      <td>2015-06-02 11:23:48</td>\n",
       "      <td>2015-06-02 12:14:18</td>\n",
       "      <td>2</td>\n",
       "      <td>15.25</td>\n",
       "      <td>-73.863243</td>\n",
       "      <td>40.769901</td>\n",
       "      <td>1</td>\n",
       "      <td>N</td>\n",
       "      <td>-74.009300</td>\n",
       "      <td>40.708721</td>\n",
       "      <td>1</td>\n",
       "      <td>48.5</td>\n",
       "      <td>0.0</td>\n",
       "      <td>0.5</td>\n",
       "      <td>16.45</td>\n",
       "      <td>5.54</td>\n",
       "      <td>0.3</td>\n",
       "      <td>71.29</td>\n",
       "    </tr>\n",
       "    <tr>\n",
       "      <th>465</th>\n",
       "      <td>2</td>\n",
       "      <td>2015-06-02 11:19:38</td>\n",
       "      <td>2015-06-02 12:13:33</td>\n",
       "      <td>2</td>\n",
       "      <td>11.16</td>\n",
       "      <td>-73.874542</td>\n",
       "      <td>40.774101</td>\n",
       "      <td>1</td>\n",
       "      <td>N</td>\n",
       "      <td>-73.983719</td>\n",
       "      <td>40.744011</td>\n",
       "      <td>1</td>\n",
       "      <td>43.0</td>\n",
       "      <td>0.0</td>\n",
       "      <td>0.5</td>\n",
       "      <td>9.87</td>\n",
       "      <td>5.54</td>\n",
       "      <td>0.3</td>\n",
       "      <td>59.21</td>\n",
       "    </tr>\n",
       "    <tr>\n",
       "      <th>488</th>\n",
       "      <td>2</td>\n",
       "      <td>2015-06-02 11:19:56</td>\n",
       "      <td>2015-06-02 11:46:09</td>\n",
       "      <td>2</td>\n",
       "      <td>10.99</td>\n",
       "      <td>-73.972252</td>\n",
       "      <td>40.763329</td>\n",
       "      <td>1</td>\n",
       "      <td>N</td>\n",
       "      <td>-73.864891</td>\n",
       "      <td>40.770409</td>\n",
       "      <td>1</td>\n",
       "      <td>33.0</td>\n",
       "      <td>0.0</td>\n",
       "      <td>0.5</td>\n",
       "      <td>11.80</td>\n",
       "      <td>5.54</td>\n",
       "      <td>0.3</td>\n",
       "      <td>51.14</td>\n",
       "    </tr>\n",
       "    <tr>\n",
       "      <th>...</th>\n",
       "      <td>...</td>\n",
       "      <td>...</td>\n",
       "      <td>...</td>\n",
       "      <td>...</td>\n",
       "      <td>...</td>\n",
       "      <td>...</td>\n",
       "      <td>...</td>\n",
       "      <td>...</td>\n",
       "      <td>...</td>\n",
       "      <td>...</td>\n",
       "      <td>...</td>\n",
       "      <td>...</td>\n",
       "      <td>...</td>\n",
       "      <td>...</td>\n",
       "      <td>...</td>\n",
       "      <td>...</td>\n",
       "      <td>...</td>\n",
       "      <td>...</td>\n",
       "      <td>...</td>\n",
       "    </tr>\n",
       "    <tr>\n",
       "      <th>9561</th>\n",
       "      <td>2</td>\n",
       "      <td>2015-06-01 00:10:40</td>\n",
       "      <td>2015-06-01 00:35:54</td>\n",
       "      <td>2</td>\n",
       "      <td>13.57</td>\n",
       "      <td>-73.833321</td>\n",
       "      <td>40.761478</td>\n",
       "      <td>1</td>\n",
       "      <td>N</td>\n",
       "      <td>-73.975822</td>\n",
       "      <td>40.673969</td>\n",
       "      <td>1</td>\n",
       "      <td>38.0</td>\n",
       "      <td>0.5</td>\n",
       "      <td>0.5</td>\n",
       "      <td>5.00</td>\n",
       "      <td>0.00</td>\n",
       "      <td>0.3</td>\n",
       "      <td>44.30</td>\n",
       "    </tr>\n",
       "    <tr>\n",
       "      <th>9611</th>\n",
       "      <td>1</td>\n",
       "      <td>2015-06-01 00:11:52</td>\n",
       "      <td>2015-06-01 00:37:49</td>\n",
       "      <td>2</td>\n",
       "      <td>17.20</td>\n",
       "      <td>-73.788208</td>\n",
       "      <td>40.641529</td>\n",
       "      <td>2</td>\n",
       "      <td>N</td>\n",
       "      <td>-73.982460</td>\n",
       "      <td>40.742596</td>\n",
       "      <td>1</td>\n",
       "      <td>52.0</td>\n",
       "      <td>0.0</td>\n",
       "      <td>0.5</td>\n",
       "      <td>11.65</td>\n",
       "      <td>5.54</td>\n",
       "      <td>0.3</td>\n",
       "      <td>69.99</td>\n",
       "    </tr>\n",
       "    <tr>\n",
       "      <th>9692</th>\n",
       "      <td>2</td>\n",
       "      <td>2015-06-01 00:11:07</td>\n",
       "      <td>2015-06-01 00:37:05</td>\n",
       "      <td>2</td>\n",
       "      <td>15.69</td>\n",
       "      <td>-73.789818</td>\n",
       "      <td>40.646782</td>\n",
       "      <td>1</td>\n",
       "      <td>N</td>\n",
       "      <td>-73.960541</td>\n",
       "      <td>40.647797</td>\n",
       "      <td>1</td>\n",
       "      <td>43.0</td>\n",
       "      <td>0.5</td>\n",
       "      <td>0.5</td>\n",
       "      <td>0.00</td>\n",
       "      <td>0.00</td>\n",
       "      <td>0.3</td>\n",
       "      <td>44.30</td>\n",
       "    </tr>\n",
       "    <tr>\n",
       "      <th>9729</th>\n",
       "      <td>1</td>\n",
       "      <td>2015-06-01 00:11:57</td>\n",
       "      <td>2015-06-01 00:52:19</td>\n",
       "      <td>2</td>\n",
       "      <td>19.80</td>\n",
       "      <td>-73.790375</td>\n",
       "      <td>40.644089</td>\n",
       "      <td>2</td>\n",
       "      <td>N</td>\n",
       "      <td>-73.965057</td>\n",
       "      <td>40.805264</td>\n",
       "      <td>1</td>\n",
       "      <td>52.0</td>\n",
       "      <td>0.0</td>\n",
       "      <td>0.5</td>\n",
       "      <td>11.65</td>\n",
       "      <td>5.54</td>\n",
       "      <td>0.3</td>\n",
       "      <td>69.99</td>\n",
       "    </tr>\n",
       "    <tr>\n",
       "      <th>9843</th>\n",
       "      <td>2</td>\n",
       "      <td>2015-06-01 00:12:00</td>\n",
       "      <td>2015-06-01 00:32:09</td>\n",
       "      <td>2</td>\n",
       "      <td>14.55</td>\n",
       "      <td>-73.863228</td>\n",
       "      <td>40.769939</td>\n",
       "      <td>1</td>\n",
       "      <td>N</td>\n",
       "      <td>-73.976227</td>\n",
       "      <td>40.657410</td>\n",
       "      <td>1</td>\n",
       "      <td>39.5</td>\n",
       "      <td>0.5</td>\n",
       "      <td>0.5</td>\n",
       "      <td>10.20</td>\n",
       "      <td>0.00</td>\n",
       "      <td>0.3</td>\n",
       "      <td>51.00</td>\n",
       "    </tr>\n",
       "  </tbody>\n",
       "</table></div>"
      ],
      "text/plain": [
       "      VendorID tpep_pickup_datetime tpep_dropoff_datetime  passenger_count   \n",
       "88           2  2015-06-02 11:20:37   2015-06-02 12:35:21                2  \\\n",
       "379          2  2015-06-02 11:23:17   2015-06-02 11:55:39                2   \n",
       "448          2  2015-06-02 11:23:48   2015-06-02 12:14:18                2   \n",
       "465          2  2015-06-02 11:19:38   2015-06-02 12:13:33                2   \n",
       "488          2  2015-06-02 11:19:56   2015-06-02 11:46:09                2   \n",
       "...        ...                  ...                   ...              ...   \n",
       "9561         2  2015-06-01 00:10:40   2015-06-01 00:35:54                2   \n",
       "9611         1  2015-06-01 00:11:52   2015-06-01 00:37:49                2   \n",
       "9692         2  2015-06-01 00:11:07   2015-06-01 00:37:05                2   \n",
       "9729         1  2015-06-01 00:11:57   2015-06-01 00:52:19                2   \n",
       "9843         2  2015-06-01 00:12:00   2015-06-01 00:32:09                2   \n",
       "\n",
       "      trip_distance  pickup_longitude  pickup_latitude  RateCodeID   \n",
       "88            23.76        -73.791214        40.645409           1  \\\n",
       "379           16.38        -73.993309        40.729580           2   \n",
       "448           15.25        -73.863243        40.769901           1   \n",
       "465           11.16        -73.874542        40.774101           1   \n",
       "488           10.99        -73.972252        40.763329           1   \n",
       "...             ...               ...              ...         ...   \n",
       "9561          13.57        -73.833321        40.761478           1   \n",
       "9611          17.20        -73.788208        40.641529           2   \n",
       "9692          15.69        -73.789818        40.646782           1   \n",
       "9729          19.80        -73.790375        40.644089           2   \n",
       "9843          14.55        -73.863228        40.769939           1   \n",
       "\n",
       "     store_and_fwd_flag  dropoff_longitude  dropoff_latitude  payment_type   \n",
       "88                    N         -74.006966         40.724930             1  \\\n",
       "379                   N         -73.806839         40.653099             1   \n",
       "448                   N         -74.009300         40.708721             1   \n",
       "465                   N         -73.983719         40.744011             1   \n",
       "488                   N         -73.864891         40.770409             1   \n",
       "...                 ...                ...               ...           ...   \n",
       "9561                  N         -73.975822         40.673969             1   \n",
       "9611                  N         -73.982460         40.742596             1   \n",
       "9692                  N         -73.960541         40.647797             1   \n",
       "9729                  N         -73.965057         40.805264             1   \n",
       "9843                  N         -73.976227         40.657410             1   \n",
       "\n",
       "      fare_amount  extra  mta_tax  tip_amount  tolls_amount   \n",
       "88           72.5    0.0      0.5        8.95         11.75  \\\n",
       "379          52.0    0.0      0.5        8.00          0.00   \n",
       "448          48.5    0.0      0.5       16.45          5.54   \n",
       "465          43.0    0.0      0.5        9.87          5.54   \n",
       "488          33.0    0.0      0.5       11.80          5.54   \n",
       "...           ...    ...      ...         ...           ...   \n",
       "9561         38.0    0.5      0.5        5.00          0.00   \n",
       "9611         52.0    0.0      0.5       11.65          5.54   \n",
       "9692         43.0    0.5      0.5        0.00          0.00   \n",
       "9729         52.0    0.0      0.5       11.65          5.54   \n",
       "9843         39.5    0.5      0.5       10.20          0.00   \n",
       "\n",
       "      improvement_surcharge  total_amount  \n",
       "88                      0.3         94.00  \n",
       "379                     0.3         60.80  \n",
       "448                     0.3         71.29  \n",
       "465                     0.3         59.21  \n",
       "488                     0.3         51.14  \n",
       "...                     ...           ...  \n",
       "9561                    0.3         44.30  \n",
       "9611                    0.3         69.99  \n",
       "9692                    0.3         44.30  \n",
       "9729                    0.3         69.99  \n",
       "9843                    0.3         51.00  \n",
       "\n",
       "[106 rows x 19 columns]"
      ]
     },
     "execution_count": 12,
     "metadata": {},
     "output_type": "execute_result"
    }
   ],
   "source": [
    "# I want to find all of the rows where passenger_count is 2 and trip_distance is > 10\n",
    "\n",
    "df.loc[(df['passenger_count'] == 2) &         (df['trip_distance'] > 10)]"
   ]
  },
  {
   "cell_type": "code",
   "execution_count": 13,
   "id": "79b949d1",
   "metadata": {},
   "outputs": [
    {
     "data": {
      "text/html": [
       "<div><div id=c9783eb1-5182-4e39-9636-e0285a2a0d8d style=\"display:none; background-color:#9D6CFF; color:white; width:200px; height:30px; padding-left:5px; border-radius:4px; flex-direction:row; justify-content:space-around; align-items:center;\" onmouseover=\"this.style.backgroundColor='#BA9BF8'\" onmouseout=\"this.style.backgroundColor='#9D6CFF'\" onclick=\"window.commands?.execute('create-mitosheet-from-dataframe-output');\">See Full Dataframe in Mito</div> <script> if (window.commands?.hasCommand('create-mitosheet-from-dataframe-output')) document.getElementById('c9783eb1-5182-4e39-9636-e0285a2a0d8d').style.display = 'flex' </script> <table border=\"1\" class=\"dataframe\">\n",
       "  <thead>\n",
       "    <tr style=\"text-align: right;\">\n",
       "      <th></th>\n",
       "      <th>VendorID</th>\n",
       "      <th>tpep_pickup_datetime</th>\n",
       "      <th>tpep_dropoff_datetime</th>\n",
       "      <th>passenger_count</th>\n",
       "      <th>trip_distance</th>\n",
       "      <th>pickup_longitude</th>\n",
       "      <th>pickup_latitude</th>\n",
       "      <th>RateCodeID</th>\n",
       "      <th>store_and_fwd_flag</th>\n",
       "      <th>dropoff_longitude</th>\n",
       "      <th>dropoff_latitude</th>\n",
       "      <th>payment_type</th>\n",
       "      <th>fare_amount</th>\n",
       "      <th>extra</th>\n",
       "      <th>mta_tax</th>\n",
       "      <th>tip_amount</th>\n",
       "      <th>tolls_amount</th>\n",
       "      <th>improvement_surcharge</th>\n",
       "      <th>total_amount</th>\n",
       "    </tr>\n",
       "  </thead>\n",
       "  <tbody>\n",
       "    <tr>\n",
       "      <th>88</th>\n",
       "      <td>2</td>\n",
       "      <td>2015-06-02 11:20:37</td>\n",
       "      <td>2015-06-02 12:35:21</td>\n",
       "      <td>2</td>\n",
       "      <td>23.76</td>\n",
       "      <td>-73.791214</td>\n",
       "      <td>40.645409</td>\n",
       "      <td>1</td>\n",
       "      <td>N</td>\n",
       "      <td>-74.006966</td>\n",
       "      <td>40.724930</td>\n",
       "      <td>1</td>\n",
       "      <td>72.5</td>\n",
       "      <td>0.0</td>\n",
       "      <td>0.5</td>\n",
       "      <td>8.95</td>\n",
       "      <td>11.75</td>\n",
       "      <td>0.3</td>\n",
       "      <td>94.00</td>\n",
       "    </tr>\n",
       "    <tr>\n",
       "      <th>379</th>\n",
       "      <td>2</td>\n",
       "      <td>2015-06-02 11:23:17</td>\n",
       "      <td>2015-06-02 11:55:39</td>\n",
       "      <td>2</td>\n",
       "      <td>16.38</td>\n",
       "      <td>-73.993309</td>\n",
       "      <td>40.729580</td>\n",
       "      <td>2</td>\n",
       "      <td>N</td>\n",
       "      <td>-73.806839</td>\n",
       "      <td>40.653099</td>\n",
       "      <td>1</td>\n",
       "      <td>52.0</td>\n",
       "      <td>0.0</td>\n",
       "      <td>0.5</td>\n",
       "      <td>8.00</td>\n",
       "      <td>0.00</td>\n",
       "      <td>0.3</td>\n",
       "      <td>60.80</td>\n",
       "    </tr>\n",
       "    <tr>\n",
       "      <th>448</th>\n",
       "      <td>2</td>\n",
       "      <td>2015-06-02 11:23:48</td>\n",
       "      <td>2015-06-02 12:14:18</td>\n",
       "      <td>2</td>\n",
       "      <td>15.25</td>\n",
       "      <td>-73.863243</td>\n",
       "      <td>40.769901</td>\n",
       "      <td>1</td>\n",
       "      <td>N</td>\n",
       "      <td>-74.009300</td>\n",
       "      <td>40.708721</td>\n",
       "      <td>1</td>\n",
       "      <td>48.5</td>\n",
       "      <td>0.0</td>\n",
       "      <td>0.5</td>\n",
       "      <td>16.45</td>\n",
       "      <td>5.54</td>\n",
       "      <td>0.3</td>\n",
       "      <td>71.29</td>\n",
       "    </tr>\n",
       "    <tr>\n",
       "      <th>465</th>\n",
       "      <td>2</td>\n",
       "      <td>2015-06-02 11:19:38</td>\n",
       "      <td>2015-06-02 12:13:33</td>\n",
       "      <td>2</td>\n",
       "      <td>11.16</td>\n",
       "      <td>-73.874542</td>\n",
       "      <td>40.774101</td>\n",
       "      <td>1</td>\n",
       "      <td>N</td>\n",
       "      <td>-73.983719</td>\n",
       "      <td>40.744011</td>\n",
       "      <td>1</td>\n",
       "      <td>43.0</td>\n",
       "      <td>0.0</td>\n",
       "      <td>0.5</td>\n",
       "      <td>9.87</td>\n",
       "      <td>5.54</td>\n",
       "      <td>0.3</td>\n",
       "      <td>59.21</td>\n",
       "    </tr>\n",
       "    <tr>\n",
       "      <th>488</th>\n",
       "      <td>2</td>\n",
       "      <td>2015-06-02 11:19:56</td>\n",
       "      <td>2015-06-02 11:46:09</td>\n",
       "      <td>2</td>\n",
       "      <td>10.99</td>\n",
       "      <td>-73.972252</td>\n",
       "      <td>40.763329</td>\n",
       "      <td>1</td>\n",
       "      <td>N</td>\n",
       "      <td>-73.864891</td>\n",
       "      <td>40.770409</td>\n",
       "      <td>1</td>\n",
       "      <td>33.0</td>\n",
       "      <td>0.0</td>\n",
       "      <td>0.5</td>\n",
       "      <td>11.80</td>\n",
       "      <td>5.54</td>\n",
       "      <td>0.3</td>\n",
       "      <td>51.14</td>\n",
       "    </tr>\n",
       "    <tr>\n",
       "      <th>...</th>\n",
       "      <td>...</td>\n",
       "      <td>...</td>\n",
       "      <td>...</td>\n",
       "      <td>...</td>\n",
       "      <td>...</td>\n",
       "      <td>...</td>\n",
       "      <td>...</td>\n",
       "      <td>...</td>\n",
       "      <td>...</td>\n",
       "      <td>...</td>\n",
       "      <td>...</td>\n",
       "      <td>...</td>\n",
       "      <td>...</td>\n",
       "      <td>...</td>\n",
       "      <td>...</td>\n",
       "      <td>...</td>\n",
       "      <td>...</td>\n",
       "      <td>...</td>\n",
       "      <td>...</td>\n",
       "    </tr>\n",
       "    <tr>\n",
       "      <th>9561</th>\n",
       "      <td>2</td>\n",
       "      <td>2015-06-01 00:10:40</td>\n",
       "      <td>2015-06-01 00:35:54</td>\n",
       "      <td>2</td>\n",
       "      <td>13.57</td>\n",
       "      <td>-73.833321</td>\n",
       "      <td>40.761478</td>\n",
       "      <td>1</td>\n",
       "      <td>N</td>\n",
       "      <td>-73.975822</td>\n",
       "      <td>40.673969</td>\n",
       "      <td>1</td>\n",
       "      <td>38.0</td>\n",
       "      <td>0.5</td>\n",
       "      <td>0.5</td>\n",
       "      <td>5.00</td>\n",
       "      <td>0.00</td>\n",
       "      <td>0.3</td>\n",
       "      <td>44.30</td>\n",
       "    </tr>\n",
       "    <tr>\n",
       "      <th>9611</th>\n",
       "      <td>1</td>\n",
       "      <td>2015-06-01 00:11:52</td>\n",
       "      <td>2015-06-01 00:37:49</td>\n",
       "      <td>2</td>\n",
       "      <td>17.20</td>\n",
       "      <td>-73.788208</td>\n",
       "      <td>40.641529</td>\n",
       "      <td>2</td>\n",
       "      <td>N</td>\n",
       "      <td>-73.982460</td>\n",
       "      <td>40.742596</td>\n",
       "      <td>1</td>\n",
       "      <td>52.0</td>\n",
       "      <td>0.0</td>\n",
       "      <td>0.5</td>\n",
       "      <td>11.65</td>\n",
       "      <td>5.54</td>\n",
       "      <td>0.3</td>\n",
       "      <td>69.99</td>\n",
       "    </tr>\n",
       "    <tr>\n",
       "      <th>9692</th>\n",
       "      <td>2</td>\n",
       "      <td>2015-06-01 00:11:07</td>\n",
       "      <td>2015-06-01 00:37:05</td>\n",
       "      <td>2</td>\n",
       "      <td>15.69</td>\n",
       "      <td>-73.789818</td>\n",
       "      <td>40.646782</td>\n",
       "      <td>1</td>\n",
       "      <td>N</td>\n",
       "      <td>-73.960541</td>\n",
       "      <td>40.647797</td>\n",
       "      <td>1</td>\n",
       "      <td>43.0</td>\n",
       "      <td>0.5</td>\n",
       "      <td>0.5</td>\n",
       "      <td>0.00</td>\n",
       "      <td>0.00</td>\n",
       "      <td>0.3</td>\n",
       "      <td>44.30</td>\n",
       "    </tr>\n",
       "    <tr>\n",
       "      <th>9729</th>\n",
       "      <td>1</td>\n",
       "      <td>2015-06-01 00:11:57</td>\n",
       "      <td>2015-06-01 00:52:19</td>\n",
       "      <td>2</td>\n",
       "      <td>19.80</td>\n",
       "      <td>-73.790375</td>\n",
       "      <td>40.644089</td>\n",
       "      <td>2</td>\n",
       "      <td>N</td>\n",
       "      <td>-73.965057</td>\n",
       "      <td>40.805264</td>\n",
       "      <td>1</td>\n",
       "      <td>52.0</td>\n",
       "      <td>0.0</td>\n",
       "      <td>0.5</td>\n",
       "      <td>11.65</td>\n",
       "      <td>5.54</td>\n",
       "      <td>0.3</td>\n",
       "      <td>69.99</td>\n",
       "    </tr>\n",
       "    <tr>\n",
       "      <th>9843</th>\n",
       "      <td>2</td>\n",
       "      <td>2015-06-01 00:12:00</td>\n",
       "      <td>2015-06-01 00:32:09</td>\n",
       "      <td>2</td>\n",
       "      <td>14.55</td>\n",
       "      <td>-73.863228</td>\n",
       "      <td>40.769939</td>\n",
       "      <td>1</td>\n",
       "      <td>N</td>\n",
       "      <td>-73.976227</td>\n",
       "      <td>40.657410</td>\n",
       "      <td>1</td>\n",
       "      <td>39.5</td>\n",
       "      <td>0.5</td>\n",
       "      <td>0.5</td>\n",
       "      <td>10.20</td>\n",
       "      <td>0.00</td>\n",
       "      <td>0.3</td>\n",
       "      <td>51.00</td>\n",
       "    </tr>\n",
       "  </tbody>\n",
       "</table></div>"
      ],
      "text/plain": [
       "      VendorID tpep_pickup_datetime tpep_dropoff_datetime  passenger_count   \n",
       "88           2  2015-06-02 11:20:37   2015-06-02 12:35:21                2  \\\n",
       "379          2  2015-06-02 11:23:17   2015-06-02 11:55:39                2   \n",
       "448          2  2015-06-02 11:23:48   2015-06-02 12:14:18                2   \n",
       "465          2  2015-06-02 11:19:38   2015-06-02 12:13:33                2   \n",
       "488          2  2015-06-02 11:19:56   2015-06-02 11:46:09                2   \n",
       "...        ...                  ...                   ...              ...   \n",
       "9561         2  2015-06-01 00:10:40   2015-06-01 00:35:54                2   \n",
       "9611         1  2015-06-01 00:11:52   2015-06-01 00:37:49                2   \n",
       "9692         2  2015-06-01 00:11:07   2015-06-01 00:37:05                2   \n",
       "9729         1  2015-06-01 00:11:57   2015-06-01 00:52:19                2   \n",
       "9843         2  2015-06-01 00:12:00   2015-06-01 00:32:09                2   \n",
       "\n",
       "      trip_distance  pickup_longitude  pickup_latitude  RateCodeID   \n",
       "88            23.76        -73.791214        40.645409           1  \\\n",
       "379           16.38        -73.993309        40.729580           2   \n",
       "448           15.25        -73.863243        40.769901           1   \n",
       "465           11.16        -73.874542        40.774101           1   \n",
       "488           10.99        -73.972252        40.763329           1   \n",
       "...             ...               ...              ...         ...   \n",
       "9561          13.57        -73.833321        40.761478           1   \n",
       "9611          17.20        -73.788208        40.641529           2   \n",
       "9692          15.69        -73.789818        40.646782           1   \n",
       "9729          19.80        -73.790375        40.644089           2   \n",
       "9843          14.55        -73.863228        40.769939           1   \n",
       "\n",
       "     store_and_fwd_flag  dropoff_longitude  dropoff_latitude  payment_type   \n",
       "88                    N         -74.006966         40.724930             1  \\\n",
       "379                   N         -73.806839         40.653099             1   \n",
       "448                   N         -74.009300         40.708721             1   \n",
       "465                   N         -73.983719         40.744011             1   \n",
       "488                   N         -73.864891         40.770409             1   \n",
       "...                 ...                ...               ...           ...   \n",
       "9561                  N         -73.975822         40.673969             1   \n",
       "9611                  N         -73.982460         40.742596             1   \n",
       "9692                  N         -73.960541         40.647797             1   \n",
       "9729                  N         -73.965057         40.805264             1   \n",
       "9843                  N         -73.976227         40.657410             1   \n",
       "\n",
       "      fare_amount  extra  mta_tax  tip_amount  tolls_amount   \n",
       "88           72.5    0.0      0.5        8.95         11.75  \\\n",
       "379          52.0    0.0      0.5        8.00          0.00   \n",
       "448          48.5    0.0      0.5       16.45          5.54   \n",
       "465          43.0    0.0      0.5        9.87          5.54   \n",
       "488          33.0    0.0      0.5       11.80          5.54   \n",
       "...           ...    ...      ...         ...           ...   \n",
       "9561         38.0    0.5      0.5        5.00          0.00   \n",
       "9611         52.0    0.0      0.5       11.65          5.54   \n",
       "9692         43.0    0.5      0.5        0.00          0.00   \n",
       "9729         52.0    0.0      0.5       11.65          5.54   \n",
       "9843         39.5    0.5      0.5       10.20          0.00   \n",
       "\n",
       "      improvement_surcharge  total_amount  \n",
       "88                      0.3         94.00  \n",
       "379                     0.3         60.80  \n",
       "448                     0.3         71.29  \n",
       "465                     0.3         59.21  \n",
       "488                     0.3         51.14  \n",
       "...                     ...           ...  \n",
       "9561                    0.3         44.30  \n",
       "9611                    0.3         69.99  \n",
       "9692                    0.3         44.30  \n",
       "9729                    0.3         69.99  \n",
       "9843                    0.3         51.00  \n",
       "\n",
       "[106 rows x 19 columns]"
      ]
     },
     "execution_count": 13,
     "metadata": {},
     "output_type": "execute_result"
    }
   ],
   "source": [
    "# what about the df.query method?\n",
    "\n",
    "df.query('passenger_count == 2 & trip_distance > 10')"
   ]
  },
  {
   "cell_type": "code",
   "execution_count": 14,
   "id": "1103268a",
   "metadata": {},
   "outputs": [
    {
     "name": "stdout",
     "output_type": "stream",
     "text": [
      "334 µs ± 10.5 µs per loop (mean ± std. dev. of 7 runs, 1,000 loops each)\n"
     ]
    }
   ],
   "source": [
    "# which is faster?\n",
    "\n",
    "%timeit df.loc[(df['passenger_count'] == 2) &         (df['trip_distance'] > 10)]"
   ]
  },
  {
   "cell_type": "code",
   "execution_count": 15,
   "id": "3e46fc1b",
   "metadata": {},
   "outputs": [
    {
     "name": "stdout",
     "output_type": "stream",
     "text": [
      "1.12 ms ± 21.9 µs per loop (mean ± std. dev. of 7 runs, 1,000 loops each)\n"
     ]
    }
   ],
   "source": [
    "%timeit df.query('passenger_count == 2 & trip_distance > 10')"
   ]
  },
  {
   "cell_type": "markdown",
   "id": "1ac7ca18",
   "metadata": {},
   "source": [
    "# Summary chart\n",
    "\n",
    "1. `df.query` lets you write your queries in more natural language, treating your column names as variables, and without explicitly creating as many boolean series.\n",
    "2. However, `df.query` can run faster, and also can run more slowly -- you need to check."
   ]
  },
  {
   "cell_type": "code",
   "execution_count": 16,
   "id": "505ae836",
   "metadata": {},
   "outputs": [
    {
     "name": "stdout",
     "output_type": "stream",
     "text": [
      "322 µs ± 29.2 µs per loop (mean ± std. dev. of 7 runs, 1,000 loops each)\n"
     ]
    }
   ],
   "source": [
    "%timeit df.loc[(df['passenger_count'] == 2)]"
   ]
  },
  {
   "cell_type": "code",
   "execution_count": 17,
   "id": "a8d2e145",
   "metadata": {},
   "outputs": [
    {
     "name": "stdout",
     "output_type": "stream",
     "text": [
      "965 µs ± 17.7 µs per loop (mean ± std. dev. of 7 runs, 1,000 loops each)\n"
     ]
    }
   ],
   "source": [
    "%timeit df.query('passenger_count == 2')"
   ]
  },
  {
   "cell_type": "markdown",
   "id": "39ff9768",
   "metadata": {},
   "source": [
    "# Recap of joining\n",
    "\n",
    "If you have two different data frames *with the same index*, then you can create one data frame from the two of them by joining.\n",
    "\n",
    "The syntax is:\n",
    "\n",
    "```python\n",
    "df.join(other_df)\n",
    "```\n",
    "\n",
    "This does what's known in the database world as a \"left inner join,\" meaning that the index of the new dataframe that's returned will reflect `df`, not `other_df`. You'll get a result for each match between `df` and `other_df` on their indexes.\n",
    "\n",
    "If you want to join using columns other than the index, then you can use `set_index` or you can use the `merge` method, which lets you specify the joining column."
   ]
  },
  {
   "cell_type": "markdown",
   "id": "e2423bb4",
   "metadata": {},
   "source": [
    "# Visualization!\n",
    "\n",
    "Visualization is a tool that we can use to understand our data better, even if we understand the numbers already! We can see the relationships among numbers, and can pick out outliers and important points much more easily than just looking at tables.\n",
    "\n",
    "The 900-pound gorilla in the visualization world in Python is known as \"Matplotlib.\" It is super powerful! It can create lots of different types of visualizations!\n",
    "\n",
    "It is also super super hard to learn and to use (in my experience).\n",
    "\n",
    "In my opinion, most people can get away with using the Pandas API to Matplotlib, which is *so* much easier to use. That's what we're going to be doing today.\n",
    "\n",
    "When you plot via Pandas, it's not only easier to work with, but it lets you pass any keyword arguments you want to the back-end Matplotlib. If you know of an option in Matplotlib, just pass it along, and Pandas will do that for you.\n",
    "\n",
    "If you want super sophisticated plots without tearing your hair out, check out Seaborn, which is another wrapper around Matplotlib aimed at having an easy API and beautiful output."
   ]
  },
  {
   "cell_type": "markdown",
   "id": "e7f6c692",
   "metadata": {},
   "source": [
    "# In case it doesn't work for you...\n",
    "\n",
    "Make sure to have Matplotlib installed in your Python environment.\n",
    "\n",
    "On the command line, you'll need to write:\n",
    "\n",
    "    pip3 install -U matplotlib\n",
    "    \n",
    "This means:\n",
    "\n",
    "- Use Python 3 (some people can say `pip` instead)\n",
    "- We want to install a new package\n",
    "- `-U` means that if you have an old version, it's OK to upgrade it\n",
    "- `matplotlib` is the name of the package\n",
    "\n",
    "In Jupyter, you can actually run this if you put an `!` before it at the start of a line.\n",
    "\n",
    "Matplotlib home page: https://matplotlib.org/"
   ]
  },
  {
   "cell_type": "code",
   "execution_count": 18,
   "id": "8c5aefa6",
   "metadata": {
    "scrolled": true
   },
   "outputs": [
    {
     "data": {
      "text/plain": [
       "0     22\n",
       "1     21\n",
       "2     29\n",
       "3     25\n",
       "4     29\n",
       "5     28\n",
       "6     18\n",
       "7     16\n",
       "8     17\n",
       "9     20\n",
       "10    20\n",
       "dtype: int64"
      ]
     },
     "execution_count": 18,
     "metadata": {},
     "output_type": "execute_result"
    }
   ],
   "source": [
    "# let's visualize a series!\n",
    "\n",
    "s = Series([22, 21, 29, 25, 29, 28, 18, 16, 17, 20, 20])\n",
    "s"
   ]
  },
  {
   "cell_type": "code",
   "execution_count": 19,
   "id": "423bf867",
   "metadata": {},
   "outputs": [
    {
     "data": {
      "text/plain": [
       "<Axes: >"
      ]
     },
     "execution_count": 19,
     "metadata": {},
     "output_type": "execute_result"
    },
    {
     "data": {
      "image/png": "[encoded data removed]",
      "text/plain": [
       "<Figure size 640x480 with 1 Axes>"
      ]
     },
     "metadata": {},
     "output_type": "display_data"
    }
   ],
   "source": [
    "# I can create a \"line plot\" very easily with my series using .plot.line()\n",
    "# notice that .plot is an object on which we then invoke the .line() method\n",
    "# you can, in theory, invoke .plot as a method, and it defaults to line plots,\n",
    "# but I strongly prefer not to do that.\n",
    "\n",
    "s.plot.line()"
   ]
  },
  {
   "cell_type": "markdown",
   "id": "5a29d324",
   "metadata": {},
   "source": [
    "# We got a line plot! Some thoughts:\n",
    "\n",
    "- The y axis represents our data points\n",
    "- Each data point is plotted on our plot\n",
    "- The x axis represents the index to our series\n",
    "- Pandas automatically focuses our axes on the data that it has\n",
    "- If you're in Jupyter, then it displays the plot inline, alongside your code, data, and documentation!"
   ]
  },
  {
   "cell_type": "markdown",
   "id": "42694465",
   "metadata": {},
   "source": [
    "# Customizing the plot"
   ]
  },
  {
   "cell_type": "code",
   "execution_count": 20,
   "id": "e312e0ae",
   "metadata": {},
   "outputs": [
    {
     "data": {
      "text/plain": [
       "<Axes: title={'center': 'My amazing plot'}>"
      ]
     },
     "execution_count": 20,
     "metadata": {},
     "output_type": "execute_result"
    },
    {
     "data": {
      "image/png": "[encoded data removed]",
      "text/plain": [
       "<Figure size 640x480 with 1 Axes>"
      ]
     },
     "metadata": {},
     "output_type": "display_data"
    }
   ],
   "source": [
    "# set a title by passing title='a string'\n",
    "\n",
    "s.plot.line(title='My amazing plot')"
   ]
  },
  {
   "cell_type": "code",
   "execution_count": 21,
   "id": "97c54222",
   "metadata": {},
   "outputs": [
    {
     "data": {
      "text/plain": [
       "<Axes: >"
      ]
     },
     "execution_count": 21,
     "metadata": {},
     "output_type": "execute_result"
    },
    {
     "data": {
      "image/png": "[encoded data removed]",
      "text/plain": [
       "<Figure size 640x480 with 1 Axes>"
      ]
     },
     "metadata": {},
     "output_type": "display_data"
    }
   ],
   "source": [
    "# set the color by passing color='a color string'\n",
    "# color string can be a color name, if it's a simple/standard color name\n",
    "\n",
    "s.plot.line(color='orange')"
   ]
  },
  {
   "cell_type": "code",
   "execution_count": 22,
   "id": "1a9aad4f",
   "metadata": {},
   "outputs": [
    {
     "data": {
      "text/plain": [
       "<Axes: >"
      ]
     },
     "execution_count": 22,
     "metadata": {},
     "output_type": "execute_result"
    },
    {
     "data": {
      "image/png": "[encoded data removed]",
      "text/plain": [
       "<Figure size 640x480 with 1 Axes>"
      ]
     },
     "metadata": {},
     "output_type": "display_data"
    }
   ],
   "source": [
    "# I can also pass a 6-hex digit color, same as we use in Web colors\n",
    "# RRGGBB -- each of red, green, and blue gets two hex digits, from 0 - F.\n",
    "# (if you're not familiar with hexadecimal counting, it's 0-9 then a-f)\n",
    "\n",
    "s.plot.line(color='#ff0000') # all red, no green, no blue"
   ]
  },
  {
   "cell_type": "code",
   "execution_count": 23,
   "id": "e1e9b81e",
   "metadata": {},
   "outputs": [
    {
     "data": {
      "text/plain": [
       "<Axes: >"
      ]
     },
     "execution_count": 23,
     "metadata": {},
     "output_type": "execute_result"
    },
    {
     "data": {
      "image/png": "[encoded data removed]",
      "text/plain": [
       "<Figure size 640x480 with 1 Axes>"
      ]
     },
     "metadata": {},
     "output_type": "display_data"
    }
   ],
   "source": [
    "s.plot.line(color='#aaaa00') # some red, some green, no blue"
   ]
  },
  {
   "cell_type": "code",
   "execution_count": 26,
   "id": "7c888f71",
   "metadata": {},
   "outputs": [
    {
     "data": {
      "text/plain": [
       "<Axes: >"
      ]
     },
     "execution_count": 26,
     "metadata": {},
     "output_type": "execute_result"
    },
    {
     "data": {
      "image/png": "[encoded data removed]",
      "text/plain": [
       "<Figure size 640x480 with 1 Axes>"
      ]
     },
     "metadata": {},
     "output_type": "display_data"
    }
   ],
   "source": [
    "s.plot.line(color='#00cccc') # no red, some green, some blue"
   ]
  },
  {
   "cell_type": "code",
   "execution_count": 27,
   "id": "27894a05",
   "metadata": {},
   "outputs": [
    {
     "data": {
      "text/plain": [
       "<Axes: >"
      ]
     },
     "execution_count": 27,
     "metadata": {},
     "output_type": "execute_result"
    },
    {
     "data": {
      "image/png": "[encoded data removed]",
      "text/plain": [
       "<Figure size 640x480 with 1 Axes>"
      ]
     },
     "metadata": {},
     "output_type": "display_data"
    }
   ],
   "source": [
    "s.plot.line(color='#12ab34') # some red, more blue, some green"
   ]
  },
  {
   "cell_type": "code",
   "execution_count": 28,
   "id": "e318d921",
   "metadata": {},
   "outputs": [
    {
     "data": {
      "text/plain": [
       "<Axes: >"
      ]
     },
     "execution_count": 28,
     "metadata": {},
     "output_type": "execute_result"
    },
    {
     "data": {
      "image/png": "[encoded data removed]",
      "text/plain": [
       "<Figure size 640x480 with 1 Axes>"
      ]
     },
     "metadata": {},
     "output_type": "display_data"
    }
   ],
   "source": [
    "# do we really need a legend indicating what the line means? Maybe?\n",
    "\n",
    "s.plot.line(legend=True)"
   ]
  },
  {
   "cell_type": "code",
   "execution_count": 30,
   "id": "1d769937",
   "metadata": {},
   "outputs": [],
   "source": [
    "s.name = 'Temp'    #if you want something to show up in the legend, set the name of the series"
   ]
  },
  {
   "cell_type": "code",
   "execution_count": 31,
   "id": "16a53c9e",
   "metadata": {},
   "outputs": [
    {
     "data": {
      "text/plain": [
       "<Axes: >"
      ]
     },
     "execution_count": 31,
     "metadata": {},
     "output_type": "execute_result"
    },
    {
     "data": {
      "image/png": "[encoded data removed]",
      "text/plain": [
       "<Figure size 640x480 with 1 Axes>"
      ]
     },
     "metadata": {},
     "output_type": "display_data"
    }
   ],
   "source": [
    "s.plot.line(legend=True)"
   ]
  },
  {
   "cell_type": "code",
   "execution_count": 32,
   "id": "948fed26",
   "metadata": {},
   "outputs": [
    {
     "data": {
      "text/plain": [
       "<Axes: title={'center': 'My amazing plot'}>"
      ]
     },
     "execution_count": 32,
     "metadata": {},
     "output_type": "execute_result"
    },
    {
     "data": {
      "image/png": "[encoded data removed]",
      "text/plain": [
       "<Figure size 300x300 with 1 Axes>"
      ]
     },
     "metadata": {},
     "output_type": "display_data"
    }
   ],
   "source": [
    "s.plot.line(title='My amazing plot',\n",
    "           color='#12ab34',\n",
    "           legend=True,\n",
    "           figsize=(3, 3))   # 3 inches x 3 inches"
   ]
  },
  {
   "cell_type": "code",
   "execution_count": 33,
   "id": "abfaf0fc",
   "metadata": {},
   "outputs": [
    {
     "name": "stdout",
     "output_type": "stream",
     "text": [
      "Help on method line in module pandas.plotting._core:\n",
      "\n",
      "line(x=None, y=None, **kwargs) -> 'PlotAccessor' method of pandas.plotting._core.PlotAccessor instance\n",
      "    Plot Series or DataFrame as lines.\n",
      "    \n",
      "    This function is useful to plot lines using DataFrame's values\n",
      "    as coordinates.\n",
      "    \n",
      "    Parameters\n",
      "    ----------\n",
      "    x : label or position, optional\n",
      "        Allows plotting of one column versus another. If not specified,\n",
      "        the index of the DataFrame is used.\n",
      "    y : label or position, optional\n",
      "        Allows plotting of one column versus another. If not specified,\n",
      "        all numerical columns are used.\n",
      "    color : str, array-like, or dict, optional\n",
      "        The color for each of the DataFrame's columns. Possible values are:\n",
      "    \n",
      "        - A single color string referred to by name, RGB or RGBA code,\n",
      "            for instance 'red' or '#a98d19'.\n",
      "    \n",
      "        - A sequence of color strings referred to by name, RGB or RGBA\n",
      "            code, which will be used for each column recursively. For\n",
      "            instance ['green','yellow'] each column's line will be filled in\n",
      "            green or yellow, alternatively. If there is only a single column to\n",
      "            be plotted, then only the first color from the color list will be\n",
      "            used.\n",
      "    \n",
      "        - A dict of the form {column name : color}, so that each column will be\n",
      "            colored accordingly. For example, if your columns are called `a` and\n",
      "            `b`, then passing {'a': 'green', 'b': 'red'} will color lines for\n",
      "            column `a` in green and lines for column `b` in red.\n",
      "    \n",
      "        .. versionadded:: 1.1.0\n",
      "    \n",
      "    **kwargs\n",
      "        Additional keyword arguments are documented in\n",
      "        :meth:`DataFrame.plot`.\n",
      "    \n",
      "    Returns\n",
      "    -------\n",
      "    matplotlib.axes.Axes or np.ndarray of them\n",
      "        An ndarray is returned with one :class:`matplotlib.axes.Axes`\n",
      "        per column when ``subplots=True``.\n",
      "    \n",
      "            See Also\n",
      "            --------\n",
      "            matplotlib.pyplot.plot : Plot y versus x as lines and/or markers.\n",
      "    \n",
      "            Examples\n",
      "            --------\n",
      "    \n",
      "            .. plot::\n",
      "                :context: close-figs\n",
      "    \n",
      "                >>> s = pd.Series([1, 3, 2])\n",
      "                >>> s.plot.line()\n",
      "                <AxesSubplot: ylabel='Density'>\n",
      "    \n",
      "            .. plot::\n",
      "                :context: close-figs\n",
      "    \n",
      "                The following example shows the populations for some animals\n",
      "                over the years.\n",
      "    \n",
      "                >>> df = pd.DataFrame({\n",
      "                ...    'pig': [20, 18, 489, 675, 1776],\n",
      "                ...    'horse': [4, 25, 281, 600, 1900]\n",
      "                ...    }, index=[1990, 1997, 2003, 2009, 2014])\n",
      "                >>> lines = df.plot.line()\n",
      "    \n",
      "            .. plot::\n",
      "               :context: close-figs\n",
      "    \n",
      "               An example with subplots, so an array of axes is returned.\n",
      "    \n",
      "               >>> axes = df.plot.line(subplots=True)\n",
      "               >>> type(axes)\n",
      "               <class 'numpy.ndarray'>\n",
      "    \n",
      "            .. plot::\n",
      "               :context: close-figs\n",
      "    \n",
      "               Let's repeat the same example, but specifying colors for\n",
      "               each column (in this case, for each animal).\n",
      "    \n",
      "               >>> axes = df.plot.line(\n",
      "               ...     subplots=True, color={\"pig\": \"pink\", \"horse\": \"#742802\"}\n",
      "               ... )\n",
      "    \n",
      "            .. plot::\n",
      "                :context: close-figs\n",
      "    \n",
      "                The following example shows the relationship between both\n",
      "                populations.\n",
      "    \n",
      "                >>> lines = df.plot.line(x='pig', y='horse')\n",
      "\n"
     ]
    }
   ],
   "source": [
    "help(s.plot.line)"
   ]
  },
  {
   "cell_type": "code",
   "execution_count": 34,
   "id": "89472ac4",
   "metadata": {},
   "outputs": [
    {
     "data": {
      "text/plain": [
       "0     22\n",
       "1     21\n",
       "2     29\n",
       "3     25\n",
       "4     29\n",
       "5     28\n",
       "6     18\n",
       "7     16\n",
       "8     17\n",
       "9     20\n",
       "10    20\n",
       "Name: Temp, dtype: int64"
      ]
     },
     "execution_count": 34,
     "metadata": {},
     "output_type": "execute_result"
    }
   ],
   "source": [
    "s"
   ]
  },
  {
   "cell_type": "code",
   "execution_count": 36,
   "id": "e34ecfc3",
   "metadata": {},
   "outputs": [
    {
     "data": {
      "text/plain": [
       "<Axes: title={'center': 'My amazing plot'}>"
      ]
     },
     "execution_count": 36,
     "metadata": {},
     "output_type": "execute_result"
    },
    {
     "data": {
      "image/png": "[encoded data removed]",
      "text/plain": [
       "<Figure size 500x500 with 1 Axes>"
      ]
     },
     "metadata": {},
     "output_type": "display_data"
    }
   ],
   "source": [
    "# let's set the index of our series to be day names\n",
    "\n",
    "s.index = 'Wed Thu Fri Sat Sun Mon Tue Wed Thu Fri Sat'.split()\n",
    "\n",
    "s.plot.line(title='My amazing plot',\n",
    "           color='#12ab34',\n",
    "           legend=True,\n",
    "           figsize=(5, 5))   # 3 inches x 3 inches"
   ]
  },
  {
   "cell_type": "markdown",
   "id": "77ab527c",
   "metadata": {},
   "source": [
    "# Warning\n",
    "\n",
    "If you make a line plot (or many other types of plots), Pandas will try to plot every single value in the series. This means that if you have 1m data points, it will try to plot all 1m of them, which will (a) take a long time (b) use lots of memory (c) be very ugly.\n",
    "\n",
    "Make sure that you have a reasonable number of data points before plotting."
   ]
  },
  {
   "cell_type": "code",
   "execution_count": 40,
   "id": "ab869fef",
   "metadata": {},
   "outputs": [
    {
     "ename": "SyntaxError",
     "evalue": "invalid syntax. Perhaps you forgot a comma? (3162961555.py, line 4)",
     "output_type": "error",
     "traceback": [
      "\u001b[0;36m  Cell \u001b[0;32mIn [40], line 4\u001b[0;36m\u001b[0m\n\u001b[0;31m    style='-o'\u001b[0m\n\u001b[0m          ^\u001b[0m\n\u001b[0;31mSyntaxError\u001b[0m\u001b[0;31m:\u001b[0m invalid syntax. Perhaps you forgot a comma?\n"
     ]
    }
   ],
   "source": [
    "s.index = 'Wed Thu Fri Sat Sun Mon Tue Wed Thu Fri Sat'.split()\n",
    "\n",
    "s.plot.line(title='My amazing plot',\n",
    "            style='-o'\n",
    "           color='#12ab34',\n",
    "           legend=True,\n",
    "           figsize=(5, 5),\n",
    "           grid=True)"
   ]
  },
  {
   "cell_type": "code",
   "execution_count": null,
   "id": "c77f6acd",
   "metadata": {},
   "outputs": [],
   "source": []
  }
 ],
 "metadata": {
  "kernelspec": {
   "display_name": "Python 3 (ipykernel)",
   "language": "python",
   "name": "python3"
  },
  "language_info": {
   "codemirror_mode": {
    "name": "ipython",
    "version": 3
   },
   "file_extension": ".py",
   "mimetype": "text/x-python",
   "name": "python",
   "nbconvert_exporter": "python",
   "pygments_lexer": "ipython3",
   "version": "3.11.2"
  }
 },
 "nbformat": 4,
 "nbformat_minor": 5
}
